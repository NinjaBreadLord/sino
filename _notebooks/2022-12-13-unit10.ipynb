{
 "cells": [
  {
   "cell_type": "markdown",
   "metadata": {},
   "source": [
    "# Unit 10 - Recursion\n",
    "\n",
    "- toc: false\n",
    "- badges: true\n",
    "- comments: true\n",
    "- author: Samuel\n",
    "- categories: [fastpages, CB]\n",
    "- image: images/picture.jpg\n",
    "\n",
    "\n"
   ]
  },
  {
   "cell_type": "markdown",
   "metadata": {},
   "source": [
    "## Vocab\n",
    "### recursive methods\n",
    "- are methods that call themselves over and over\n",
    "- the parts are a base call and recursive call\n",
    "- eventually, the base case will be reached, stopping recursion\n",
    "- recursive methods hve call stack that checks how many times a recursive function is called"
   ]
  },
  {
   "cell_type": "code",
   "execution_count": 2,
   "metadata": {
    "vscode": {
     "languageId": "java"
    }
   },
   "outputs": [
    {
     "data": {
      "text/plain": [
       "4"
      ]
     },
     "execution_count": 2,
     "metadata": {},
     "output_type": "execute_result"
    }
   ],
   "source": [
    "public static int multiply(int a, int b) {\n",
    "    if (b==0) {\n",
    "        return 0;\n",
    "    }\n",
    "    else {\n",
    "        return multiply(a, b - 1 ) + a; \n",
    "    }\n",
    "}\n",
    "multiply(2,2);"
   ]
  },
  {
   "cell_type": "markdown",
   "metadata": {},
   "source": [
    "### Binary search\n",
    "- halves an array over and over until a value is found\n",
    "- this is more efficient than linear search"
   ]
  },
  {
   "cell_type": "code",
   "execution_count": 4,
   "metadata": {
    "vscode": {
     "languageId": "java"
    }
   },
   "outputs": [
    {
     "name": "stdout",
     "output_type": "stream",
     "text": [
      "Element found at index 3\n"
     ]
    }
   ],
   "source": [
    "import java.util.*;\n",
    "\n",
    "class Main {\n",
    "\n",
    "    int binarySearch(int arr[], int l, int r, int x)\n",
    "    {\n",
    " \n",
    "        if (r >= l && l <= arr.length - 1) {\n",
    " \n",
    "            int mid = l + (r - l) / 2;\n",
    " \n",
    "            if (arr[mid] == x)\n",
    "                return mid;\n",
    "\n",
    "            if (arr[mid] > x)\n",
    "                return binarySearch(arr, l, mid - 1, x);\n",
    " \n",
    "            return binarySearch(arr, mid + 1, r, x);\n",
    "        }\n",
    " \n",
    "        return -1;\n",
    "    }\n",
    " \n",
    "    public static void main(String args[])\n",
    "    {\n",
    "\n",
    "        Main ob = new Main();\n",
    "\n",
    "        int arr[] = { 2, 3, 4, 10, 40 };\n",
    "\n",
    "        int n = arr.length;\n",
    "\n",
    "        int x = 10;\n",
    " \n",
    "        int result = ob.binarySearch(arr, 0, n - 1, x);\n",
    " \n",
    "        if (result == -1)\n",
    "\n",
    "            System.out.println(\"Element not present\");\n",
    "\n",
    "        else\n",
    " \n",
    "            System.out.println(\"Element found at index \"\n",
    "                               + result);\n",
    "    }\n",
    "}\n",
    "GFG.main(null);"
   ]
  },
  {
   "cell_type": "markdown",
   "metadata": {},
   "source": [
    "## Linear recursion\n",
    "- function that only makes one call to itself everytime func runs\n"
   ]
  },
  {
   "cell_type": "code",
   "execution_count": 7,
   "metadata": {
    "vscode": {
     "languageId": "java"
    }
   },
   "outputs": [
    {
     "data": {
      "text/plain": [
       "120"
      ]
     },
     "execution_count": 7,
     "metadata": {},
     "output_type": "execute_result"
    }
   ],
   "source": [
    "int factorial (int n) { //ex of linear\n",
    "    if (n==0) {\n",
    "        return 1;\n",
    "    }\n",
    "    return n* factorial (n-1); \n",
    "}\n",
    "factorial(5);"
   ]
  },
  {
   "cell_type": "markdown",
   "metadata": {},
   "source": [
    "## Selection sort\n",
    "- finds minimum element from the unsorted and put it at the end of the sorted"
   ]
  },
  {
   "cell_type": "code",
   "execution_count": 10,
   "metadata": {
    "vscode": {
     "languageId": "java"
    }
   },
   "outputs": [
    {
     "name": "stdout",
     "output_type": "stream",
     "text": [
      "Sorted array\n",
      "2 5 14 41 90 \n"
     ]
    }
   ],
   "source": [
    "import java.io.*;\n",
    "public class Main\n",
    "{\n",
    "    void sort(int arr[])\n",
    "    {\n",
    "        int n = arr.length;\n",
    " \n",
    "        for (int i = 0; i < n-1; i++)\n",
    "        {\n",
    "            \n",
    "            int min_idx = i;\n",
    "            for (int j = i+1; j < n; j++)\n",
    "                if (arr[j] < arr[min_idx])\n",
    "                    min_idx = j;\n",
    " \n",
    "            int temp = arr[min_idx];\n",
    "            arr[min_idx] = arr[i];\n",
    "            arr[i] = temp;\n",
    "        }\n",
    "    }\n",
    " \n",
    "    void printArray(int arr[])\n",
    "    {\n",
    "        int n = arr.length;\n",
    "        for (int i=0; i<n; ++i)\n",
    "            System.out.print(arr[i]+\" \");\n",
    "        System.out.println();\n",
    "    }\n",
    "\n",
    "    public static void main(String args[])\n",
    "    {\n",
    "        Main ob = new Main();\n",
    "        int arr[] = {5,14,2,90,41};\n",
    "        ob.sort(arr);\n",
    "        System.out.println(\"Sorted array\");\n",
    "        ob.printArray(arr);\n",
    "    }\n",
    "}\n",
    "Main.main(null);"
   ]
  },
  {
   "cell_type": "markdown",
   "metadata": {},
   "source": [
    "## Merge Sort\n",
    "- used to sort arraylists\n",
    "- splits array into 2 halves, calls itself, then merges them, to do this, the merge function is used "
   ]
  },
  {
   "cell_type": "code",
   "execution_count": 12,
   "metadata": {
    "vscode": {
     "languageId": "java"
    }
   },
   "outputs": [
    {
     "name": "stdout",
     "output_type": "stream",
     "text": [
      "Given Array\n",
      "12 11 13 5 6 7 \n",
      "\n",
      "Sorted array\n",
      "5 6 7 11 12 13 \n"
     ]
    }
   ],
   "source": [
    "class MergeSort {\n",
    "    void merge(int arr[], int l, int m, int r)\n",
    "    {\n",
    "        int n1 = m - l + 1;\n",
    "        int n2 = r - m;\n",
    " \n",
    "        int L[] = new int[n1];\n",
    "        int R[] = new int[n2];\n",
    " \n",
    "        for (int i = 0; i < n1; ++i)\n",
    "            L[i] = arr[l + i];\n",
    "        for (int j = 0; j < n2; ++j)\n",
    "            R[j] = arr[m + 1 + j];\n",
    " \n",
    "        int i = 0, j = 0;\n",
    " \n",
    "        int k = l;\n",
    "        while (i < n1 && j < n2) {\n",
    "            if (L[i] <= R[j]) {\n",
    "                arr[k] = L[i];\n",
    "                i++;\n",
    "            }\n",
    "            else {\n",
    "                arr[k] = R[j];\n",
    "                j++;\n",
    "            }\n",
    "            k++;\n",
    "        }\n",
    "\n",
    "        while (i < n1) {\n",
    "            arr[k] = L[i];\n",
    "            i++;\n",
    "            k++;\n",
    "        }\n",
    "\n",
    "        while (j < n2) {\n",
    "            arr[k] = R[j];\n",
    "            j++;\n",
    "            k++;\n",
    "        }\n",
    "    }\n",
    " \n",
    "    void sort(int arr[], int l, int r)\n",
    "    {\n",
    "        if (l < r) {\n",
    "            int m = l + (r - l) / 2;\n",
    "\n",
    "            sort(arr, l, m);\n",
    "            sort(arr, m + 1, r);\n",
    "\n",
    "            merge(arr, l, m, r);\n",
    "        }\n",
    "    }\n",
    " \n",
    "    static void printArray(int arr[])\n",
    "    {\n",
    "        int n = arr.length;\n",
    "        for (int i = 0; i < n; ++i)\n",
    "            System.out.print(arr[i] + \" \");\n",
    "        System.out.println();\n",
    "    }\n",
    "\n",
    "    public static void main(String args[])\n",
    "    {\n",
    "        int arr[] = { 12, 11, 13, 5, 6, 7 };\n",
    " \n",
    "        System.out.println(\"Given Array\");\n",
    "        printArray(arr);\n",
    " \n",
    "        MergeSort ob = new MergeSort();\n",
    "        ob.sort(arr, 0, arr.length - 1);\n",
    " \n",
    "        System.out.println(\"\\nSorted array\");\n",
    "        printArray(arr);\n",
    "    }\n",
    "}\n",
    "MergeSort.main(null);"
   ]
  }
 ],
 "metadata": {
  "kernelspec": {
   "display_name": "Java",
   "language": "java",
   "name": "java"
  },
  "language_info": {
   "codemirror_mode": "java",
   "file_extension": ".jshell",
   "mimetype": "text/x-java-source",
   "name": "Java",
   "pygments_lexer": "java",
   "version": "17.0.5+8-Ubuntu-2ubuntu120.04"
  },
  "orig_nbformat": 4,
  "vscode": {
   "interpreter": {
    "hash": "916dbcbb3f70747c44a77c7bcd40155683ae19c65e1c03b4aa3499c5328201f1"
   }
  }
 },
 "nbformat": 4,
 "nbformat_minor": 2
}
