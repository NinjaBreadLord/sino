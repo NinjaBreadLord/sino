{
 "cells": [
  {
   "cell_type": "markdown",
   "metadata": {},
   "source": [
    "# csa vocab\n",
    "\n",
    "- toc: false\n",
    "- badges: true\n",
    "- comments: true\n",
    "- author: Samuel\n",
    "- categories: [fastpages, CB]\n",
    "- image: images/picture.jpg\n",
    "\n",
    "\n"
   ]
  },
  {
   "cell_type": "markdown",
   "metadata": {},
   "source": [
    "### Casting, specifically for Division"
   ]
  },
  {
   "cell_type": "markdown",
   "metadata": {},
   "source": [
    "* Change a variable’s type, so for example changing an int to a double or vice versa"
   ]
  },
  {
   "cell_type": "code",
   "execution_count": 5,
   "metadata": {
    "vscode": {
     "languageId": "java"
    }
   },
   "outputs": [
    {
     "name": "stdout",
     "output_type": "stream",
     "text": [
      "dividing with integer(also truncating): 0.0\n",
      "dividing with double: 0.8928571428571429\n"
     ]
    }
   ],
   "source": [
    "int num1 = 50;\n",
    "int num2 = 56;\n",
    "double round;\n",
    "double intaverage = num1 / num2;\n",
    "double doubaverage = (double)num1 / num2;\n",
    "System.out.println(\"dividing with integer(also truncating): \" + intaverage);\n",
    "System.out.println(\"dividing with double: \" + doubaverage);"
   ]
  },
  {
   "cell_type": "markdown",
   "metadata": {},
   "source": [
    "### Casting, specifically for Truncating or Rounding"
   ]
  },
  {
   "cell_type": "markdown",
   "metadata": {},
   "source": [
    "* Truncate by changing a double to an int, this removes everything after the decimal\n",
    "* A trick to round with casting is to change a double to an int, but before doing this, add .5 if a positive integer and subtract .5 if a negative integer\n"
   ]
  },
  {
   "cell_type": "markdown",
   "metadata": {},
   "source": [
    "### Wrapper Classes, why wrap int, double. Show examples"
   ]
  },
  {
   "cell_type": "markdown",
   "metadata": {},
   "source": [
    "* Wrapper classes allow converting primitives into objects and vice versa, which allows java to be object oriented, as primitives aren’t an object by default\n",
    "* Someone may use a wrapper class on int to convert it to an object as they contain many methods to deal with an int value like converting it to a string representation, this is the same for doubles\n"
   ]
  },
  {
   "cell_type": "markdown",
   "metadata": {},
   "source": [
    "### Concatenation"
   ]
  },
  {
   "cell_type": "markdown",
   "metadata": {},
   "source": [
    "* Concatenation is combining 2+ strings to make a string using either the + or += operator or the concat() method\n",
    "* concat() is immutable, so you need to set it to a string\n",
    "so a.concat() wouldn't work, but a = a.concat() would\n",
    "* to concatenate multiple data types, you need to use + and not concat method, os this would allow concating a string and a integer for example\n"
   ]
  },
  {
   "cell_type": "code",
   "execution_count": 18,
   "metadata": {
    "vscode": {
     "languageId": "java"
    }
   },
   "outputs": [
    {
     "name": "stdout",
     "output_type": "stream",
     "text": [
      "20 20\n",
      "concat 20 and 2 together:  20 2\n",
      "concat a string and integer:  2020\n"
     ]
    }
   ],
   "source": [
    "\n",
    "public class Main{  \n",
    "    public static void main(String args[]){  \n",
    "    int a=20;  \n",
    "    Integer i=Integer.valueOf(a);//converting int into Integer  \n",
    "    String string = i.toString(); //converting the Integer to a string, this doesn't work with the primitive\n",
    "    String string1 = \" 2\";\n",
    "    String string2 = string.concat(string1); //using concat\n",
    "    String otherdata = string+a;\n",
    "    System.out.println(a+\" \"+i);  \n",
    "    System.out.println(\"concat 20 and 2 together: \"  +\" \" +string2);\n",
    "    System.out.println(\"concat a string and integer: \"  +\" \" +otherdata);\n",
    "    }}  \n",
    "Main.main(null);"
   ]
  },
  {
   "cell_type": "markdown",
   "metadata": {},
   "source": [
    "### Math Class"
   ]
  },
  {
   "cell_type": "markdown",
   "metadata": {},
   "source": [
    "* java math class provides many math methods that allow finding different things, such as a max or min function\n",
    "* math.random will return a number between 0.0 and 1.0, or you can multiply it to get 1 to 100 (seen in code)"
   ]
  },
  {
   "cell_type": "code",
   "execution_count": 19,
   "metadata": {
    "vscode": {
     "languageId": "java"
    }
   },
   "outputs": [
    {
     "name": "stdout",
     "output_type": "stream",
     "text": [
      "6\n",
      "46\n",
      "11\n",
      "25\n",
      "93\n"
     ]
    }
   ],
   "source": [
    "for (int i = 0; i <5; i++) {\n",
    "    int randomNum = (int)(Math.random() * 101);\n",
    "    System.out.println(randomNum);\n",
    "}"
   ]
  },
  {
   "cell_type": "markdown",
   "metadata": {},
   "source": [
    "### Compound Boolean Expression"
   ]
  },
  {
   "cell_type": "markdown",
   "metadata": {},
   "source": [
    "* this includes using the &&, ||, and ! operators, "
   ]
  },
  {
   "cell_type": "code",
   "execution_count": 22,
   "metadata": {
    "vscode": {
     "languageId": "java"
    }
   },
   "outputs": [
    {
     "name": "stdout",
     "output_type": "stream",
     "text": [
      "Score is in the range 0-100\n"
     ]
    }
   ],
   "source": [
    "public class TestNum\n",
    "{\n",
    "   public static void main(String[] args)\n",
    "   {\n",
    "     int score = 10; \n",
    "     if (score < 0 || score > 100)\n",
    "     {\n",
    "         System.out.println(\"Score has an illegal value.\");\n",
    "     }\n",
    "     if (score >= 0 && score <= 100)\n",
    "     {\n",
    "         System.out.println(\"Score is in the range 0-100\");\n",
    "     }\n",
    "     if (score != 10) {\n",
    "        System.out.println(\"pick a different score\");\n",
    "     }\n",
    "\n",
    "   }\n",
    "}\n",
    "TestNum.main(null)"
   ]
  },
  {
   "cell_type": "markdown",
   "metadata": {},
   "source": [
    "### Truth Tables"
   ]
  },
  {
   "cell_type": "markdown",
   "metadata": {},
   "source": [
    "* define boolean function by choosing value for each possible value of arguments, use truth table to do so\n"
   ]
  },
  {
   "cell_type": "markdown",
   "metadata": {},
   "source": [
    "![truthtable](images/truthtables.PNG \"truth table\")"
   ]
  },
  {
   "cell_type": "markdown",
   "metadata": {},
   "source": [
    "### De Morgan's Law"
   ]
  },
  {
   "cell_type": "markdown",
   "metadata": {},
   "source": [
    "* the complement of the union of two sets A and B is equal to the intersection of the complement of the sets A and B\n",
    "* !(a && b) is equivalent to !a || !b\n",
    "* !(a || b) is equivalent to !a && !b"
   ]
  },
  {
   "cell_type": "code",
   "execution_count": null,
   "metadata": {
    "vscode": {
     "languageId": "java"
    }
   },
   "outputs": [],
   "source": [
    "if (!(true && false) == ((!true)||(!false))) {\n",
    "    System.out.print(\"these statements are equivalent\");\n",
    "}\n",
    "else {\n",
    "    System.out.print(\"not the same\");\n",
    "}"
   ]
  },
  {
   "cell_type": "markdown",
   "metadata": {},
   "source": [
    "### Comparing Numbers"
   ]
  },
  {
   "cell_type": "markdown",
   "metadata": {},
   "source": [
    "* can compare numbers using the equals method\n",
    "* can compare numbers using compare method\n",
    "* operators such as <, >, == can be used"
   ]
  },
  {
   "cell_type": "code",
   "execution_count": 25,
   "metadata": {
    "vscode": {
     "languageId": "java"
    }
   },
   "outputs": [
    {
     "name": "stdout",
     "output_type": "stream",
     "text": [
      "Both x and y are equal\n",
      "x and y are equal\n"
     ]
    }
   ],
   "source": [
    "Integer x = 0;\n",
    "Integer y = 0;\n",
    "if(x.equals(y)) {\n",
    "            System.out.println(\"Both x and y are equal\");\n",
    "}\n",
    "else {\n",
    "            System.out.println(\"x and y are not equal\");\n",
    "}\n",
    "\n",
    "int comp = Integer.compare(x, y);\n",
    "if(comp>0) {\n",
    "    System.out.println(\"x is greater than y\");\n",
    "}else if (comp<0){\n",
    "    System.out.println(\"x is less than y\");\n",
    "}else{\n",
    "     System.out.println(\"x and y are equal\");\n",
    "}"
   ]
  },
  {
   "cell_type": "markdown",
   "metadata": {},
   "source": [
    "### Comparing Strings"
   ]
  },
  {
   "cell_type": "markdown",
   "metadata": {},
   "source": [
    "* can use equals method to compare two strings based on content in string\n",
    "* equalsIgnoreCase method compares two strings no matter the case "
   ]
  },
  {
   "cell_type": "code",
   "execution_count": 30,
   "metadata": {
    "vscode": {
     "languageId": "java"
    }
   },
   "outputs": [
    {
     "name": "stdout",
     "output_type": "stream",
     "text": [
      "false\n",
      "true\n"
     ]
    }
   ],
   "source": [
    "String string = \"Sdsad\";\n",
    "String string1 = \"sdsad\";\n",
    "System.out.println(string.equals(string1));\n",
    "System.out.println(string.equalsIgnoreCase(string1));"
   ]
  },
  {
   "cell_type": "markdown",
   "metadata": {},
   "source": [
    "### Comparing Objects"
   ]
  },
  {
   "cell_type": "markdown",
   "metadata": {},
   "source": [
    "* equals and hashCode methods can be used to compare objects\n",
    "* equals method compares equality of two objects"
   ]
  },
  {
   "cell_type": "code",
   "execution_count": 34,
   "metadata": {
    "vscode": {
     "languageId": "java"
    }
   },
   "outputs": [
    {
     "name": "stdout",
     "output_type": "stream",
     "text": [
      "false\n"
     ]
    }
   ],
   "source": [
    "\n",
    "import java.io.*;\n",
    " \n",
    "class Pet {\n",
    "\n",
    "    String name;\n",
    "    int age;\n",
    "    String breed;\n",
    " \n",
    "\n",
    "    Pet(String name, int age, String breed)\n",
    "    {\n",
    "        this.name = name;\n",
    "        this.age = age;\n",
    "        this.breed = breed;\n",
    "    }\n",
    "}\n",
    "\n",
    "public class Main {\n",
    " \n",
    "    public static void main(String args[])\n",
    "    {\n",
    " \n",
    "        Pet dog1 = new Pet(\"Snow\", 3, \"German Shepherd\");\n",
    "        Pet cat = new Pet(\"Jack\", 2, \"Tabby\");\n",
    "        Pet dog2 = new Pet(\"Snow\", 3, \"German Shepherd\");\n",
    " \n",
    "        System.out.println(dog1.equals(dog2));\n",
    "    }\n",
    "}\n",
    "\n",
    "Main.main(null);"
   ]
  },
  {
   "cell_type": "markdown",
   "metadata": {},
   "source": [
    "### for loop, enhanced loop "
   ]
  },
  {
   "cell_type": "markdown",
   "metadata": {},
   "source": [
    "* enhanced for loops are easier to use and errors will usually happen less, as you don't have to manage steps by themselves, but for loops allows you to control everything about looping\n",
    "* for loops you can change by how many steps it iterates and if it goes backwards or forwards\n",
    "* enhanced for loops will just go forward and increment its steps by 1\n"
   ]
  },
  {
   "cell_type": "markdown",
   "metadata": {},
   "source": [
    "### while loop versus do while loop"
   ]
  },
  {
   "cell_type": "markdown",
   "metadata": {},
   "source": [
    "* while loops are loos that keep continuing until a boolean isn't met anymore\n",
    "* do while loops are the same as while loops except for the loop checking for the conditions after checking a statement"
   ]
  },
  {
   "cell_type": "markdown",
   "metadata": {},
   "source": [
    "### nested loops"
   ]
  },
  {
   "cell_type": "markdown",
   "metadata": {},
   "source": [
    "* a nested loop is a loop inside of another loop"
   ]
  },
  {
   "cell_type": "code",
   "execution_count": 36,
   "metadata": {
    "vscode": {
     "languageId": "java"
    }
   },
   "outputs": [
    {
     "name": "stdout",
     "output_type": "stream",
     "text": [
      "Week: 1\n",
      "  Day: 1\n",
      "  Day: 2\n",
      "  Day: 3\n",
      "  Day: 4\n",
      "  Day: 5\n",
      "  Day: 6\n",
      "  Day: 7\n",
      "Week: 2\n",
      "  Day: 1\n",
      "  Day: 2\n",
      "  Day: 3\n",
      "  Day: 4\n",
      "  Day: 5\n",
      "  Day: 6\n",
      "  Day: 7\n",
      "Week: 3\n",
      "  Day: 1\n",
      "  Day: 2\n",
      "  Day: 3\n",
      "  Day: 4\n",
      "  Day: 5\n",
      "  Day: 6\n",
      "  Day: 7\n"
     ]
    }
   ],
   "source": [
    "class Main {\n",
    "    public static void main(String[] args) {\n",
    "  \n",
    "      int weeks = 3;\n",
    "      int days = 7;\n",
    "  \n",
    "      \n",
    "      for (int i = 1; i <= weeks; ++i) {\n",
    "        System.out.println(\"Week: \" + i);\n",
    "  \n",
    "  \n",
    "        for (int j = 1; j <= days; ++j) {\n",
    "          System.out.println(\"  Day: \" + j);\n",
    "        }\n",
    "      }\n",
    "    }\n",
    "  }\n",
    "  Main.main(null);"
   ]
  },
  {
   "cell_type": "markdown",
   "metadata": {},
   "source": [
    "### Creating a Class"
   ]
  },
  {
   "cell_type": "markdown",
   "metadata": {},
   "source": [
    "* a class is an object constructor or something used to make objects\n",
    "* use the keyword class to create a class\n",
    "* classes can have more than one class, which is called a nested class\n",
    "* for the outside class, only public, abstract, strictfp, and final can be used to modify class, but inside, private, protected, and static can be used"
   ]
  }
 ],
 "metadata": {
  "kernelspec": {
   "display_name": "Java",
   "language": "java",
   "name": "java"
  },
  "language_info": {
   "codemirror_mode": "java",
   "file_extension": ".jshell",
   "mimetype": "text/x-java-source",
   "name": "Java",
   "pygments_lexer": "java",
   "version": "17.0.5+8-Ubuntu-2ubuntu120.04"
  },
  "orig_nbformat": 4
 },
 "nbformat": 4,
 "nbformat_minor": 2
}
