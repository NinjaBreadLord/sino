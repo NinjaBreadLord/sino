{
 "cells": [
  {
   "cell_type": "markdown",
   "metadata": {},
   "source": [
    "# Unit 5 Blog Classes\n",
    "\n",
    "- toc: false\n",
    "- badges: true\n",
    "- comments: true\n",
    "- author: Samuel\n",
    "- categories: [fastpages, pbl]\n",
    "- image: images/picture.jpg\n",
    "\n",
    "\n",
    "Classes HW"
   ]
  },
  {
   "cell_type": "markdown",
   "metadata": {},
   "source": [
    "classes are used to make objects and they have instance variables, constructors, methods, accessors/getters, mutators/setters, tester, objects"
   ]
  },
  {
   "cell_type": "markdown",
   "metadata": {},
   "source": [
    "### methods"
   ]
  },
  {
   "cell_type": "markdown",
   "metadata": {},
   "source": [
    "methods can tell what an object to do "
   ]
  },
  {
   "cell_type": "code",
   "execution_count": 1,
   "metadata": {
    "vscode": {
     "languageId": "java"
    }
   },
   "outputs": [],
   "source": [
    "public static void main​(String[] args){\n",
    "    \n",
    "}"
   ]
  },
  {
   "cell_type": "markdown",
   "metadata": {},
   "source": [
    "### access modifiers"
   ]
  },
  {
   "cell_type": "markdown",
   "metadata": {},
   "source": [
    "* public, can be accessed outside the class\n",
    "* private can only be called in the class "
   ]
  },
  {
   "cell_type": "markdown",
   "metadata": {},
   "source": [
    "### Constructors"
   ]
  },
  {
   "cell_type": "markdown",
   "metadata": {},
   "source": [
    "* initialize instance variable, set initial state of object by setting initial values\n",
    "* A constructor initializes an object, a constructor has no return value because it is not actually used by the code, instead it simply initializes the object.\n"
   ]
  },
  {
   "cell_type": "code",
   "execution_count": 2,
   "metadata": {
    "vscode": {
     "languageId": "java"
    }
   },
   "outputs": [
    {
     "name": "stdout",
     "output_type": "stream",
     "text": [
      "5\n"
     ]
    }
   ],
   "source": [
    "public class Main {\n",
    "    int x;\n",
    "  \n",
    "   \n",
    "    public Main() { // constructor\n",
    "      x = 5; \n",
    "    }\n",
    "  \n",
    "    public static void main(String[] args) {\n",
    "      Main myObj = new Main(); \n",
    "      System.out.println(myObj.x); \n",
    "    }\n",
    "  }\n",
    "Main.main(null)  "
   ]
  },
  {
   "cell_type": "markdown",
   "metadata": {},
   "source": [
    "### Accessor Method"
   ]
  },
  {
   "cell_type": "markdown",
   "metadata": {},
   "source": [
    "* lets objects outside of class get values of instance variables/ static variables\n",
    "* has return type of string, int, long"
   ]
  },
  {
   "cell_type": "code",
   "execution_count": null,
   "metadata": {
    "vscode": {
     "languageId": "java"
    }
   },
   "outputs": [],
   "source": [
    "public String getVariable(){\n",
    "\n",
    "}"
   ]
  },
  {
   "cell_type": "markdown",
   "metadata": {},
   "source": [
    "### Mutator Method"
   ]
  },
  {
   "cell_type": "markdown",
   "metadata": {},
   "source": [
    "* void method that changes value of instance/static variable, don't return value\n",
    "* modify instance variables"
   ]
  },
  {
   "cell_type": "markdown",
   "metadata": {},
   "source": [
    "### this Keyword"
   ]
  },
  {
   "cell_type": "markdown",
   "metadata": {},
   "source": [
    "“This” refers to an object within a constructor, used in setters to set variables/parameters. "
   ]
  },
  {
   "cell_type": "code",
   "execution_count": 4,
   "metadata": {
    "vscode": {
     "languageId": "java"
    }
   },
   "outputs": [],
   "source": [
    "public class CheckingAccount{\n",
    "    private int balance;\n",
    "    \n",
    "\n",
    "    public void setBalance(int newBalance){\n",
    "      this.balance = newBalance;\n",
    "    }\n",
    "  }"
   ]
  },
  {
   "cell_type": "markdown",
   "metadata": {},
   "source": [
    "### Creating a Class"
   ]
  },
  {
   "cell_type": "markdown",
   "metadata": {},
   "source": [
    "* a class is an object constructor or something used to make objects\n",
    "* use the keyword class to create a class\n",
    "* classes can have more than one class, which is called a nested class\n",
    "* for the outside class, only public, abstract, strictfp, and final can be used to modify class, but inside, private, protected, and static can be used"
   ]
  },
  {
   "cell_type": "markdown",
   "metadata": {},
   "source": [
    "### Static variables, Class variables"
   ]
  },
  {
   "cell_type": "markdown",
   "metadata": {},
   "source": [
    "Static variables/Class variables  are variables once declared and initialized becoming a global variable, used for the runtime of the entire program. You cannot change them"
   ]
  },
  {
   "cell_type": "markdown",
   "metadata": {},
   "source": [
    "### main method, tester methods"
   ]
  },
  {
   "cell_type": "markdown",
   "metadata": {},
   "source": [
    "Main/tester method is used to test a class with a specific input to validate its working efficiency. "
   ]
  },
  {
   "cell_type": "code",
   "execution_count": 5,
   "metadata": {
    "vscode": {
     "languageId": "java"
    }
   },
   "outputs": [
    {
     "name": "stdout",
     "output_type": "stream",
     "text": [
      "Development average salary:1000.0\n"
     ]
    }
   ],
   "source": [
    "public class Employee {\n",
    "\n",
    "    private static double salary; //static variable\n",
    " \n",
    "    public static final String DEPARTMENT = \"Development \";\n",
    " \n",
    "    public static void main(String args[]) { //main method\n",
    "       salary = 1000;\n",
    "       System.out.println(DEPARTMENT + \"average salary:\" + salary);\n",
    "    }\n",
    " }\n",
    " Employee.main(null);"
   ]
  },
  {
   "cell_type": "markdown",
   "metadata": {},
   "source": [
    "### Inheritance, extends"
   ]
  },
  {
   "cell_type": "markdown",
   "metadata": {},
   "source": [
    "Inheritance/extends takes aspects of an existing class and replicates it within another class using the extends method, simplifying code by a lot. "
   ]
  },
  {
   "cell_type": "code",
   "execution_count": 6,
   "metadata": {
    "vscode": {
     "languageId": "java"
    }
   },
   "outputs": [
    {
     "name": "stdout",
     "output_type": "stream",
     "text": [
      "car\n",
      "Ford Mustang\n"
     ]
    }
   ],
   "source": [
    "class Vehicle {\n",
    "    protected String brand = \"Ford\";         \n",
    "    public void honk() {                     \n",
    "      System.out.println(\"car\");\n",
    "    }\n",
    "  }\n",
    "  \n",
    "  class Car extends Vehicle { //extends vehicle class\n",
    "    private String modelName = \"Mustang\";    \n",
    "    public static void main(String[] args) {\n",
    "  \n",
    "     \n",
    "      Car myCar = new Car();\n",
    "  \n",
    "      \n",
    "      myCar.honk();\n",
    "  \n",
    "      \n",
    "      System.out.println(myCar.brand + \" \" + myCar.modelName);\n",
    "    }\n",
    "  }\n",
    "  Car.main(null);"
   ]
  },
  {
   "cell_type": "markdown",
   "metadata": {},
   "source": [
    "### Subclass constructor, super Keyword"
   ]
  },
  {
   "cell_type": "markdown",
   "metadata": {},
   "source": [
    "A subclass constructor forms after extending a previous class, and using the super(); method will take a method and replicate it in the new class. \n"
   ]
  },
  {
   "cell_type": "code",
   "execution_count": 7,
   "metadata": {
    "vscode": {
     "languageId": "java"
    }
   },
   "outputs": [
    {
     "name": "stdout",
     "output_type": "stream",
     "text": [
      "dog\n",
      "cat\n"
     ]
    }
   ],
   "source": [
    "class Animal {\n",
    "    public void animalSound() {\n",
    "      System.out.println(\"dog\");\n",
    "    }\n",
    "  }\n",
    "  \n",
    "  class Dog extends Animal { \n",
    "    public void animalSound() {\n",
    "      super.animalSound(); // Calls superclass method\n",
    "      System.out.println(\"cat\");\n",
    "    }\n",
    "  }\n",
    "  \n",
    "  public class Main {\n",
    "    public static void main(String args[]) {\n",
    "      Animal myDog = new Dog(); \n",
    "      myDog.animalSound(); \n",
    "    }\n",
    "  }\n",
    "\n",
    "Main.main(null);  "
   ]
  },
  {
   "cell_type": "markdown",
   "metadata": {},
   "source": [
    "### access modifiers"
   ]
  },
  {
   "cell_type": "markdown",
   "metadata": {},
   "source": [
    "* Public access modifiers are accessible from anywhere in any class or program in Java, no restrictions\n",
    "* Protected classes are used when you want to access the class within the package, subclasses. Can use extends to it to access. \n",
    "* Private access modifiers are the least accessible; only accessible within the class itself. \n"
   ]
  },
  {
   "cell_type": "markdown",
   "metadata": {},
   "source": [
    "private"
   ]
  },
  {
   "cell_type": "code",
   "execution_count": 8,
   "metadata": {
    "vscode": {
     "languageId": "java"
    }
   },
   "outputs": [
    {
     "ename": "CompilationException",
     "evalue": "",
     "output_type": "error",
     "traceback": [
      "\u001b[1m\u001b[30m|   \u001b[1m\u001b[30m        \u001b[0m\u001b[1m\u001b[30m\u001b[41mobj.display\u001b[0m\u001b[1m\u001b[30m();\u001b[0m",
      "\u001b[1m\u001b[31mdisplay() has private access in A\u001b[0m",
      ""
     ]
    }
   ],
   "source": [
    "class A\n",
    "{\n",
    "private void display()\n",
    "    {\n",
    "        System.out.println(\"text\");\n",
    "    }\n",
    "}\n",
    " \n",
    "class B\n",
    "{\n",
    "public static void main(String args[])\n",
    "    {\n",
    "        A obj = new A();\n",
    "        obj.display();\n",
    "    }\n",
    "}\n",
    "B.main(null);"
   ]
  },
  {
   "cell_type": "markdown",
   "metadata": {},
   "source": [
    "protected "
   ]
  },
  {
   "cell_type": "code",
   "execution_count": 9,
   "metadata": {
    "vscode": {
     "languageId": "java"
    }
   },
   "outputs": [
    {
     "name": "stdout",
     "output_type": "stream",
     "text": [
      "text\n"
     ]
    }
   ],
   "source": [
    "public class A\n",
    "{\n",
    "protected void display()\n",
    "    {\n",
    "        System.out.println(\"text\");\n",
    "    }\n",
    "}\n",
    "class B extends A\n",
    "{\n",
    "public static void main(String args[])\n",
    "{\n",
    "    B obj = new B();\n",
    "    obj.display();\n",
    "}\n",
    "     \n",
    "}\n",
    "B.main(null);"
   ]
  },
  {
   "cell_type": "markdown",
   "metadata": {},
   "source": [
    "public"
   ]
  },
  {
   "cell_type": "code",
   "execution_count": 10,
   "metadata": {
    "vscode": {
     "languageId": "java"
    }
   },
   "outputs": [
    {
     "name": "stdout",
     "output_type": "stream",
     "text": [
      "text\n"
     ]
    }
   ],
   "source": [
    "public class A\n",
    "{\n",
    "public void display()\n",
    "    {\n",
    "        System.out.println(\"text\");\n",
    "    }\n",
    "}\n",
    "class B {\n",
    "    public static void main(String args[])\n",
    "    {\n",
    "        A obj = new A();\n",
    "        obj.display();\n",
    "    }\n",
    "}\n",
    "B.main(null);"
   ]
  },
  {
   "cell_type": "markdown",
   "metadata": {},
   "source": [
    "HW"
   ]
  },
  {
   "cell_type": "code",
   "execution_count": null,
   "metadata": {
    "vscode": {
     "languageId": "java"
    }
   },
   "outputs": [],
   "source": [
    "public class StepTracker {\n",
    "    private int days;\n",
    "    private int activeDays;\n",
    "    private int totalSteps;\n",
    "    private int minActive;\n",
    "\n",
    "    public StepTracker(int m) {\n",
    "        minActive = m;\n",
    "        days = 0;\n",
    "        activeDays = 0;\n",
    "        totalSteps = 0;\n",
    "    }\n",
    "\n",
    "    public int activeDays() {\n",
    "        return activeDays;\n",
    "    }\n",
    "\n",
    "    public double averageSteps() {\n",
    "        if (days == 0) {\n",
    "            return 0.0;\n",
    "        }\n",
    "        return (double) totalSteps / days;\n",
    "    }\n",
    "\n",
    "    public void addDailySteps(int steps) {\n",
    "        days++;\n",
    "        totalSteps += steps;\n",
    "        if (steps >= minActive) {\n",
    "            activeDays++;\n",
    "        }\n",
    "    }\n",
    "}\n"
   ]
  }
 ],
 "metadata": {
  "kernelspec": {
   "display_name": "Java",
   "language": "java",
   "name": "java"
  },
  "language_info": {
   "codemirror_mode": "java",
   "file_extension": ".jshell",
   "mimetype": "text/x-java-source",
   "name": "Java",
   "pygments_lexer": "java",
   "version": "17.0.5+8-Ubuntu-2ubuntu120.04"
  },
  "orig_nbformat": 4,
  "vscode": {
   "interpreter": {
    "hash": "863d47b76f95099498eadc0e891b45c2a8f7fe2283e4ed57552a2b8995c301bf"
   }
  }
 },
 "nbformat": 4,
 "nbformat_minor": 2
}
