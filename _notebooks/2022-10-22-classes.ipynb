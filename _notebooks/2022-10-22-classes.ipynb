{
 "cells": [
  {
   "cell_type": "markdown",
   "metadata": {},
   "source": [
    "# Classes HW\n",
    "\n",
    "- toc: false\n",
    "- badges: true\n",
    "- comments: true\n",
    "- author: Samuel\n",
    "- categories: [fastpages, CB, HW]\n",
    "- image: images/picture.jpg\n",
    "\n",
    "\n",
    "Classes HW"
   ]
  },
  {
   "cell_type": "code",
   "execution_count": null,
   "metadata": {},
   "outputs": [],
   "source": [
    "public class StepTracker {\n",
    "    private int days;\n",
    "    private int activeDays;\n",
    "    private int totalSteps;\n",
    "    private int minActive;\n",
    "\n",
    "    public StepTracker(int m) {\n",
    "        minActive = m;\n",
    "        days = 0;\n",
    "        activeDays = 0;\n",
    "        totalSteps = 0;\n",
    "    }\n",
    "\n",
    "    public int activeDays() {\n",
    "        return activeDays;\n",
    "    }\n",
    "\n",
    "    public double averageSteps() {\n",
    "        if (days == 0) {\n",
    "            return 0.0;\n",
    "        }\n",
    "        return (double) totalSteps / days;\n",
    "    }\n",
    "\n",
    "    public void addDailySteps(int steps) {\n",
    "        days++;\n",
    "        totalSteps += steps;\n",
    "        if (steps >= minActive) {\n",
    "            activeDays++;\n",
    "        }\n",
    "    }\n",
    "}\n"
   ]
  }
 ],
 "metadata": {
  "kernelspec": {
   "display_name": "Java",
   "language": "java",
   "name": "java"
  },
  "language_info": {
   "codemirror_mode": "java",
   "file_extension": ".jshell",
   "mimetype": "text/x-java-source",
   "name": "java",
   "pygments_lexer": "java",
   "version": "11.0.16+8-post-Ubuntu-0ubuntu120.04"
  },
  "orig_nbformat": 4
 },
 "nbformat": 4,
 "nbformat_minor": 2
}
