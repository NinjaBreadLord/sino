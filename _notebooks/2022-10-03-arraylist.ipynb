{
 "cells": [
  {
   "cell_type": "markdown",
   "metadata": {},
   "source": [
    "# Array List Notebook\n",
    "\n",
    "- toc: false\n",
    "- badges: true\n",
    "- comments: true\n",
    "- author: Samuel\n",
    "- categories: [fastpages, CB]\n",
    "- image: images/picture.jpg\n",
    "\n",
    "\n",
    "Array List Notebook"
   ]
  },
  {
   "cell_type": "code",
   "execution_count": 6,
   "metadata": {},
   "outputs": [
    {
     "name": "stdout",
     "output_type": "stream",
     "text": [
      "Students List: [Samuel, Kian]\n",
      "Students List with students added from second array: [Samuel, Kian, Calissa, Evan, Mr Mortensen]\n",
      "Number of Students: 5\n",
      "Second array emptied: []\n",
      "The second array is empty: true\n",
      "Mr. Mortensen removed and students sorted alphabetically: [Calissa, Evan, Kian, Samuel]\n",
      "2nd student from sorted list: Kian\n",
      "Samuel is the 4th person in the list\n",
      "Amount of students: 4\n",
      "Is bob part of the list: false\n",
      "Hashcode of list: -2125894581\n"
     ]
    }
   ],
   "source": [
    "public class Main {\n",
    "    public static void main(String args[]) {\n",
    "        new ArrayList();\n",
    "        ArrayList<String> Students = new ArrayList<String>(); // main arraylist\n",
    "        Students.add(\"Samuel\");\n",
    "        Students.add(\"Kian\");\n",
    "        System.out.println(\"Students List: \" + Students);\n",
    "        ArrayList<String> Students2 = new ArrayList<String>(); //second arraylist to add to main arraylist\n",
    "        Students2.add(\"Calissa\");\n",
    "        Students2.add(\"Evan\");\n",
    "        Students2.add(\"Mr Mortensen\");\n",
    "        Students.addAll(Students2); //adds elements from second array to main array\n",
    "        System.out.println(\"Students List with students added from second array: \" + Students);\n",
    "        System.out.println(\"Number of Students: \" + Students.size());\n",
    "        Students2.clear(); //clear an ArrayList\n",
    "        System.out.println(\"Second array emptied: \" + Students2);\n",
    "        System.out.println(\"The second array is empty: \" + Students2.isEmpty());\n",
    "        if (Students.contains(\"Mr Mortensen\") == true) {\n",
    "            Students.remove(\"Mr Mortensen\");\n",
    "            Collections.sort(Students);\n",
    "            System.out.println(\"Mr. Mortensen removed and students sorted alphabetically: \" + Students);\n",
    "        }\n",
    "        else {\n",
    "            Collections.sort(Students);\n",
    "            System.out.println(\"Students sorted alphabetically: \" + Students);\n",
    "        }\n",
    "        System.out.println(\"2nd student from sorted list: \" + Students.get(2));\n",
    "        var b = Students.indexOf(\"Samuel\");\n",
    "        b++;\n",
    "        System.out.println(\"Samuel is the \" + b + \"th person in the list\");\n",
    "        System.out.println(\"Amount of students: \" + Students.size());\n",
    "        System.out.println(\"Is bob part of the list: \" + Students.contains(\"bob\"));\n",
    "        System.out.println(\"Hashcode of list: \" + Students.hashCode());\n",
    "    }\n",
    "}\n",
    "Main.main(null)"
   ]
  }
 ],
 "metadata": {
  "kernelspec": {
   "display_name": "Java",
   "language": "java",
   "name": "java"
  },
  "language_info": {
   "codemirror_mode": "java",
   "file_extension": ".jshell",
   "mimetype": "text/x-java-source",
   "name": "java",
   "pygments_lexer": "java",
   "version": "11.0.16+8-post-Ubuntu-0ubuntu120.04"
  },
  "orig_nbformat": 4
 },
 "nbformat": 4,
 "nbformat_minor": 2
}
