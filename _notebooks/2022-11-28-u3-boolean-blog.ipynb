{
 "cells": [
  {
   "cell_type": "markdown",
   "metadata": {},
   "source": [
    "# Unit 3 Blog Booleans\n",
    "\n",
    "- toc: false\n",
    "- badges: true\n",
    "- comments: true\n",
    "- author: Samuel\n",
    "- categories: [fastpages, CB]\n",
    "- image: images/picture.jpg\n",
    "\n",
    "\n"
   ]
  },
  {
   "cell_type": "markdown",
   "metadata": {},
   "source": [
    "if statements are conditionals that if the conditional is true, then the code inside the if statement is ran."
   ]
  },
  {
   "cell_type": "code",
   "execution_count": 1,
   "metadata": {
    "vscode": {
     "languageId": "java"
    }
   },
   "outputs": [
    {
     "name": "stdout",
     "output_type": "stream",
     "text": [
      "true"
     ]
    }
   ],
   "source": [
    "if(true) {\n",
    "    System.out.print(\"true\");\n",
    "}"
   ]
  },
  {
   "cell_type": "markdown",
   "metadata": {},
   "source": [
    "if else statements are like if statements, just with another block of code that executes if the if conditional is not met"
   ]
  },
  {
   "cell_type": "code",
   "execution_count": 3,
   "metadata": {
    "vscode": {
     "languageId": "java"
    }
   },
   "outputs": [
    {
     "name": "stdout",
     "output_type": "stream",
     "text": [
      "false"
     ]
    }
   ],
   "source": [
    "if(false) {\n",
    "    System.out.print(\"true\");\n",
    "}\n",
    "else {\n",
    "    System.out.print(\"false\");\n",
    "}"
   ]
  },
  {
   "cell_type": "markdown",
   "metadata": {},
   "source": [
    "else if statements are just adding more if conditionals, so if those are met, they execute"
   ]
  },
  {
   "cell_type": "code",
   "execution_count": 6,
   "metadata": {
    "vscode": {
     "languageId": "java"
    }
   },
   "outputs": [
    {
     "name": "stdout",
     "output_type": "stream",
     "text": [
      "samuel"
     ]
    }
   ],
   "source": [
    "String name = \"samuel\";\n",
    "\n",
    "if(name==\"Samuel\") {\n",
    "    System.out.print(\"SAMUEL\");\n",
    "}\n",
    "else if(name==\"samuel\") {\n",
    "    System.out.print(\"samuel\");\n",
    "}\n",
    "else {\n",
    "    System.out.print(\"neither\");\n",
    "}"
   ]
  },
  {
   "cell_type": "markdown",
   "metadata": {},
   "source": [
    "switch statements are like else if statements, just replaced with case instead "
   ]
  },
  {
   "cell_type": "code",
   "execution_count": 8,
   "metadata": {
    "vscode": {
     "languageId": "java"
    }
   },
   "outputs": [
    {
     "name": "stdout",
     "output_type": "stream",
     "text": [
      "2"
     ]
    }
   ],
   "source": [
    "int num = 2;\n",
    "\n",
    "switch (num) {\n",
    "    case 1:\n",
    "        System.out.print(\"1\");\n",
    "        break;\n",
    "    case 2:\n",
    "        System.out.print(\"2\");\n",
    "        break;\n",
    "    default:\n",
    "        System.out.print(\"neither\");             \n",
    "}"
   ]
  },
  {
   "cell_type": "markdown",
   "metadata": {},
   "source": [
    "many booleans can be used in if else statements to make the conditional"
   ]
  },
  {
   "cell_type": "code",
   "execution_count": 11,
   "metadata": {
    "vscode": {
     "languageId": "java"
    }
   },
   "outputs": [
    {
     "name": "stdout",
     "output_type": "stream",
     "text": [
      "true\n",
      "true\n",
      "true\n",
      "true\n"
     ]
    }
   ],
   "source": [
    "if (2==2){\n",
    "    System.out.println(\"true\");\n",
    "}\n",
    "if (2!=3){\n",
    "    System.out.println(\"true\");\n",
    "}\n",
    "if (2<3){\n",
    "    System.out.println(\"true\");\n",
    "} \n",
    "if (2<=2){\n",
    "    System.out.println(\"true\");\n",
    "}"
   ]
  },
  {
   "cell_type": "markdown",
   "metadata": {},
   "source": [
    "De morgan's law uses not (!) and shows what happens when using multiple operators with this"
   ]
  },
  {
   "cell_type": "code",
   "execution_count": 14,
   "metadata": {
    "vscode": {
     "languageId": "java"
    }
   },
   "outputs": [
    {
     "name": "stdout",
     "output_type": "stream",
     "text": [
      "these statements are equivalent"
     ]
    }
   ],
   "source": [
    "if (!(true && false) == ((!true)||(!false))) {\n",
    "    System.out.print(\"these statements are equivalent\");\n",
    "}\n",
    "else {\n",
    "    System.out.print(\"not the same\");\n",
    "}"
   ]
  }
 ],
 "metadata": {
  "kernelspec": {
   "display_name": "Java",
   "language": "java",
   "name": "java"
  },
  "language_info": {
   "codemirror_mode": "java",
   "file_extension": ".jshell",
   "mimetype": "text/x-java-source",
   "name": "Java",
   "pygments_lexer": "java",
   "version": "17.0.5+8-Ubuntu-2ubuntu120.04"
  },
  "orig_nbformat": 4,
  "vscode": {
   "interpreter": {
    "hash": "916dbcbb3f70747c44a77c7bcd40155683ae19c65e1c03b4aa3499c5328201f1"
   }
  }
 },
 "nbformat": 4,
 "nbformat_minor": 2
}
