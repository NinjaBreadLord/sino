{
 "cells": [
  {
   "cell_type": "markdown",
   "metadata": {},
   "source": [
    "# Unit 3 Blog Booleans\n",
    "\n",
    "- toc: false\n",
    "- badges: true\n",
    "- comments: true\n",
    "- author: Samuel\n",
    "- categories: [fastpages, CB]\n",
    "- image: images/picture.jpg\n",
    "\n",
    "\n"
   ]
  },
  {
   "cell_type": "markdown",
   "metadata": {},
   "source": [
    "if statements are conditionals that if the conditional is true, then the code inside the if statement is ran."
   ]
  },
  {
   "cell_type": "code",
   "execution_count": 27,
   "metadata": {},
   "outputs": [
    {
     "name": "stdout",
     "output_type": "stream",
     "text": [
      "true"
     ]
    }
   ],
   "source": [
    "if(true) {\n",
    "    System.out.print(\"true\");\n",
    "}"
   ]
  },
  {
   "cell_type": "markdown",
   "metadata": {},
   "source": [
    "if else statements are like if statements, just with another block of code that executes if the if conditional is not met"
   ]
  },
  {
   "cell_type": "code",
   "execution_count": 28,
   "metadata": {},
   "outputs": [
    {
     "name": "stdout",
     "output_type": "stream",
     "text": [
      "false"
     ]
    }
   ],
   "source": [
    "if(false) {\n",
    "    System.out.print(\"true\");\n",
    "}\n",
    "else {\n",
    "    System.out.print(\"false\");\n",
    "}"
   ]
  },
  {
   "cell_type": "markdown",
   "metadata": {},
   "source": [
    "else if statements are just adding more if conditionals, so if those are met, they execute"
   ]
  },
  {
   "cell_type": "code",
   "execution_count": 29,
   "metadata": {},
   "outputs": [
    {
     "name": "stdout",
     "output_type": "stream",
     "text": [
      "samuel"
     ]
    }
   ],
   "source": [
    "String name = \"samuel\";\n",
    "\n",
    "if(name==\"Samuel\") {\n",
    "    System.out.print(\"SAMUEL\");\n",
    "}\n",
    "else if(name==\"samuel\") {\n",
    "    System.out.print(\"samuel\");\n",
    "}\n",
    "else {\n",
    "    System.out.print(\"neither\");\n",
    "}"
   ]
  },
  {
   "cell_type": "markdown",
   "metadata": {},
   "source": [
    "switch statements are like else if statements, just replaced with case instead "
   ]
  },
  {
   "cell_type": "code",
   "execution_count": 30,
   "metadata": {},
   "outputs": [
    {
     "name": "stdout",
     "output_type": "stream",
     "text": [
      "2"
     ]
    }
   ],
   "source": [
    "int num = 2;\n",
    "\n",
    "switch (num) {\n",
    "    case 1:\n",
    "        System.out.print(\"1\");\n",
    "        break;\n",
    "    case 2:\n",
    "        System.out.print(\"2\");\n",
    "        break;\n",
    "    default:\n",
    "        System.out.print(\"neither\");             \n",
    "}"
   ]
  },
  {
   "cell_type": "markdown",
   "metadata": {},
   "source": [
    "many booleans can be used in if else statements to make the conditional"
   ]
  },
  {
   "cell_type": "code",
   "execution_count": 31,
   "metadata": {},
   "outputs": [
    {
     "name": "stdout",
     "output_type": "stream",
     "text": [
      "true\n",
      "true\n",
      "true\n",
      "true\n"
     ]
    }
   ],
   "source": [
    "if (2==2){\n",
    "    System.out.println(\"true\");\n",
    "}\n",
    "if (2!=3){\n",
    "    System.out.println(\"true\");\n",
    "}\n",
    "if (2<3){\n",
    "    System.out.println(\"true\");\n",
    "} \n",
    "if (2<=2){\n",
    "    System.out.println(\"true\");\n",
    "}"
   ]
  },
  {
   "cell_type": "markdown",
   "metadata": {},
   "source": [
    "## De morgan's Law"
   ]
  },
  {
   "cell_type": "markdown",
   "metadata": {},
   "source": [
    "* De morgan's law uses not (!) and shows what happens when using multiple operators with this\n",
    "* the complement of the union of two sets A and B is equal to the intersection of the complement of the sets A and B\n",
    "* !(a && b) is equivalent to !a || !b\n",
    "* !(a || b) is equivalent to !a && !b"
   ]
  },
  {
   "cell_type": "code",
   "execution_count": 32,
   "metadata": {},
   "outputs": [
    {
     "name": "stdout",
     "output_type": "stream",
     "text": [
      "these statements are equivalent"
     ]
    }
   ],
   "source": [
    "if (!(true && false) == ((!true)||(!false))) {\n",
    "    System.out.print(\"these statements are equivalent\");\n",
    "}\n",
    "else {\n",
    "    System.out.print(\"not the same\");\n",
    "}"
   ]
  },
  {
   "cell_type": "markdown",
   "metadata": {},
   "source": [
    "### Compound Boolean Expression"
   ]
  },
  {
   "cell_type": "markdown",
   "metadata": {},
   "source": [
    "* this includes using the &&, ||, and ! operators, "
   ]
  },
  {
   "cell_type": "code",
   "execution_count": 33,
   "metadata": {},
   "outputs": [
    {
     "name": "stdout",
     "output_type": "stream",
     "text": [
      "Score is in the range 0-100\n"
     ]
    }
   ],
   "source": [
    "public class TestNum\n",
    "{\n",
    "   public static void main(String[] args)\n",
    "   {\n",
    "     int score = 10; \n",
    "     if (score < 0 || score > 100)\n",
    "     {\n",
    "         System.out.println(\"Score has an illegal value.\");\n",
    "     }\n",
    "     if (score >= 0 && score <= 100)\n",
    "     {\n",
    "         System.out.println(\"Score is in the range 0-100\");\n",
    "     }\n",
    "     if (score != 10) {\n",
    "        System.out.println(\"pick a different score\");\n",
    "     }\n",
    "\n",
    "   }\n",
    "}\n",
    "TestNum.main(null)"
   ]
  },
  {
   "cell_type": "markdown",
   "metadata": {},
   "source": [
    "### Truth Tables"
   ]
  },
  {
   "cell_type": "markdown",
   "metadata": {},
   "source": [
    "* define boolean function by choosing value for each possible value of arguments, use truth table to do so\n"
   ]
  },
  {
   "cell_type": "markdown",
   "metadata": {},
   "source": [
    "![truthtable](images/truthtables.PNG \"truth table\")"
   ]
  },
  {
   "cell_type": "markdown",
   "metadata": {},
   "source": [
    "# hw"
   ]
  },
  {
   "cell_type": "markdown",
   "metadata": {},
   "source": [
    "![quizziz](images/quizziz.PNG \"quizziz\")"
   ]
  },
  {
   "cell_type": "markdown",
   "metadata": {},
   "source": [
    "### FRQ"
   ]
  },
  {
   "cell_type": "markdown",
   "metadata": {},
   "source": [
    "a)"
   ]
  },
  {
   "cell_type": "code",
   "execution_count": 34,
   "metadata": {},
   "outputs": [],
   "source": [
    "public static int numberOfLeapYears(int year1, int year2) {\n",
    "    int cnt = 0;\n",
    "    for (int y=year1; y<=year2; y++) {\n",
    "        if (isLeapYear(y)) {\n",
    "            cnt++;\n",
    "        }\n",
    "    }\n",
    "    return cnt; \n",
    "}"
   ]
  },
  {
   "cell_type": "markdown",
   "metadata": {},
   "source": [
    "b)"
   ]
  },
  {
   "cell_type": "code",
   "execution_count": 35,
   "metadata": {},
   "outputs": [],
   "source": [
    "public static int dayOfWeek(int month, int day, int year) {\n",
    "    int firstDay = firstDayOfYear(year);\n",
    "    int doy = dayOfYear(month, day, year);\n",
    "    return (firstDay + doy - 1) % 7;\n",
    "}"
   ]
  },
  {
   "cell_type": "markdown",
   "metadata": {},
   "source": [
    "### Conditional Exercises"
   ]
  },
  {
   "cell_type": "markdown",
   "metadata": {},
   "source": [
    "2"
   ]
  },
  {
   "cell_type": "code",
   "execution_count": 36,
   "metadata": {},
   "outputs": [
    {
     "name": "stdout",
     "output_type": "stream",
     "text": [
      "The roots are -1.0 and -2.0\n"
     ]
    }
   ],
   "source": [
    "public class main {\n",
    "\n",
    "    \n",
    "    public static void main(String[] Strings) {\n",
    "  \n",
    "              double a = 1;\n",
    "              double b = 3;\n",
    "              double c = 2;\n",
    "  \n",
    "              double result = b * b - 4.0 * a * c;\n",
    "  \n",
    "              if (result > 0.0) {\n",
    "                  double r1 = (-b + Math.pow(result, 0.5)) / (2.0 * a);\n",
    "                  double r2 = (-b - Math.pow(result, 0.5)) / (2.0 * a);\n",
    "                  System.out.println(\"The roots are \" + r1 + \" and \" + r2);\n",
    "              } else if (result == 0.0) {\n",
    "                  double r1 = -b / (2.0 * a);\n",
    "                  System.out.println(\"The root is \" + r1);\n",
    "              } else {\n",
    "                  System.out.println(\"The equation has no real roots.\");\n",
    "              }\n",
    "  \n",
    "      }\n",
    "  }\n",
    "  main.main(null)"
   ]
  },
  {
   "cell_type": "markdown",
   "metadata": {},
   "source": [
    "4"
   ]
  },
  {
   "cell_type": "code",
   "execution_count": 37,
   "metadata": {},
   "outputs": [
    {
     "name": "stdout",
     "output_type": "stream",
     "text": [
      "positive number\n"
     ]
    }
   ],
   "source": [
    "public class main {\n",
    "\n",
    "    \n",
    "    public static void main(String[] Strings) {\n",
    "  \n",
    "              double a = 1;\n",
    "            \n",
    "  \n",
    "              if (a > 0.0) {\n",
    "                  System.out.println(\"positive number\");\n",
    "              } else {\n",
    "                  System.out.println(\"negative number\");\n",
    "              }\n",
    "  \n",
    "      }\n",
    "  }\n",
    "  main.main(null)"
   ]
  },
  {
   "cell_type": "markdown",
   "metadata": {},
   "source": [
    "6"
   ]
  },
  {
   "cell_type": "code",
   "execution_count": 38,
   "metadata": {},
   "outputs": [
    {
     "name": "stdout",
     "output_type": "stream",
     "text": [
      "same\n"
     ]
    }
   ],
   "source": [
    "public class main {\n",
    "\n",
    "    \n",
    "    public static void main(String[] Strings) {\n",
    "  \n",
    "              double a = 55.1321;\n",
    "              double b = 55.132;\n",
    "\n",
    "              a = Math.round(a * 1000);\n",
    "              b = Math.round(b * 1000);\n",
    "            \n",
    "  \n",
    "              if (a == b) {\n",
    "                  System.out.println(\"same\");\n",
    "              } else {\n",
    "                  System.out.println(\"different\");\n",
    "              }\n",
    "  \n",
    "      }\n",
    "  }\n",
    "  main.main(null)"
   ]
  },
  {
   "cell_type": "markdown",
   "metadata": {},
   "source": [
    "8"
   ]
  },
  {
   "cell_type": "code",
   "execution_count": 39,
   "metadata": {},
   "outputs": [
    {
     "name": "stdout",
     "output_type": "stream",
     "text": [
      "vowel\n"
     ]
    }
   ],
   "source": [
    "public class main {\n",
    "\n",
    "    \n",
    "    public static void main(String[] Strings) {\n",
    "  \n",
    "        String a = \"a\";\n",
    "            \n",
    "        boolean vowels = a.equals(\"a\") || a.equals(\"e\") || a.equals(\"i\") || a.equals(\"o\") || a.equals(\"u\");\n",
    "              \n",
    "\n",
    "        if (a.length() > 1)\n",
    "        {\n",
    "            System.out.println(\"not one letter\");\n",
    "        }\n",
    "        else if (vowels)\n",
    "        {\n",
    "            System.out.println(\"vowel\");\n",
    "        }\n",
    "        else\n",
    "        {\n",
    "            System.out.println(\"consonant\");\n",
    "        }\n",
    "    }\n",
    "}\n",
    "  main.main(null)"
   ]
  },
  {
   "cell_type": "markdown",
   "metadata": {},
   "source": [
    "10"
   ]
  },
  {
   "cell_type": "code",
   "execution_count": 40,
   "metadata": {},
   "outputs": [
    {
     "name": "stdout",
     "output_type": "stream",
     "text": [
      "1\n",
      "2\n",
      "3\n",
      "4\n",
      "5\n",
      "6\n",
      "7\n",
      "8\n",
      "9\n",
      "10\n"
     ]
    }
   ],
   "source": [
    "public class main {\n",
    "    \n",
    "    public static void main(String[] args) {\n",
    "           \n",
    "      int i;\n",
    "      for (i=1;i<=10;i++) {      \n",
    "          System.out.println (i);\n",
    "      }\n",
    "    }\n",
    "}\n",
    "main.main(null)"
   ]
  },
  {
   "cell_type": "markdown",
   "metadata": {},
   "source": [
    "12"
   ]
  },
  {
   "cell_type": "code",
   "execution_count": 41,
   "metadata": {},
   "outputs": [
    {
     "name": "stdout",
     "output_type": "stream",
     "text": [
      "18.0\n",
      "3.6\n"
     ]
    }
   ],
   "source": [
    "public class main {\n",
    "    \n",
    "    public static void main(String[] args) {\n",
    "        int a = 3;\n",
    "        int b = 4;\n",
    "        int c = 1;\n",
    "        int d = 7;\n",
    "        int e = 3;\n",
    "\n",
    "        double sum = a + b + c + d + e;\n",
    "        double avg = sum/5; \n",
    "        System.out.println(sum);\n",
    "        System.out.println(avg);\n",
    "    }\n",
    "}\n",
    "main.main(null)"
   ]
  },
  {
   "cell_type": "markdown",
   "metadata": {},
   "source": [
    "14"
   ]
  },
  {
   "cell_type": "code",
   "execution_count": 42,
   "metadata": {},
   "outputs": [
    {
     "name": "stdout",
     "output_type": "stream",
     "text": [
      "4 * 0 = 0\n",
      "4 * 1 = 4\n",
      "4 * 2 = 8\n",
      "4 * 3 = 12\n"
     ]
    }
   ],
   "source": [
    "public class main {\n",
    "    \n",
    "    public static void main(String[] args) {\n",
    "        int a = 4;\n",
    "        int b = 3;\n",
    "        int i;\n",
    "        for(i = 0; i <= b; i++) {\n",
    "            int c = a * i;\n",
    "            System.out.println(a + \" * \" + i + \" = \" + c);\n",
    "            c = 0;\n",
    "        }\n",
    "    }\n",
    "}\n",
    "main.main(null)"
   ]
  },
  {
   "cell_type": "markdown",
   "metadata": {},
   "source": [
    "16"
   ]
  },
  {
   "cell_type": "code",
   "execution_count": 43,
   "metadata": {},
   "outputs": [
    {
     "name": "stdout",
     "output_type": "stream",
     "text": [
      "1\n",
      "12\n",
      "123\n",
      "1234\n",
      "12345\n"
     ]
    }
   ],
   "source": [
    "public class main {\n",
    "\n",
    "    public static void main(String[] args) {\n",
    "    int a;\n",
    "    int b;\n",
    "    int r = 5;\n",
    " \n",
    "    for(a=1;a<=r;a++) {\n",
    "     for(b=1;b<=a;b++)\n",
    "       System.out.print(b);\n",
    " \n",
    "     System.out.println(\"\");\n",
    "     }\n",
    " }\n",
    "}\n",
    "main.main(null);\n",
    " "
   ]
  },
  {
   "cell_type": "markdown",
   "metadata": {},
   "source": [
    "18"
   ]
  },
  {
   "cell_type": "code",
   "execution_count": 44,
   "metadata": {},
   "outputs": [
    {
     "name": "stdout",
     "output_type": "stream",
     "text": [
      "1 \n",
      "23 \n",
      "456 \n",
      "78910 \n"
     ]
    }
   ],
   "source": [
    "public class main {\n",
    "\n",
    "    public static void main(String[] args) {\n",
    "        int a,b,c=1;\n",
    "        int n = 4;\n",
    "        for(a=1;a<=n;a++)\n",
    "        {\n",
    "        for(b=1;b<=a;b++)\n",
    "        System.out.print(c++);\n",
    "        System.out.println(\" \");\n",
    "        }\n",
    "    }\n",
    "}\n",
    "main.main(null);\n",
    " "
   ]
  },
  {
   "cell_type": "markdown",
   "metadata": {},
   "source": [
    "20"
   ]
  },
  {
   "cell_type": "code",
   "execution_count": 45,
   "metadata": {},
   "outputs": [
    {
     "name": "stdout",
     "output_type": "stream",
     "text": [
      " 1 \n",
      " 2 3 \n",
      " 4 5 6 \n",
      " 7 8 9 10 \n",
      " 11 12 13 14 15 \n"
     ]
    }
   ],
   "source": [
    "public class main {\n",
    "\n",
    "    public static void main(String[] args) {\n",
    "        int a,b,c=1;\n",
    "        int n = 5;\n",
    "        for(a=1;a<=n;a++)\n",
    "        {\n",
    "        for(b=1;b<=a;b++)\n",
    "        System.out.print(\" \" + c++);\n",
    "        System.out.println(\" \");\n",
    "        }\n",
    "    }\n",
    "}\n",
    "main.main(null);\n",
    " "
   ]
  },
  {
   "cell_type": "code",
   "execution_count": 46,
   "metadata": {},
   "outputs": [
    {
     "name": "stdout",
     "output_type": "stream",
     "text": [
      "samuel\n",
      "samuel\n",
      "kian\n",
      "samuel\n",
      "samuel\n",
      "bob\n"
     ]
    }
   ],
   "source": [
    "String[] names = new String[] {\"samuel\", \"kian\", \"samuel\", \"bob\"};\n",
    "\n",
    "for(int i = 0; i < names.length; i++ ) {\n",
    "    for(int j = 0; j < names.length; j++) {\n",
    "        if(names[i]==names[j]) {\n",
    "            System.out.println(names[j]);\n",
    "        }\n",
    "    } \n",
    "}\n",
    "\n"
   ]
  }
 ],
 "metadata": {
  "kernelspec": {
   "display_name": "Java",
   "language": "java",
   "name": "java"
  },
  "language_info": {
   "codemirror_mode": "java",
   "file_extension": ".jshell",
   "mimetype": "text/x-java-source",
   "name": "java",
   "pygments_lexer": "java",
   "version": "17.0.5+8-Ubuntu-2ubuntu120.04"
  },
  "orig_nbformat": 4,
  "vscode": {
   "interpreter": {
    "hash": "863d47b76f95099498eadc0e891b45c2a8f7fe2283e4ed57552a2b8995c301bf"
   }
  }
 },
 "nbformat": 4,
 "nbformat_minor": 2
}
