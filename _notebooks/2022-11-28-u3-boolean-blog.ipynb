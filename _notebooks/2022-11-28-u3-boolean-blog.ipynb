{
 "cells": [
  {
   "cell_type": "markdown",
   "metadata": {},
   "source": [
    "# Unit 3 Blog Booleans\n",
    "\n",
    "- toc: false\n",
    "- badges: true\n",
    "- comments: true\n",
    "- author: Samuel\n",
    "- categories: [fastpages, CB]\n",
    "- image: images/picture.jpg\n",
    "\n",
    "\n"
   ]
  },
  {
   "cell_type": "markdown",
   "metadata": {},
   "source": [
    "if statements are conditionals that if the conditional is true, then the code inside the if statement is ran."
   ]
  },
  {
   "cell_type": "code",
   "execution_count": 1,
   "metadata": {},
   "outputs": [
    {
     "name": "stdout",
     "output_type": "stream",
     "text": [
      "true"
     ]
    }
   ],
   "source": [
    "if(true) {\n",
    "    System.out.print(\"true\");\n",
    "}"
   ]
  },
  {
   "cell_type": "markdown",
   "metadata": {},
   "source": [
    "if else statements are like if statements, just with another block of code that executes if the if conditional is not met"
   ]
  },
  {
   "cell_type": "code",
   "execution_count": 3,
   "metadata": {},
   "outputs": [
    {
     "name": "stdout",
     "output_type": "stream",
     "text": [
      "false"
     ]
    }
   ],
   "source": [
    "if(false) {\n",
    "    System.out.print(\"true\");\n",
    "}\n",
    "else {\n",
    "    System.out.print(\"false\");\n",
    "}"
   ]
  },
  {
   "cell_type": "markdown",
   "metadata": {},
   "source": [
    "else if statements are just adding more if conditionals, so if those are met, they execute"
   ]
  },
  {
   "cell_type": "code",
   "execution_count": 6,
   "metadata": {},
   "outputs": [
    {
     "name": "stdout",
     "output_type": "stream",
     "text": [
      "samuel"
     ]
    }
   ],
   "source": [
    "String name = \"samuel\";\n",
    "\n",
    "if(name==\"Samuel\") {\n",
    "    System.out.print(\"SAMUEL\");\n",
    "}\n",
    "else if(name==\"samuel\") {\n",
    "    System.out.print(\"samuel\");\n",
    "}\n",
    "else {\n",
    "    System.out.print(\"neither\");\n",
    "}"
   ]
  },
  {
   "cell_type": "markdown",
   "metadata": {},
   "source": [
    "switch statements are like else if statements, just replaced with case instead "
   ]
  },
  {
   "cell_type": "code",
   "execution_count": 8,
   "metadata": {},
   "outputs": [
    {
     "name": "stdout",
     "output_type": "stream",
     "text": [
      "2"
     ]
    }
   ],
   "source": [
    "int num = 2;\n",
    "\n",
    "switch (num) {\n",
    "    case 1:\n",
    "        System.out.print(\"1\");\n",
    "        break;\n",
    "    case 2:\n",
    "        System.out.print(\"2\");\n",
    "        break;\n",
    "    default:\n",
    "        System.out.print(\"neither\");             \n",
    "}"
   ]
  },
  {
   "cell_type": "markdown",
   "metadata": {},
   "source": [
    "many booleans can be used in if else statements to make the conditional"
   ]
  },
  {
   "cell_type": "code",
   "execution_count": 11,
   "metadata": {},
   "outputs": [
    {
     "name": "stdout",
     "output_type": "stream",
     "text": [
      "true\n",
      "true\n",
      "true\n",
      "true\n"
     ]
    }
   ],
   "source": [
    "if (2==2){\n",
    "    System.out.println(\"true\");\n",
    "}\n",
    "if (2!=3){\n",
    "    System.out.println(\"true\");\n",
    "}\n",
    "if (2<3){\n",
    "    System.out.println(\"true\");\n",
    "} \n",
    "if (2<=2){\n",
    "    System.out.println(\"true\");\n",
    "}"
   ]
  },
  {
   "cell_type": "markdown",
   "metadata": {},
   "source": [
    "## De morgan's Law"
   ]
  },
  {
   "cell_type": "markdown",
   "metadata": {},
   "source": [
    "* De morgan's law uses not (!) and shows what happens when using multiple operators with this\n",
    "* the complement of the union of two sets A and B is equal to the intersection of the complement of the sets A and B\n",
    "* !(a && b) is equivalent to !a || !b\n",
    "* !(a || b) is equivalent to !a && !b"
   ]
  },
  {
   "cell_type": "code",
   "execution_count": 14,
   "metadata": {},
   "outputs": [
    {
     "name": "stdout",
     "output_type": "stream",
     "text": [
      "these statements are equivalent"
     ]
    }
   ],
   "source": [
    "if (!(true && false) == ((!true)||(!false))) {\n",
    "    System.out.print(\"these statements are equivalent\");\n",
    "}\n",
    "else {\n",
    "    System.out.print(\"not the same\");\n",
    "}"
   ]
  },
  {
   "cell_type": "markdown",
   "metadata": {},
   "source": [
    "### Compound Boolean Expression"
   ]
  },
  {
   "cell_type": "markdown",
   "metadata": {},
   "source": [
    "* this includes using the &&, ||, and ! operators, "
   ]
  },
  {
   "cell_type": "code",
   "execution_count": null,
   "metadata": {},
   "outputs": [],
   "source": [
    "public class TestNum\n",
    "{\n",
    "   public static void main(String[] args)\n",
    "   {\n",
    "     int score = 10; \n",
    "     if (score < 0 || score > 100)\n",
    "     {\n",
    "         System.out.println(\"Score has an illegal value.\");\n",
    "     }\n",
    "     if (score >= 0 && score <= 100)\n",
    "     {\n",
    "         System.out.println(\"Score is in the range 0-100\");\n",
    "     }\n",
    "     if (score != 10) {\n",
    "        System.out.println(\"pick a different score\");\n",
    "     }\n",
    "\n",
    "   }\n",
    "}\n",
    "TestNum.main(null)"
   ]
  },
  {
   "cell_type": "markdown",
   "metadata": {},
   "source": [
    "### Truth Tables"
   ]
  },
  {
   "cell_type": "markdown",
   "metadata": {},
   "source": [
    "* define boolean function by choosing value for each possible value of arguments, use truth table to do so\n"
   ]
  },
  {
   "cell_type": "markdown",
   "metadata": {},
   "source": [
    "![truthtable](images/truthtables.PNG \"truth table\")"
   ]
  }
 ],
 "metadata": {
  "kernelspec": {
   "display_name": "Python 3.9.6 64-bit",
   "language": "python",
   "name": "python3"
  },
  "language_info": {
   "codemirror_mode": "java",
   "file_extension": ".jshell",
   "mimetype": "text/x-java-source",
   "name": "python",
   "pygments_lexer": "java",
   "version": "3.9.6"
  },
  "orig_nbformat": 4,
  "vscode": {
   "interpreter": {
    "hash": "863d47b76f95099498eadc0e891b45c2a8f7fe2283e4ed57552a2b8995c301bf"
   }
  }
 },
 "nbformat": 4,
 "nbformat_minor": 2
}
