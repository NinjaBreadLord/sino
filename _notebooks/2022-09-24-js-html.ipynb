{
 "cells": [
  {
   "cell_type": "markdown",
   "metadata": {},
   "source": [
    "# Javascript and HTML Notebook\n",
    "\n",
    "- toc: false\n",
    "- badges: true\n",
    "- comments: true\n",
    "- author: Samuel\n",
    "- categories: [fastpages, PBL]\n",
    "- image: images/java.jpg\n",
    "\n",
    "\n",
    "java notebook\n"
   ]
  },
  {
   "cell_type": "code",
   "execution_count": 1,
   "metadata": {},
   "outputs": [
    {
     "ename": "ReferenceError",
     "evalue": "document is not defined",
     "output_type": "error",
     "traceback": [
      "evalmachine.<anonymous>:1",
      "const resultContainer = document.getElementById(\"result\");",
      "                                 ^",
      "",
      "ReferenceError: document is not defined",
      "    at evalmachine.<anonymous>:1:34",
      "    at ContextifyScript.Script.runInThisContext (vm.js:25:33)",
      "    at Object.runInThisContext (vm.js:97:38)",
      "    at run ([eval]:1020:15)",
      "    at onRunRequest ([eval]:864:18)",
      "    at onMessage ([eval]:828:13)",
      "    at emitTwo (events.js:106:13)",
      "    at process.emit (events.js:191:7)",
      "    at process.nextTick (internal/child_process.js:758:12)",
      "    at _combinedTickCallback (internal/process/next_tick.js:73:7)"
     ]
    }
   ],
   "source": [
    "const resultContainer = document.getElementById(\"result\");\n",
    "... build data table ....\n",
    "for (const row of data) {\n",
    "    // tr for each row\n",
    "    const tr = document.createElement(\"tr\");\n",
    "    // td for each column\n",
    "    const joke = document.createElement(\"td\");\n",
    "    const haha = document.createElement(\"td\");\n",
    "    const boohoo = document.createElement(\"td\");\n",
    "    // data is specific to the API\n",
    "    joke.innerHTML = row.joke;\n",
    "    haha.innerHTML = row.haha; \n",
    "    boohoo.innerHTML = row.boohoo; \n",
    "    // this build td's into tr\n",
    "    tr.appendChild(joke);\n",
    "    tr.appendChild(haha);\n",
    "    tr.appendChild(boohoo);\n",
    "    // add HTML to container\n",
    "    resultContainer.appendChild(tr);\n",
    "}"
   ]
  }
 ],
 "metadata": {
  "kernelspec": {
   "display_name": "JavaScript (Node.js)",
   "language": "javascript",
   "name": "javascript"
  },
  "language_info": {
   "file_extension": ".js",
   "mimetype": "application/javascript",
   "name": "javascript",
   "version": "6.11.2"
  },
  "orig_nbformat": 4,
  "vscode": {
   "interpreter": {
    "hash": "916dbcbb3f70747c44a77c7bcd40155683ae19c65e1c03b4aa3499c5328201f1"
   }
  }
 },
 "nbformat": 4,
 "nbformat_minor": 2
}
