{
 "cells": [
  {
   "cell_type": "markdown",
   "metadata": {},
   "source": [
    "# test corrections HW\n",
    "\n",
    "- toc: false\n",
    "- badges: true\n",
    "- comments: true\n",
    "- author: Samuel\n",
    "- categories: [fastpages, CB, HW]\n",
    "- image: images/picture.jpg\n",
    "\n",
    "\n",
    "test corrections HW"
   ]
  },
  {
   "cell_type": "markdown",
   "metadata": {},
   "source": [
    "### Score"
   ]
  },
  {
   "cell_type": "markdown",
   "metadata": {},
   "source": [
    "![score](images/score.PNG)"
   ]
  },
  {
   "cell_type": "markdown",
   "metadata": {},
   "source": [
    "### Question 2"
   ]
  },
  {
   "cell_type": "markdown",
   "metadata": {},
   "source": [
    "![q2](images/q2.png)"
   ]
  },
  {
   "cell_type": "markdown",
   "metadata": {},
   "source": [
    "The correct answer is A, as the getA method in SomeClass takes int, and to get this method, obj.getA() is used. I just misread it and thought I was choosing the one that had the method, but accidentally chose myA instead."
   ]
  },
  {
   "cell_type": "markdown",
   "metadata": {},
   "source": [
    "### q4"
   ]
  },
  {
   "cell_type": "markdown",
   "metadata": {},
   "source": [
    "![q4](images/q4.PNG)"
   ]
  },
  {
   "cell_type": "markdown",
   "metadata": {},
   "source": [
    "This one I just got messed up with integers and doubles. I misread it and didn't pay attention enough to realize that x and y were integers. C is the correct answer as the first output will be skipped and the else will be done. They are integers, so it will round down to 2. "
   ]
  },
  {
   "cell_type": "markdown",
   "metadata": {},
   "source": [
    "### q15"
   ]
  },
  {
   "cell_type": "markdown",
   "metadata": {},
   "source": [
    "![q15](images/q15.PNG)"
   ]
  },
  {
   "cell_type": "markdown",
   "metadata": {},
   "source": [
    "The answer is A, where 1 is the answer. I chose 1 and 2, and 2 is wrong because it leads to arrayindexoutofboundsexception and I didn't notice this."
   ]
  },
  {
   "cell_type": "markdown",
   "metadata": {},
   "source": [
    "### q19"
   ]
  },
  {
   "cell_type": "markdown",
   "metadata": {},
   "source": [
    "![q19](images/q19.PNG)"
   ]
  },
  {
   "cell_type": "markdown",
   "metadata": {},
   "source": [
    "I incorrectly remembered how De Morgan's Law worked. The answer was b and not d because the \"and\" has to be switched to an \"or\"."
   ]
  },
  {
   "cell_type": "markdown",
   "metadata": {},
   "source": [
    "### q21"
   ]
  },
  {
   "cell_type": "markdown",
   "metadata": {},
   "source": [
    "![q21](images/q21.PNG)"
   ]
  },
  {
   "cell_type": "markdown",
   "metadata": {},
   "source": [
    "I just read the question wrong for this one. The answer is D, as it finds the positive difference between num and val and checks that is less than minDiff."
   ]
  },
  {
   "cell_type": "markdown",
   "metadata": {},
   "source": [
    "### q22"
   ]
  },
  {
   "cell_type": "markdown",
   "metadata": {},
   "source": [
    "![q22](images/q22.PNG)"
   ]
  },
  {
   "cell_type": "markdown",
   "metadata": {},
   "source": [
    "I thought line 5 wouldn't compile, as I though that the AudioBook object couldn't call toString. The answer is B is because you would have to let compiler know that the object in books is AudioBook.  "
   ]
  },
  {
   "cell_type": "markdown",
   "metadata": {},
   "source": [
    "### q24"
   ]
  },
  {
   "cell_type": "markdown",
   "metadata": {},
   "source": [
    "![q24](images/q24.PNG)"
   ]
  },
  {
   "cell_type": "markdown",
   "metadata": {},
   "source": [
    "I just didn't really understand 2d arrays well. D is the correct answer as once the loop ends, new Array will have {1,4,7}, {2,5,8}, {3,6,9}, which means the value will be 7."
   ]
  },
  {
   "cell_type": "markdown",
   "metadata": {},
   "source": [
    "### q28"
   ]
  },
  {
   "cell_type": "markdown",
   "metadata": {},
   "source": [
    "![q28](images/q28.PNG)"
   ]
  },
  {
   "cell_type": "markdown",
   "metadata": {},
   "source": [
    "I got my math mixed up for this one. The answer is E because the while loop only keeps looping when n is larger than 2, so it will always be greater than 2."
   ]
  },
  {
   "cell_type": "markdown",
   "metadata": {},
   "source": [
    "### q34"
   ]
  },
  {
   "cell_type": "markdown",
   "metadata": {},
   "source": [
    "![q34](images/q34.PNG)"
   ]
  },
  {
   "cell_type": "markdown",
   "metadata": {},
   "source": [
    "I chose choice 3, but x and y are private instances so they can't be accessed straight by circle. B is correct as 2 uses its parameters of a and b to be assigned to x and y respectively. "
   ]
  },
  {
   "cell_type": "markdown",
   "metadata": {},
   "source": [
    "### q35"
   ]
  },
  {
   "cell_type": "markdown",
   "metadata": {},
   "source": [
    "![q35](images/q35.PNG)"
   ]
  },
  {
   "cell_type": "markdown",
   "metadata": {},
   "source": [
    "The answer is E as the code segment iterates 4 times to get to the value of 4752. Here, num is 0 and the loop will stop. I got quite confused with the math on this one and it was really difficult to do mentally. "
   ]
  },
  {
   "cell_type": "markdown",
   "metadata": {},
   "source": [
    "### q39"
   ]
  },
  {
   "cell_type": "markdown",
   "metadata": {},
   "source": [
    "![q39](images/q39.PNG)"
   ]
  },
  {
   "cell_type": "markdown",
   "metadata": {},
   "source": [
    "I didn't get to the final recur value, I only got to recur(9). The answer is D as the answer will be recur(recur(9)). The answer is finally 16. So, I didn't get far enough."
   ]
  },
  {
   "cell_type": "markdown",
   "metadata": {},
   "source": [
    "### Reflection"
   ]
  },
  {
   "cell_type": "markdown",
   "metadata": {},
   "source": [
    "I struggled mostly on the math parts and keeping track of the numbers. For example, a lot of the iteration ones the math can get kind of confusing when doing mentally. I'm not sure if we get a paper or not on the actual ap test, but if we don't it could get kind of tricky. I also didn't fully understand some concepts like 2d arrays and nested for loops. There were also some things I ended up just misreading and getting wrong"
   ]
  }
 ],
 "metadata": {
  "kernelspec": {
   "display_name": "Java",
   "language": "java",
   "name": "java"
  },
  "language_info": {
   "name": "java"
  },
  "orig_nbformat": 4
 },
 "nbformat": 4,
 "nbformat_minor": 2
}
