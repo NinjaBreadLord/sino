{
 "cells": [
  {
   "cell_type": "markdown",
   "metadata": {},
   "source": [
    "# Focus and Habits\n",
    "\n",
    "- toc: false\n",
    "- badges: true\n",
    "- comments: true\n",
    "- author: Samuel\n",
    "- categories: [jupyter, personal]\n",
    "- image: images/think.png\n",
    "\n",
    "Focus and Habits blog"
   ]
  },
  {
   "cell_type": "markdown",
   "metadata": {},
   "source": [
    "### Video"
   ]
  },
  {
   "cell_type": "markdown",
   "metadata": {},
   "source": [
    "- taking control of life is very difficult and takes a lot of things to do\n",
    "- do happy things that people may not be used to doing, which helps us, requires a lot of effort\n",
    "- to gain happiness, have to make a habit out of it, things like exercise are important\n",
    "- need to put things in practice, can't just think about it\n",
    "- the gi joe fallacy, knowing is only half the battle, just knowing isn't enough, need to actively do it\n",
    "- have to recognize that your mind is lying to you about what makes you happy sometimes"
   ]
  },
  {
   "cell_type": "markdown",
   "metadata": {},
   "source": [
    "### Personal"
   ]
  },
  {
   "cell_type": "markdown",
   "metadata": {},
   "source": [
    "I'm quite interested in stuff in either the computer science field or the biomed field and have been working at both to get further in them. After watching some of this video, I've realized that I can't just keep putting off doing stuff and that I need to actively try to get myself to do something. So, I want to try and push myself to try and do things that I may not be comfortable with and I believe that in the long run, I will look back on those moments and be happier because they happened."
   ]
  }
 ],
 "metadata": {
  "kernelspec": {
   "display_name": "Python 3.8.10 64-bit",
   "language": "python",
   "name": "python3"
  },
  "language_info": {
   "name": "python",
   "version": "3.8.10"
  },
  "orig_nbformat": 4,
  "vscode": {
   "interpreter": {
    "hash": "916dbcbb3f70747c44a77c7bcd40155683ae19c65e1c03b4aa3499c5328201f1"
   }
  }
 },
 "nbformat": 4,
 "nbformat_minor": 2
}
