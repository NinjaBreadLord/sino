{
 "cells": [
  {
   "cell_type": "markdown",
   "metadata": {},
   "source": [
    "# Unit 1 Blog Primitives\n",
    "\n",
    "- toc: false\n",
    "- badges: true\n",
    "- comments: true\n",
    "- author: Samuel\n",
    "- categories: [fastpages, CB]\n",
    "- image: images/picture.jpg\n",
    "\n",
    "\n"
   ]
  },
  {
   "cell_type": "markdown",
   "metadata": {},
   "source": [
    "## Why Java\n",
    "\n",
    "- Java syntax easier compared to other languages\n",
    "- focuses on classes, objects, and methods\n",
    "- easy connection with APIs\n",
    "- once compiled, it will run on any machine\n",
    "\n",
    "## Anatomy\n",
    "\n",
    "- main.java is run by the java compiler\n",
    "- classname.java are names for the java files, public allows being called from other classes\n",
    "- {} is the stuff inside the class, static means that instance of main class isn't needed, void doesn't return to another function  \n",
    "\n",
    "## Primitive Data Types\n",
    "\n",
    "- int: integer number\n",
    "- double: decimal number up to 15 decimal places\n",
    "- boolean: true or false\n",
    "\n",
    "## Variables\n",
    "\n",
    "- to initialize variable: (scope) dataType variableName = dataValue\n",
    "- private only allowed in a class\n",
    "- public any class can access\n",
    "- protected allowed to all classes in package and any subclass\n",
    "- variables known as constants don't change\n",
    "\n",
    "## Basic Math\n",
    "\n",
    "- equal sign is assignment operator, can be used to change the value of the variable \n",
    "- modulo operator is % (a % b, which is integer remainder of a divided by b)\n",
    "\n",
    "## Compound Assignment Operators\n",
    "- operators to change numbers (ie: integer += 1;)\n",
    "- *=,+=,-=,/=,%=,i++,i--"
   ]
  },
  {
   "cell_type": "markdown",
   "metadata": {},
   "source": [
    "# Vocab"
   ]
  },
  {
   "cell_type": "markdown",
   "metadata": {},
   "source": [
    "### Casting, specifically for Division"
   ]
  },
  {
   "cell_type": "markdown",
   "metadata": {},
   "source": [
    "* Change a variable’s type, so for example changing an int to a double or vice versa"
   ]
  },
  {
   "cell_type": "markdown",
   "metadata": {},
   "source": [
    "### Casting, specifically for Truncating or Rounding"
   ]
  },
  {
   "cell_type": "markdown",
   "metadata": {},
   "source": [
    "* Truncate by changing a double to an int, this removes everything after the decimal\n",
    "* A trick to round with casting is to change a double to an int, but before doing this, add .5 if a positive integer and subtract .5 if a negative integer\n"
   ]
  },
  {
   "cell_type": "code",
   "execution_count": 1,
   "metadata": {
    "vscode": {
     "languageId": "java"
    }
   },
   "outputs": [
    {
     "name": "stdout",
     "output_type": "stream",
     "text": [
      "dividing with integer(also truncating): 0.0\n",
      "dividing with double: 0.8928571428571429\n"
     ]
    }
   ],
   "source": [
    "int num1 = 50;\n",
    "int num2 = 56;\n",
    "double round;\n",
    "double intaverage = num1 / num2;\n",
    "double doubaverage = (double)num1 / num2;\n",
    "System.out.println(\"dividing with integer(also truncating): \" + intaverage);\n",
    "System.out.println(\"dividing with double: \" + doubaverage);"
   ]
  },
  {
   "cell_type": "markdown",
   "metadata": {},
   "source": [
    "Constructor - A constructor initializes an object, a constructor has no return value because it is not actually used by the code, instead it simply initializes the object."
   ]
  },
  {
   "cell_type": "code",
   "execution_count": null,
   "metadata": {
    "vscode": {
     "languageId": "java"
    }
   },
   "outputs": [],
   "source": [
    "public class Customer { //Intializing class Customer in this case with a constructor - no return value"
   ]
  },
  {
   "cell_type": "markdown",
   "metadata": {},
   "source": [
    "Accessor methods - AKA “getters”, return the values in a defined class/reads the value, it is usually named get + Class Name"
   ]
  },
  {
   "cell_type": "code",
   "execution_count": null,
   "metadata": {
    "vscode": {
     "languageId": "java"
    }
   },
   "outputs": [],
   "source": [
    "public String getName(){\n",
    "    return name;\n",
    "};"
   ]
  },
  {
   "cell_type": "markdown",
   "metadata": {},
   "source": [
    "### Wrapper Classes, why wrap int, double. Show examples"
   ]
  },
  {
   "cell_type": "markdown",
   "metadata": {},
   "source": [
    "* Wrapper classes allow converting primitives into objects and vice versa, which allows java to be object oriented, as primitives aren’t an object by default\n",
    "* Someone may use a wrapper class on int to convert it to an object as they contain many methods to deal with an int value like converting it to a string representation, this is the same for doubles\n"
   ]
  },
  {
   "cell_type": "markdown",
   "metadata": {},
   "source": [
    "### Concatenation"
   ]
  },
  {
   "cell_type": "markdown",
   "metadata": {},
   "source": [
    "* Concatenation is combining 2+ strings to make a string using either the + or += operator or the concat() method\n",
    "* concat() is immutable, so you need to set it to a string\n",
    "so a.concat() wouldn't work, but a = a.concat() would\n",
    "* to concatenate multiple data types, you need to use + and not concat method, os this would allow concating a string and a integer for example\n"
   ]
  },
  {
   "cell_type": "code",
   "execution_count": 2,
   "metadata": {
    "vscode": {
     "languageId": "java"
    }
   },
   "outputs": [
    {
     "name": "stdout",
     "output_type": "stream",
     "text": [
      "20 20\n",
      "concat 20 and 2 together:  20 2\n",
      "concat a string and integer:  2020\n"
     ]
    }
   ],
   "source": [
    "\n",
    "public class Main{  \n",
    "    public static void main(String args[]){  \n",
    "    int a=20;  \n",
    "    Integer i=Integer.valueOf(a);//converting int into Integer  \n",
    "    String string = i.toString(); //converting the Integer to a string, this doesn't work with the primitive\n",
    "    String string1 = \" 2\";\n",
    "    String string2 = string.concat(string1); //using concat\n",
    "    String otherdata = string+a;\n",
    "    System.out.println(a+\" \"+i);  \n",
    "    System.out.println(\"concat 20 and 2 together: \"  +\" \" +string2);\n",
    "    System.out.println(\"concat a string and integer: \"  +\" \" +otherdata);\n",
    "    }}  \n",
    "Main.main(null);"
   ]
  },
  {
   "cell_type": "code",
   "execution_count": 5,
   "metadata": {
    "vscode": {
     "languageId": "java"
    }
   },
   "outputs": [
    {
     "name": "stdout",
     "output_type": "stream",
     "text": [
      "Hello World From Team Oops!\n",
      "Welcome to our presentation!\n",
      "We hope you learn something from it!"
     ]
    }
   ],
   "source": [
    "public class Example {\n",
    "\n",
    "    public static void main(String[] args) {\n",
    "\n",
    "        System.out.print(\"Hello World\");  \n",
    "        System.out.print(\" From Team Oops!\");\n",
    "        System.out.println(); //done to separate two different lines \n",
    "        System.out.println(\"Welcome to our presentation!\");\n",
    "        System.out.print(\"We hope you learn something from it!\");\n",
    "\n",
    "    }\n",
    "}\n",
    "\n",
    "Example.main(null);"
   ]
  },
  {
   "cell_type": "markdown",
   "metadata": {},
   "source": [
    "### Comparing Numbers"
   ]
  },
  {
   "cell_type": "markdown",
   "metadata": {},
   "source": [
    "* can compare numbers using the equals method\n",
    "* can compare numbers using compare method\n",
    "* operators such as <, >, == can be used"
   ]
  },
  {
   "cell_type": "code",
   "execution_count": 3,
   "metadata": {
    "vscode": {
     "languageId": "java"
    }
   },
   "outputs": [
    {
     "name": "stdout",
     "output_type": "stream",
     "text": [
      "Both x and y are equal\n",
      "x and y are equal\n"
     ]
    }
   ],
   "source": [
    "Integer x = 0;\n",
    "Integer y = 0;\n",
    "if(x.equals(y)) {\n",
    "            System.out.println(\"Both x and y are equal\");\n",
    "}\n",
    "else {\n",
    "            System.out.println(\"x and y are not equal\");\n",
    "}\n",
    "\n",
    "int comp = Integer.compare(x, y);\n",
    "if(comp>0) {\n",
    "    System.out.println(\"x is greater than y\");\n",
    "}else if (comp<0){\n",
    "    System.out.println(\"x is less than y\");\n",
    "}else{\n",
    "     System.out.println(\"x and y are equal\");\n",
    "}"
   ]
  },
  {
   "cell_type": "markdown",
   "metadata": {},
   "source": [
    "### Comparing Strings"
   ]
  },
  {
   "cell_type": "markdown",
   "metadata": {},
   "source": [
    "* can use equals method to compare two strings based on content in string\n",
    "* equalsIgnoreCase method compares two strings no matter the case "
   ]
  },
  {
   "cell_type": "code",
   "execution_count": 4,
   "metadata": {
    "vscode": {
     "languageId": "java"
    }
   },
   "outputs": [
    {
     "name": "stdout",
     "output_type": "stream",
     "text": [
      "false\n",
      "true\n"
     ]
    }
   ],
   "source": [
    "String string = \"Sdsad\";\n",
    "String string1 = \"sdsad\";\n",
    "System.out.println(string.equals(string1));\n",
    "System.out.println(string.equalsIgnoreCase(string1));"
   ]
  },
  {
   "cell_type": "markdown",
   "metadata": {},
   "source": [
    "Big O notation for Hash map, Binary Search, Single loop, Nested Loop\n",
    "Good for determining time efficiency in a Java code, good for reducing and improving time. \n"
   ]
  },
  {
   "cell_type": "markdown",
   "metadata": {},
   "source": [
    "### Math Class"
   ]
  },
  {
   "cell_type": "markdown",
   "metadata": {},
   "source": [
    "* java math class provides many math methods that allow finding different things, such as a max or min function\n",
    "* math.random will return a number between 0.0 and 1.0, or you can multiply it to get 1 to 100 (seen in code)"
   ]
  },
  {
   "cell_type": "code",
   "execution_count": 5,
   "metadata": {
    "vscode": {
     "languageId": "java"
    }
   },
   "outputs": [
    {
     "name": "stdout",
     "output_type": "stream",
     "text": [
      "82\n",
      "99\n",
      "73\n",
      "76\n",
      "5\n"
     ]
    }
   ],
   "source": [
    "for (int i = 0; i <5; i++) {\n",
    "    int randomNum = (int)(Math.random() * 101);\n",
    "    System.out.println(randomNum);\n",
    "}"
   ]
  },
  {
   "cell_type": "markdown",
   "metadata": {},
   "source": [
    "# Hack 1.1\n",
    "\n",
    "Print your name and your team name in separate lines!\n"
   ]
  },
  {
   "cell_type": "code",
   "execution_count": 2,
   "metadata": {
    "vscode": {
     "languageId": "java"
    }
   },
   "outputs": [
    {
     "name": "stdout",
     "output_type": "stream",
     "text": [
      "Samuel\n",
      "Team 10\n"
     ]
    }
   ],
   "source": [
    "public class Printing {\n",
    "    public static void main(String[] args) {\n",
    "        System.out.println(\"Samuel\");  \n",
    "        System.out.println(\"Team 10\"); //simple printing\n",
    "    }\n",
    "}\n",
    "\n",
    "Printing.main(null);"
   ]
  },
  {
   "cell_type": "code",
   "execution_count": 8,
   "metadata": {
    "vscode": {
     "languageId": "java"
    }
   },
   "outputs": [
    {
     "name": "stdout",
     "output_type": "stream",
     "text": [
      "10\n",
      "7.99\n",
      "Team Oops is hot:true\n"
     ]
    }
   ],
   "source": [
    "public class Example {\n",
    "\n",
    "    public static void main(String[] args) {\n",
    "\n",
    "        int Herbo = 10;\n",
    "        double gasPrices = 7.99;\n",
    "        final boolean Hot = true;\n",
    "        String name = \"Team Oops is hot:\";\n",
    "\n",
    "        System.out.println(Herbo);\n",
    "        System.out.println(gasPrices);\n",
    "        System.out.println(name + Hot);\n",
    "\n",
    "        // Hot = false; cannot assign a value to final variable Hot \n",
    "\n",
    "    }\n",
    "}\n",
    "\n",
    "Example.main(null);"
   ]
  },
  {
   "cell_type": "markdown",
   "metadata": {},
   "source": [
    "# Hack 1.2\n",
    "Create variables for your biodata (name, age, underclassmen or not, height in feet)\n"
   ]
  },
  {
   "cell_type": "code",
   "execution_count": 4,
   "metadata": {
    "vscode": {
     "languageId": "java"
    }
   },
   "outputs": [
    {
     "name": "stdout",
     "output_type": "stream",
     "text": [
      "Samuel\n",
      "17\n",
      "false\n",
      "6\n"
     ]
    }
   ],
   "source": [
    "public class Biodata {\n",
    "\n",
    "    public static void main(String[] args) {\n",
    "        String name = \"Samuel\";\n",
    "        int age = 17;\n",
    "        boolean underclassman = false; //making variables and printing them\n",
    "        int height = 6;\n",
    "        System.out.println(name);\n",
    "        System.out.println(age);\n",
    "        System.out.println(underclassman);\n",
    "        System.out.println(height);\n",
    "\n",
    "    }\n",
    "}\n",
    "\n",
    "Biodata.main(null);"
   ]
  },
  {
   "cell_type": "code",
   "execution_count": 11,
   "metadata": {
    "vscode": {
     "languageId": "java"
    }
   },
   "outputs": [
    {
     "name": "stdout",
     "output_type": "stream",
     "text": [
      "7\n",
      "7.0\n",
      "-3\n",
      "-3.0\n",
      "10\n",
      "10.0\n",
      "0\n",
      "0.4\n",
      "1.0\n",
      "1\n"
     ]
    }
   ],
   "source": [
    "public class Math {\n",
    "\n",
    "    public static void main(String[] args) {\n",
    "\n",
    "        int number = 2;\n",
    "        int number2 = 5;\n",
    "        double number3 = 2.0;\n",
    "        double number4 = 5.0;\n",
    "\n",
    "        System.out.println(number+number2);\n",
    "        System.out.println(number3+number4);\n",
    "        System.out.println(number-number2);\n",
    "        System.out.println(number3-number4);\n",
    "        System.out.println(number * number2);\n",
    "        System.out.println(number3 * number4);\n",
    "        System.out.println(number/number2);\n",
    "        System.out.println(number3/number4);\n",
    "        System.out.println(number4 % number3);\n",
    "        System.out.println(number2 % number);\n",
    "    }\n",
    "}\n",
    "\n",
    "Math.main(null);"
   ]
  },
  {
   "cell_type": "markdown",
   "metadata": {},
   "source": [
    "# Hack 1.3\n",
    "- Compute the remainder of 6 multiplied by 1234124 divided by 11345 minus 890809 plus 90800 (use order of operations) is divided by 980098, and store this in a variable called num (get an exact number as opposed to a whole number)\n",
    "- Divide num by 100\n",
    "- Print num"
   ]
  },
  {
   "cell_type": "code",
   "execution_count": 13,
   "metadata": {
    "vscode": {
     "languageId": "java"
    }
   },
   "outputs": [
    {
     "name": "stdout",
     "output_type": "stream",
     "text": [
      "-0.09388971729405679\n"
     ]
    }
   ],
   "source": [
    "public class Num {\n",
    "\n",
    "    public static void main(String[] args) {\n",
    "        Double num = (((6.0*1234124.0)/(11345.0-890809.0+90800.0))%980098.0); //the math function, using parentheses to make sure pemdas works well\n",
    "        num = num/100;\n",
    "        System.out.println(num);\n",
    "    }\n",
    "}\n",
    "\n",
    "Num.main(null);"
   ]
  },
  {
   "cell_type": "markdown",
   "metadata": {},
   "source": [
    "# Hack 1.4\n",
    "- Create a code which performs mathmatical calculations with assignment operators!"
   ]
  },
  {
   "cell_type": "code",
   "execution_count": 20,
   "metadata": {
    "vscode": {
     "languageId": "java"
    }
   },
   "outputs": [
    {
     "name": "stdout",
     "output_type": "stream",
     "text": [
      "3.0\n",
      "1.0\n",
      "2.0\n",
      "1.0\n",
      "1.0\n",
      "1.0\n",
      "2.0\n"
     ]
    }
   ],
   "source": [
    "public class Operators {\n",
    "\n",
    "    public static void main(String[] args) {\n",
    "        double n = 1;\n",
    "        double b = 2;\n",
    "        System.out.println(n+=b); // a bunch of diferent math functions\n",
    "        System.out.println(n-=b);\n",
    "        System.out.println(n*=b);\n",
    "        System.out.println(n/=b);\n",
    "        System.out.println(n%=b);\n",
    "        System.out.println(n++);\n",
    "        System.out.println(n--);\n",
    "    }\n",
    "}\n",
    "\n",
    "Operators.main(null);"
   ]
  },
  {
   "cell_type": "code",
   "execution_count": 13,
   "metadata": {
    "vscode": {
     "languageId": "java"
    }
   },
   "outputs": [
    {
     "name": "stdout",
     "output_type": "stream",
     "text": [
      "10.5\n",
      "100\n",
      "10\n",
      "100.0\n",
      "2147483647\n",
      "-2147483648\n"
     ]
    }
   ],
   "source": [
    "public class Cast {\n",
    "\n",
    "    public static void main(String[] args) {\n",
    "        double num = 10.5;\n",
    "        int num2 = 100;\n",
    "        int numInt = (int)num;\n",
    "        double num2Double = (double)num2;\n",
    "\n",
    "        System.out.println(num);\n",
    "        System.out.println(num2);\n",
    "        System.out.println(numInt);\n",
    "        System.out.println(num2Double);\n",
    "        System.out.println(Integer.MAX_VALUE);\n",
    "        System.out.println(Integer.MIN_VALUE);\n",
    "\n",
    "\n",
    "    }\n",
    "}\n",
    "\n",
    "Cast.main(null);"
   ]
  },
  {
   "cell_type": "markdown",
   "metadata": {},
   "source": [
    "# Hack 1.5\n",
    "- Convert 123456.123456 into an integer \n",
    "- Set 678901234567890 into an integer (what do you think will happen?)\n"
   ]
  },
  {
   "cell_type": "code",
   "execution_count": 24,
   "metadata": {
    "vscode": {
     "languageId": "java"
    }
   },
   "outputs": [
    {
     "name": "stdout",
     "output_type": "stream",
     "text": [
      "123456\n"
     ]
    }
   ],
   "source": [
    "public class CastActivity {\n",
    "\n",
    "    public static void main(String[] args) {\n",
    "        double data = 123456.123456;\n",
    "        int value = (int)data; //using casting to truncate\n",
    "        System.out.println(value);\n",
    "        \n",
    "        // int num = 678901234567890;\n",
    "        // System.out.println(num); this turns out to be an error\n",
    "\n",
    "    }\n",
    "}\n",
    "\n",
    "CastActivity.main(null);"
   ]
  },
  {
   "cell_type": "markdown",
   "metadata": {},
   "source": [
    "# Code Example!"
   ]
  },
  {
   "cell_type": "code",
   "execution_count": 1,
   "metadata": {
    "vscode": {
     "languageId": "java"
    }
   },
   "outputs": [
    {
     "name": "stdout",
     "output_type": "stream",
     "text": [
      "What is your name?\n",
      "Kinish\n",
      "How many pizzas do you want to buy?\n",
      "6\n",
      "Do you have the discount (true/false)?\n",
      "true\n",
      "Hi K! You have to pay 7.776 dollars.\n"
     ]
    }
   ],
   "source": [
    "public class Main {\n",
    "    public static void main (String[] args) {\n",
    "      Scanner sc = new Scanner(System.in);\n",
    "      System.out.println(\"What is your name?\");\n",
    "      String name = sc.next(); //string\n",
    "      System.out.println(name);\n",
    "      System.out.println(\"How many pizzas do you want to buy?\");\n",
    "      int pizzas = sc.nextInt(); //integer\n",
    "      System.out.println(pizzas);\n",
    "      System.out.println(\"Do you have the discount (true/false)?\");\n",
    "      boolean hasDiscount = sc.nextBoolean(); //boolean\n",
    "      System.out.println(hasDiscount);\n",
    "  \n",
    "      double price; //double, defaults to 0\n",
    "      if (hasDiscount) {\n",
    "        price = 1.20;\n",
    "      } else {\n",
    "        price = 2.10;\n",
    "      }\n",
    "  \n",
    "      char firstChar = name.charAt(0); //character\n",
    "      double finalPrice = price * pizzas * 1.08; // adding taxes\n",
    "  \n",
    "      System.out.println(\"Hi \" + firstChar + \"! You have to pay \" + (finalPrice) + \" dollars.\");\n",
    "    }\n",
    "  }\n",
    "  \n",
    "  Main.main(null);"
   ]
  }
 ],
 "metadata": {
  "kernelspec": {
   "display_name": "Java",
   "language": "java",
   "name": "java"
  },
  "language_info": {
   "codemirror_mode": "java",
   "file_extension": ".jshell",
   "mimetype": "text/x-java-source",
   "name": "Java",
   "pygments_lexer": "java",
   "version": "17.0.5+8-Ubuntu-2ubuntu120.04"
  },
  "orig_nbformat": 4,
  "vscode": {
   "interpreter": {
    "hash": "863d47b76f95099498eadc0e891b45c2a8f7fe2283e4ed57552a2b8995c301bf"
   }
  }
 },
 "nbformat": 4,
 "nbformat_minor": 2
}
