{
 "cells": [
  {
   "cell_type": "markdown",
   "metadata": {},
   "source": [
    "# Bash Notebook Installations\n",
    "\n",
    "- toc: false\n",
    "- badges: true\n",
    "- comments: true\n",
    "- author: Samuel\n",
    "- categories: [fastpages, CB]\n",
    "- image: images/install.png\n",
    "\n",
    "bash notebook"
   ]
  },
  {
   "cell_type": "markdown",
   "metadata": {},
   "source": [
    "### Cloning Project"
   ]
  },
  {
   "cell_type": "code",
   "execution_count": 10,
   "metadata": {
    "vscode": {
     "languageId": "shellscript"
    }
   },
   "outputs": [
    {
     "name": "stdout",
     "output_type": "stream",
     "text": [
      "Using conditional statement to create a project directory and project\n",
      "Directory /home/samuelwaang/vscode exists.\n",
      "Directory /home/samuelwaang/vscode/samuel exists.\n"
     ]
    }
   ],
   "source": [
    "echo \"Using conditional statement to create a project directory and project\"\n",
    "\n",
    "# Variable section\n",
    "export project_dir=$HOME/vscode  # change vscode to different name to test git clone\n",
    "export project=$project_dir/samuel  # change APCSP to name of project from git clone\n",
    "export project_repo=\"https://github.com/Samuelwaang/samuel\"  # change to project of choice\n",
    "\n",
    "cd ~    # start in home directory\n",
    "\n",
    "# Conditional block to make a project directory\n",
    "if [ ! -d $project_dir ]\n",
    "then \n",
    "    echo \"Directory $project_dir does not exists... makinng directory $project_dir\"\n",
    "    mkdir -p $project_dir\n",
    "fi\n",
    "echo \"Directory $project_dir exists.\" \n",
    "\n",
    "# Conditional block to git clone a project from project_repo\n",
    "if [ ! -d $project ]\n",
    "then\n",
    "    echo \"Directory $project does not exists... cloning $project_repo\"\n",
    "    cd $project_dir\n",
    "    git clone $project_repo\n",
    "    cd ~\n",
    "fi\n",
    "echo \"Directory $project exists.\""
   ]
  },
  {
   "cell_type": "markdown",
   "metadata": {},
   "source": [
    "### Python Versions"
   ]
  },
  {
   "cell_type": "code",
   "execution_count": 11,
   "metadata": {
    "vscode": {
     "languageId": "shellscript"
    }
   },
   "outputs": [
    {
     "name": "stdout",
     "output_type": "stream",
     "text": [
      "Python 2.7.18\n",
      "Python 3.9.12\n"
     ]
    }
   ],
   "source": [
    "python2 --version\n",
    "python3 --version"
   ]
  },
  {
   "cell_type": "markdown",
   "metadata": {},
   "source": [
    "### Java Versions"
   ]
  },
  {
   "cell_type": "code",
   "execution_count": 2,
   "metadata": {
    "vscode": {
     "languageId": "shellscript"
    }
   },
   "outputs": [
    {
     "name": "stdout",
     "output_type": "stream",
     "text": [
      "openjdk 11.0.16 2022-07-19\n",
      "OpenJDK Runtime Environment (build 11.0.16+8-post-Ubuntu-0ubuntu120.04)\n",
      "OpenJDK 64-Bit Server VM (build 11.0.16+8-post-Ubuntu-0ubuntu120.04, mixed mode, sharing)\n",
      "javac 11.0.16\n"
     ]
    }
   ],
   "source": [
    "java --version\n",
    "javac --version"
   ]
  },
  {
   "cell_type": "markdown",
   "metadata": {},
   "source": [
    "### Kernels"
   ]
  },
  {
   "cell_type": "code",
   "execution_count": 9,
   "metadata": {
    "vscode": {
     "languageId": "shellscript"
    }
   },
   "outputs": [
    {
     "name": "stdout",
     "output_type": "stream",
     "text": [
      "Available kernels:\n",
      "  bash          /home/samuelwaang/.local/share/jupyter/kernels/bash\n",
      "  java          /home/samuelwaang/.local/share/jupyter/kernels/java\n",
      "  javascript    /home/samuelwaang/.local/share/jupyter/kernels/javascript\n",
      "  python3       /home/samuelwaang/.local/share/jupyter/kernels/python3\n"
     ]
    }
   ],
   "source": [
    "jupyter kernelspec list"
   ]
  },
  {
   "cell_type": "markdown",
   "metadata": {},
   "source": [
    "### Notes"
   ]
  },
  {
   "cell_type": "markdown",
   "metadata": {},
   "source": [
    "prints directory"
   ]
  },
  {
   "cell_type": "code",
   "execution_count": 13,
   "metadata": {
    "vscode": {
     "languageId": "shellscript"
    }
   },
   "outputs": [
    {
     "name": "stdout",
     "output_type": "stream",
     "text": [
      "/home/samuelwaang/vscode/samuel\n"
     ]
    }
   ],
   "source": [
    "cd $project\n",
    "pwd"
   ]
  },
  {
   "cell_type": "markdown",
   "metadata": {},
   "source": [
    "folders/files of directory"
   ]
  },
  {
   "cell_type": "code",
   "execution_count": 14,
   "metadata": {
    "vscode": {
     "languageId": "shellscript"
    }
   },
   "outputs": [
    {
     "name": "stdout",
     "output_type": "stream",
     "text": [
      "\u001b[0m\u001b[01;35m2022-05-15-07-21-16.png\u001b[0m  \u001b[01;32mREADME.md\u001b[0m        \u001b[01;34m_notebooks\u001b[0m  \u001b[01;34massets\u001b[0m\n",
      "\u001b[01;35m2022-05-15-07-24-25.png\u001b[0m  \u001b[01;34m_action_files\u001b[0m    \u001b[01;34m_pages\u001b[0m      \u001b[01;32mdocker-compose.yml\u001b[0m\n",
      "\u001b[01;35m2022-05-15-07-25-15.png\u001b[0m  _config.yml      \u001b[01;34m_plugins\u001b[0m    \u001b[01;34mimages\u001b[0m\n",
      "\u001b[01;32mGemfile\u001b[0m                  \u001b[01;34m_fastpages_docs\u001b[0m  \u001b[01;34m_posts\u001b[0m      index.html\n",
      "LICENSE                  \u001b[01;34m_includes\u001b[0m        \u001b[01;34m_sass\u001b[0m\n",
      "\u001b[01;32mMakefile\u001b[0m                 \u001b[01;34m_layouts\u001b[0m         \u001b[01;34m_word\u001b[0m\n"
     ]
    }
   ],
   "source": [
    "ls"
   ]
  },
  {
   "cell_type": "markdown",
   "metadata": {},
   "source": [
    "folders/files of directory, including the hidden ones"
   ]
  },
  {
   "cell_type": "markdown",
   "metadata": {},
   "source": [
    "list all files in long format"
   ]
  },
  {
   "cell_type": "code",
   "execution_count": 16,
   "metadata": {
    "vscode": {
     "languageId": "shellscript"
    }
   },
   "outputs": [
    {
     "name": "stdout",
     "output_type": "stream",
     "text": [
      "total 488\n",
      "drwxr-xr-x 16 samuelwaang samuelwaang   4096 Aug 26 10:34 \u001b[0m\u001b[01;34m.\u001b[0m\n",
      "drwxr-xr-x  6 samuelwaang samuelwaang   4096 Aug 23 10:20 \u001b[01;34m..\u001b[0m\n",
      "-rw-r--r--  1 samuelwaang samuelwaang    420 Aug 20 13:49 .devcontainer.json\n",
      "drwxr-xr-x  8 samuelwaang samuelwaang   4096 Aug 27 17:44 \u001b[01;34m.git\u001b[0m\n",
      "-rw-r--r--  1 samuelwaang samuelwaang     84 Aug 20 13:49 .gitattributes\n",
      "drwxr-xr-x  4 samuelwaang samuelwaang   4096 Aug 20 13:49 \u001b[01;34m.github\u001b[0m\n",
      "-rw-r--r--  1 samuelwaang samuelwaang    161 Aug 20 13:49 .gitignore\n",
      "-rw-r--r--  1 samuelwaang samuelwaang 207007 Aug 20 13:49 \u001b[01;35m2022-05-15-07-21-16.png\u001b[0m\n",
      "-rw-r--r--  1 samuelwaang samuelwaang  90979 Aug 20 13:49 \u001b[01;35m2022-05-15-07-24-25.png\u001b[0m\n",
      "-rw-r--r--  1 samuelwaang samuelwaang  81691 Aug 20 13:49 \u001b[01;35m2022-05-15-07-25-15.png\u001b[0m\n",
      "-rwxr-xr-x  1 samuelwaang samuelwaang   1304 Aug 20 13:49 \u001b[01;32mGemfile\u001b[0m\n",
      "-rw-r--r--  1 samuelwaang samuelwaang  11351 Aug 20 13:49 LICENSE\n",
      "-rwxr-xr-x  1 samuelwaang samuelwaang   1422 Aug 20 13:49 \u001b[01;32mMakefile\u001b[0m\n",
      "-rwxr-xr-x  1 samuelwaang samuelwaang   3605 Aug 20 13:49 \u001b[01;32mREADME.md\u001b[0m\n",
      "drwxr-xr-x  2 samuelwaang samuelwaang   4096 Aug 20 13:49 \u001b[01;34m_action_files\u001b[0m\n",
      "-rw-r--r--  1 samuelwaang samuelwaang   3606 Aug 26 10:33 _config.yml\n",
      "drwxr-xr-x  2 samuelwaang samuelwaang   4096 Aug 20 13:49 \u001b[01;34m_fastpages_docs\u001b[0m\n",
      "drwxr-xr-x  2 samuelwaang samuelwaang   4096 Aug 20 13:49 \u001b[01;34m_includes\u001b[0m\n",
      "drwxr-xr-x  2 samuelwaang samuelwaang   4096 Aug 20 13:49 \u001b[01;34m_layouts\u001b[0m\n",
      "drwxr-xr-x  4 samuelwaang samuelwaang   4096 Aug 26 10:37 \u001b[01;34m_notebooks\u001b[0m\n",
      "drwxr-xr-x  2 samuelwaang samuelwaang   4096 Aug 26 10:33 \u001b[01;34m_pages\u001b[0m\n",
      "drwxr-xr-x  2 samuelwaang samuelwaang   4096 Aug 20 13:49 \u001b[01;34m_plugins\u001b[0m\n",
      "drwxr-xr-x  2 samuelwaang samuelwaang   4096 Aug 26 10:33 \u001b[01;34m_posts\u001b[0m\n",
      "drwxr-xr-x  3 samuelwaang samuelwaang   4096 Aug 20 13:49 \u001b[01;34m_sass\u001b[0m\n",
      "drwxr-xr-x  2 samuelwaang samuelwaang   4096 Aug 20 13:49 \u001b[01;34m_word\u001b[0m\n",
      "drwxr-xr-x  4 samuelwaang samuelwaang   4096 Aug 20 13:49 \u001b[01;34massets\u001b[0m\n",
      "-rwxr-xr-x  1 samuelwaang samuelwaang   1136 Aug 20 13:49 \u001b[01;32mdocker-compose.yml\u001b[0m\n",
      "drwxr-xr-x  3 samuelwaang samuelwaang   4096 Aug 26 10:33 \u001b[01;34mimages\u001b[0m\n",
      "-rw-r--r--  1 samuelwaang samuelwaang     91 Aug 26 10:33 index.html\n"
     ]
    }
   ],
   "source": [
    "ls -al"
   ]
  },
  {
   "cell_type": "markdown",
   "metadata": {},
   "source": [
    "lists files in a folder"
   ]
  },
  {
   "cell_type": "code",
   "execution_count": 18,
   "metadata": {
    "vscode": {
     "languageId": "shellscript"
    }
   },
   "outputs": [
    {
     "name": "stdout",
     "output_type": "stream",
     "text": [
      "/home/samuelwaang/vscode/samuel/_posts\n",
      "total 12\n",
      "-rwxr-xr-x 1 samuelwaang samuelwaang 1966 Aug 20 13:49 \u001b[0m\u001b[01;32m2020-01-14-test-markdown-post.md\u001b[0m\n",
      "-rw-r--r-- 1 samuelwaang samuelwaang  181 Aug 26 10:33 2022-08-19-random-post.md\n",
      "-rw-r--r-- 1 samuelwaang samuelwaang  720 Aug 20 13:49 README.md\n"
     ]
    }
   ],
   "source": [
    "cd $posts\n",
    "pwd \n",
    "ls -l"
   ]
  },
  {
   "cell_type": "markdown",
   "metadata": {},
   "source": [
    "prints what's in the file"
   ]
  },
  {
   "cell_type": "code",
   "execution_count": 19,
   "metadata": {
    "vscode": {
     "languageId": "shellscript"
    }
   },
   "outputs": [
    {
     "name": "stdout",
     "output_type": "stream",
     "text": [
      "⚠️ Do not delete this directory!  You can delete the blog post files in this directory, but you should still keep this directory around as Jekyll expects this folder to exist.\n",
      "\n",
      "# Auto-convert markdown files To Posts\n",
      "\n",
      "[`fastpages`](https://github.com/fastai/fastpages) will automatically convert markdown files saved into this directory as blog posts!\n",
      "\n",
      "You must save your notebook with the naming convention `YYYY-MM-DD-*.md`.  Examples of valid filenames are:\n",
      "\n",
      "```shell\n",
      "2020-01-28-My-First-Post.md\n",
      "2012-09-12-how-to-write-a-blog.md\n",
      "```\n",
      "\n",
      "# Resources\n",
      "\n",
      "- [Jekyll posts](https://jekyllrb.com/docs/posts/)\n",
      "- [Example markdown post](https://github.com/fastai/fastpages/blob/master/_posts/2020-01-14-test-markdown-post.md)\n"
     ]
    }
   ],
   "source": [
    "cat README.md"
   ]
  },
  {
   "cell_type": "markdown",
   "metadata": {},
   "source": [
    "### Hack"
   ]
  },
  {
   "cell_type": "markdown",
   "metadata": {},
   "source": [
    "checks for python modules"
   ]
  },
  {
   "cell_type": "code",
   "execution_count": 10,
   "metadata": {
    "vscode": {
     "languageId": "shellscript"
    }
   },
   "outputs": [
    {
     "name": "stdout",
     "output_type": "stream",
     "text": [
      "ipython                   8.2.0            py39h06a4308_0  \n",
      "ipython_genutils          0.2.0              pyhd3eb1b0_1  \n",
      "msgpack-python            1.0.2            py39hff7bd54_1  \n",
      "python                    3.9.12               h12debd9_0  \n",
      "python-dateutil           2.8.2              pyhd3eb1b0_0  \n",
      "python-fastjsonschema     2.15.1             pyhd3eb1b0_0  \n",
      "python-libarchive-c       2.9                pyhd3eb1b0_1  \n",
      "python-lsp-black          1.0.0              pyhd3eb1b0_0  \n",
      "python-lsp-jsonrpc        1.0.0              pyhd3eb1b0_0  \n",
      "python-lsp-server         1.2.4              pyhd3eb1b0_0  \n",
      "python-slugify            5.0.2              pyhd3eb1b0_0  \n",
      "python-snappy             0.6.0            py39h2531618_3  \n"
     ]
    }
   ],
   "source": [
    "test=\"python\"\n",
    "check=`conda list | grep $test`\n",
    "n=${#check}\n",
    "\n",
    "if [[ ${n} > 0 ]]; \n",
    "then\n",
    "    echo \"$check\"\n",
    "else \n",
    "    echo \"$test not found\"\n",
    "fi\n"
   ]
  },
  {
   "cell_type": "markdown",
   "metadata": {},
   "source": [
    "Install java kernel if missing"
   ]
  },
  {
   "cell_type": "code",
   "execution_count": 9,
   "metadata": {
    "vscode": {
     "languageId": "shellscript"
    }
   },
   "outputs": [
    {
     "name": "stdout",
     "output_type": "stream",
     "text": [
      "java is already installed\n"
     ]
    }
   ],
   "source": [
    "test=\"java\"\n",
    "check=`jupyter kernelspec list | grep $test`\n",
    "n=${#check}\n",
    "\n",
    "if [[ ${n} > 0 ]]; \n",
    "then\n",
    "    echo \"$test is already installed\"\n",
    "else \n",
    "    wget https://github.com/SpencerPark/IJava/releases/download/v1.3.0/ijava-1.3.0.zip\n",
    "    unzip ijava-1.3.0.zip\n",
    "    python install.py\n",
    "    echo \"$test has been installed\"\n",
    "fi"
   ]
  },
  {
   "cell_type": "markdown",
   "metadata": {},
   "source": [
    "### Update Repository"
   ]
  },
  {
   "cell_type": "code",
   "execution_count": 12,
   "metadata": {
    "vscode": {
     "languageId": "shellscript"
    }
   },
   "outputs": [
    {
     "name": "stdout",
     "output_type": "stream",
     "text": [
      "pulling...\n",
      "Already up to date.\n"
     ]
    }
   ],
   "source": [
    "echo \"pulling...\"\n",
    "git pull"
   ]
  },
  {
   "cell_type": "code",
   "execution_count": 27,
   "metadata": {
    "vscode": {
     "languageId": "shellscript"
    }
   },
   "outputs": [
    {
     "name": "stdout",
     "output_type": "stream",
     "text": [
      "committing...\n",
      "[master 50861e6] New Commit\n",
      " 1 file changed, 3 insertions(+), 3 deletions(-)\n"
     ]
    }
   ],
   "source": [
    "echo \"committing...\"\n",
    "git commit -a -m \"New Commit\"\n"
   ]
  }
 ],
 "metadata": {
  "kernelspec": {
   "display_name": "Bash",
   "language": "bash",
   "name": "bash"
  },
  "language_info": {
   "codemirror_mode": "shell",
   "file_extension": ".sh",
   "mimetype": "text/x-sh",
   "name": "bash"
  },
  "orig_nbformat": 4
 },
 "nbformat": 4,
 "nbformat_minor": 2
}
