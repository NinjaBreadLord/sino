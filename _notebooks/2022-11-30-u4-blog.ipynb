{
 "cells": [
  {
   "cell_type": "markdown",
   "metadata": {},
   "source": [
    "# Unit 4 Blog Iteration\n",
    "\n",
    "- toc: false\n",
    "- badges: true\n",
    "- comments: true\n",
    "- author: Samuel\n",
    "- categories: [fastpages, CB]\n",
    "- image: images/picture.jpg\n",
    "\n",
    "\n"
   ]
  },
  {
   "cell_type": "markdown",
   "metadata": {},
   "source": [
    "while loops loops until the boolean inside is false, which stops the while loop from continuing"
   ]
  },
  {
   "cell_type": "code",
   "execution_count": 1,
   "metadata": {
    "vscode": {
     "languageId": "java"
    }
   },
   "outputs": [
    {
     "name": "stdout",
     "output_type": "stream",
     "text": [
      "5\n",
      "4\n",
      "3\n",
      "2\n",
      "1\n"
     ]
    }
   ],
   "source": [
    "int x = 5;\n",
    "\n",
    "while (x > 0) {\n",
    "    System.out.println(x);\n",
    "    x--;\n",
    "}"
   ]
  },
  {
   "cell_type": "markdown",
   "metadata": {},
   "source": [
    "the loop keeps looping if the condition inside of is true"
   ]
  },
  {
   "cell_type": "code",
   "execution_count": 2,
   "metadata": {
    "vscode": {
     "languageId": "java"
    }
   },
   "outputs": [
    {
     "name": "stdout",
     "output_type": "stream",
     "text": [
      "0\n",
      "1\n",
      "2\n",
      "3\n",
      "4\n"
     ]
    }
   ],
   "source": [
    "for(int i=0;i<5;i++) {\n",
    "    System.out.println(i);\n",
    "}"
   ]
  },
  {
   "cell_type": "markdown",
   "metadata": {},
   "source": [
    "can use for loops on strings to iterate through"
   ]
  },
  {
   "cell_type": "code",
   "execution_count": 3,
   "metadata": {
    "vscode": {
     "languageId": "java"
    }
   },
   "outputs": [
    {
     "name": "stdout",
     "output_type": "stream",
     "text": [
      "ab\n",
      "cd\n",
      "ef\n"
     ]
    }
   ],
   "source": [
    "String name = \"abcdef\";\n",
    "\n",
    "for (int i = 0; i < name.length(); i+=2) {\n",
    "    System.out.println(name.substring(i,i+2));\n",
    "}"
   ]
  },
  {
   "cell_type": "markdown",
   "metadata": {},
   "source": [
    "### while loop versus do while loop"
   ]
  },
  {
   "cell_type": "markdown",
   "metadata": {},
   "source": [
    "* while loops are loos that keep continuing until a boolean isn't met anymore\n",
    "* do while loops are the same as while loops except for the loop checking for the conditions after checking a statement"
   ]
  },
  {
   "cell_type": "markdown",
   "metadata": {},
   "source": [
    "### for loop, enhanced loop "
   ]
  },
  {
   "cell_type": "markdown",
   "metadata": {},
   "source": [
    "* enhanced for loops are easier to use and errors will usually happen less, as you don't have to manage steps by themselves, but for loops allows you to control everything about looping\n",
    "* for loops you can change by how many steps it iterates and if it goes backwards or forwards\n",
    "* enhanced for loops will just go forward and increment its steps by 1\n"
   ]
  },
  {
   "cell_type": "code",
   "execution_count": 4,
   "metadata": {
    "vscode": {
     "languageId": "java"
    }
   },
   "outputs": [
    {
     "name": "stdout",
     "output_type": "stream",
     "text": [
      "2\n",
      "10\n",
      "5\n",
      "12\n"
     ]
    }
   ],
   "source": [
    "public class Main {\n",
    "\n",
    "    public static void main(String[] args) {\n",
    "\n",
    "            // create an array\n",
    "        int[] data = {2, 10, 5, 12};\n",
    "    \n",
    "            // for each loop \n",
    "        for (int number: data) {\n",
    "        System.out.println(number);\n",
    "\n",
    "    }\n",
    "}\n",
    "}\n",
    "Main.main(null);"
   ]
  },
  {
   "cell_type": "markdown",
   "metadata": {},
   "source": [
    "* a nested loop is a loop inside of another loop"
   ]
  },
  {
   "cell_type": "code",
   "execution_count": 5,
   "metadata": {
    "vscode": {
     "languageId": "java"
    }
   },
   "outputs": [
    {
     "name": "stdout",
     "output_type": "stream",
     "text": [
      "Week: 1\n",
      "  Day: 1\n",
      "  Day: 2\n",
      "  Day: 3\n",
      "  Day: 4\n",
      "  Day: 5\n",
      "  Day: 6\n",
      "  Day: 7\n",
      "Week: 2\n",
      "  Day: 1\n",
      "  Day: 2\n",
      "  Day: 3\n",
      "  Day: 4\n",
      "  Day: 5\n",
      "  Day: 6\n",
      "  Day: 7\n",
      "Week: 3\n",
      "  Day: 1\n",
      "  Day: 2\n",
      "  Day: 3\n",
      "  Day: 4\n",
      "  Day: 5\n",
      "  Day: 6\n",
      "  Day: 7\n"
     ]
    }
   ],
   "source": [
    "class Main {\n",
    "    public static void main(String[] args) {\n",
    "  \n",
    "      int weeks = 3;\n",
    "      int days = 7;\n",
    "  \n",
    "      \n",
    "      for (int i = 1; i <= weeks; ++i) {\n",
    "        System.out.println(\"Week: \" + i);\n",
    "  \n",
    "  \n",
    "        for (int j = 1; j <= days; ++j) {\n",
    "          System.out.println(\"  Day: \" + j);\n",
    "        }\n",
    "      }\n",
    "    }\n",
    "  }\n",
    "  Main.main(null);"
   ]
  },
  {
   "cell_type": "markdown",
   "metadata": {},
   "source": [
    "HW"
   ]
  },
  {
   "cell_type": "code",
   "execution_count": 6,
   "metadata": {
    "vscode": {
     "languageId": "java"
    }
   },
   "outputs": [
    {
     "name": "stdout",
     "output_type": "stream",
     "text": [
      "[d, e, f, g, h, i, j, k, l, m, n, o, p, q, r, s, t, u, v, w, x, y, z, a, b, c]\n",
      " NiceWjobX\n",
      " codeWcodeWcode\n",
      " supercalifragilisticexpialidocious\n"
     ]
    }
   ],
   "source": [
    "public class CaesarCipher {\n",
    "\n",
    "\n",
    "    public static void main(String[] args) {\n",
    "\n",
    "        String[] letters = {\"a\", \"b\", \"c\", \"d\", \"e\", \"f\", \"g\", \"h\", \"i\", \"j\", \"k\", \"l\", \"m\", \"n\", \"o\", \"p\", \"q\", \"r\", \"s\", \"t\", \"u\", \"v\", \"w\", \"x\", \"y\", \"z\"};\n",
    "        String message1 = \"Kfzb gly!\";\n",
    "        String message2 = \"zlab zlab zlab\";\n",
    "        String message3 = \"prmbozxifcoxdfifpqfzbumfxifalzflrp\";\n",
    "        ArrayList<String> caesar = new ArrayList<String>();\n",
    "        for (int i = 0; i < letters.length; i++) {\n",
    "            int d = 0;\n",
    "            if (i < 23) { \n",
    "                caesar.add(letters[i+3]);\n",
    "            }\n",
    "            else {\n",
    "                caesar.add(letters[i+3-26]);\n",
    "            }\n",
    "\n",
    "        }\n",
    "        String message11 = \" \";\n",
    "        for (char c : message1.toCharArray()) {\n",
    "                message11 += Character.toString((char) (((c - 'a' + 3) % 26) + 'a'));\n",
    "        }\n",
    "        String message22 = \" \";\n",
    "        for (char c : message2.toCharArray()) {\n",
    "                message22 += Character.toString((char) (((c - 'a' + 3) % 26) + 'a'));\n",
    "        }\n",
    "        String message33 = \" \";\n",
    "        for (char c : message3.toCharArray()) {\n",
    "                message33 += Character.toString((char) (((c - 'a' + 3) % 26) + 'a'));\n",
    "        }\n",
    "        System.out.println(caesar);\n",
    "        System.out.println(message11);\n",
    "        System.out.println(message22);\n",
    "        System.out.println(message33);\n",
    "        \n",
    "        \n",
    "\n",
    "\n",
    "    }\n",
    "}\n",
    "CaesarCipher.main(null);"
   ]
  }
 ],
 "metadata": {
  "kernelspec": {
   "display_name": "Java",
   "language": "java",
   "name": "java"
  },
  "language_info": {
   "codemirror_mode": "java",
   "file_extension": ".jshell",
   "mimetype": "text/x-java-source",
   "name": "Java",
   "pygments_lexer": "java",
   "version": "17.0.5+8-Ubuntu-2ubuntu120.04"
  },
  "orig_nbformat": 4,
  "vscode": {
   "interpreter": {
    "hash": "863d47b76f95099498eadc0e891b45c2a8f7fe2283e4ed57552a2b8995c301bf"
   }
  }
 },
 "nbformat": 4,
 "nbformat_minor": 2
}
