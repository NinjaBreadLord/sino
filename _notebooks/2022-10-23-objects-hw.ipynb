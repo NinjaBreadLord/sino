{
 "cells": [
  {
   "cell_type": "markdown",
   "metadata": {},
   "source": [
    "# Unit 2 Blog Objects\n",
    "\n",
    "- toc: false\n",
    "- badges: true\n",
    "- comments: true\n",
    "- author: Samuel\n",
    "- categories: [fastpages, pbl]\n",
    "- image: images/picture.jpg\n",
    "\n",
    "\n",
    "Objects HW"
   ]
  },
  {
   "cell_type": "markdown",
   "metadata": {},
   "source": [
    "## Instances of Classes\n",
    "- java is object-oriented programming, java is about manipulating objects\n",
    "- objects are a reference type, when referring to it, you are referring to where it is stored\n",
    "- an object is an instance of a class\n",
    "\n",
    "## Constructors \n",
    "- to make object, call constructor, will initialize the object and make characteristics\n",
    "- Class object = new Class();\n",
    "\n",
    "## Constructor Overloading\n",
    "- one class can have multiple constructors, the different constructors need to have diff numbers of parameters or different order of variables, each constructor will make objects with same types of characteristics, but are created differently\n",
    "- parameters missing are given default parameters instead\n",
    "\n",
    "## Null Objects\n",
    "- object can be made null , makes it so no object exists for that\n",
    "\n",
    "## Void Methods vs. Non-Void Methods\n",
    "- void methods don't return value, change characteristics of object or prints text\n",
    "- static methods belong to a class, not tied to an object\n",
    "\n",
    "## static v non-static\n",
    "- dot notation to use static, classname.method()\n",
    "- non-static on a particular object, objectname.method()\n",
    "\n",
    "## write/call methods with parameters\n",
    "- parameters in the parentheses, \n",
    "- to call method, plug values in place of variables\n",
    "\n",
    "## Non-void method\n",
    "- use method as part of expression/stored as variable\n",
    "- dataType variableName = methodName(parameterListOptional);\n",
    "\n",
    "## Strings\n",
    "- string literals are objects\n",
    "- escape characters print a character or empty space\n",
    "- combine strings with concatenation, used through + operator\n"
   ]
  },
  {
   "cell_type": "markdown",
   "metadata": {},
   "source": [
    "# Vocab"
   ]
  },
  {
   "cell_type": "markdown",
   "metadata": {},
   "source": [
    "### Overloading a method, same name different parameters"
   ]
  },
  {
   "cell_type": "markdown",
   "metadata": {},
   "source": [
    "When you use the same method name in a class each with different parameters. "
   ]
  },
  {
   "cell_type": "markdown",
   "metadata": {},
   "source": [
    "### Overriding a method, same signature of a method"
   ]
  },
  {
   "cell_type": "markdown",
   "metadata": {},
   "source": [
    "When a subclass has the same name and parameters as the parent class"
   ]
  },
  {
   "cell_type": "markdown",
   "metadata": {},
   "source": [
    "### Late binding of object"
   ]
  },
  {
   "cell_type": "markdown",
   "metadata": {},
   "source": [
    "Late binding is when the compiler runs the object and is created then and there"
   ]
  },
  {
   "cell_type": "markdown",
   "metadata": {},
   "source": [
    "### Polymorphism: any of overloading, overriding, late binding\n",
    "Multiple methods with the same name but different parameters \n"
   ]
  },
  {
   "cell_type": "markdown",
   "metadata": {},
   "source": [
    "### Comparing Objects"
   ]
  },
  {
   "cell_type": "code",
   "execution_count": 1,
   "metadata": {
    "vscode": {
     "languageId": "java"
    }
   },
   "outputs": [
    {
     "name": "stdout",
     "output_type": "stream",
     "text": [
      "false\n"
     ]
    }
   ],
   "source": [
    "\n",
    "import java.io.*;\n",
    " \n",
    "class Pet {\n",
    "\n",
    "    String name;\n",
    "    int age;\n",
    "    String breed;\n",
    " \n",
    "\n",
    "    Pet(String name, int age, String breed)\n",
    "    {\n",
    "        this.name = name;\n",
    "        this.age = age;\n",
    "        this.breed = breed;\n",
    "    }\n",
    "}\n",
    "\n",
    "public class Main {\n",
    " \n",
    "    public static void main(String args[])\n",
    "    {\n",
    " \n",
    "        Pet dog1 = new Pet(\"Snow\", 3, \"German Shepherd\"); //late binding\n",
    "        Pet cat = new Pet(\"Jack\", 2, \"Tabby\"); //overriding method different\n",
    "        Pet dog2 = new Pet(\"Snow\", 3, \"German Shepherd\"); //overriding method same\n",
    "        \n",
    "        \n",
    "        System.out.println(dog1.equals(dog2));\n",
    "    }\n",
    "}\n",
    "\n",
    "Main.main(null);"
   ]
  },
  {
   "cell_type": "markdown",
   "metadata": {},
   "source": [
    "* equals and hashCode methods can be used to compare objects\n",
    "* equals method compares equality of two objects"
   ]
  },
  {
   "cell_type": "markdown",
   "metadata": {},
   "source": [
    "### Standard methods: toString(), equals(), hashCode()"
   ]
  },
  {
   "cell_type": "markdown",
   "metadata": {},
   "source": [
    "* toString() method returns a string representation of a class\n",
    "* equals() compares two strings\n",
    "* hashCode() returns the integer value that is associated with all values in Java(aka the hash code)\n"
   ]
  },
  {
   "cell_type": "markdown",
   "metadata": {},
   "source": [
    "### Abstract Class, Abstract Method"
   ]
  },
  {
   "cell_type": "markdown",
   "metadata": {},
   "source": [
    "This class’s objects and methods can be referenced, however the class itself is not initialized. "
   ]
  },
  {
   "cell_type": "markdown",
   "metadata": {},
   "source": [
    "![google form](images/googleform.PNG \"google form\")"
   ]
  },
  {
   "cell_type": "markdown",
   "metadata": {},
   "source": [
    "### FRQs"
   ]
  },
  {
   "cell_type": "markdown",
   "metadata": {},
   "source": [
    "a)"
   ]
  },
  {
   "cell_type": "code",
   "execution_count": 2,
   "metadata": {
    "vscode": {
     "languageId": "java"
    }
   },
   "outputs": [],
   "source": [
    "public int scoreGuess( String guess )\n",
    "{\n",
    "    int val = 0;\n",
    "    int len = guess.length();\n",
    "    for( int i = 0; i <= secret.length()-len; i+=1)\n",
    "    {\n",
    "        String ck = secret.substring( i, i+len );\n",
    "        if( ck.equals(guess) )\n",
    "            val++;\n",
    "    }\n",
    "    return val*len*len;\n",
    "}"
   ]
  },
  {
   "cell_type": "markdown",
   "metadata": {},
   "source": [
    "b)"
   ]
  },
  {
   "cell_type": "code",
   "execution_count": 3,
   "metadata": {
    "vscode": {
     "languageId": "java"
    }
   },
   "outputs": [],
   "source": [
    "public String findBetterGuess(String guess1, String guess2 )\n",
    "{\n",
    "    int a = scoreGuess( guess1 );\n",
    "    int b = scoreGuess( guess2 );\n",
    "    if( a > b ) return guess1;\n",
    "    if( b > a ) return guess2;\n",
    "    if( guess1.compareTo( guess2 ) > 0 )\n",
    "    return guess1;\n",
    "    return guess2;\n",
    "}"
   ]
  }
 ],
 "metadata": {
  "kernelspec": {
   "display_name": "Java",
   "language": "java",
   "name": "java"
  },
  "language_info": {
   "codemirror_mode": "java",
   "file_extension": ".jshell",
   "mimetype": "text/x-java-source",
   "name": "Java",
   "pygments_lexer": "java",
   "version": "17.0.5+8-Ubuntu-2ubuntu120.04"
  },
  "orig_nbformat": 4,
  "vscode": {
   "interpreter": {
    "hash": "863d47b76f95099498eadc0e891b45c2a8f7fe2283e4ed57552a2b8995c301bf"
   }
  }
 },
 "nbformat": 4,
 "nbformat_minor": 2
}
