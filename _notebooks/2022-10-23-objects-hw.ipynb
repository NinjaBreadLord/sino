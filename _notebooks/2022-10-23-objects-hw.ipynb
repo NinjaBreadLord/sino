{
 "cells": [
  {
   "cell_type": "markdown",
   "metadata": {},
   "source": [
    "# Objects HW\n",
    "\n",
    "- toc: false\n",
    "- badges: true\n",
    "- comments: true\n",
    "- author: Samuel\n",
    "- categories: [fastpages, CB, HW]\n",
    "- image: images/picture.jpg\n",
    "\n",
    "\n",
    "Objects HW"
   ]
  },
  {
   "cell_type": "markdown",
   "metadata": {},
   "source": [
    "![google form](images/googleform.PNG \"google form\")"
   ]
  },
  {
   "cell_type": "markdown",
   "metadata": {},
   "source": [
    "### FRQs"
   ]
  },
  {
   "cell_type": "markdown",
   "metadata": {},
   "source": [
    "a)"
   ]
  },
  {
   "cell_type": "code",
   "execution_count": null,
   "metadata": {},
   "outputs": [],
   "source": [
    "public int scoreGuess( String guess )\n",
    "{\n",
    "    int val = 0;\n",
    "    int len = guess.length();\n",
    "    for( int i = 0; i <= secret.length()-len; i+=1)\n",
    "    {\n",
    "        String ck = secret.substring( i, i+len );\n",
    "        if( ck.equals(guess) )\n",
    "            val++;\n",
    "    }\n",
    "    return val*len*len;\n",
    "}"
   ]
  },
  {
   "cell_type": "markdown",
   "metadata": {},
   "source": [
    "b)"
   ]
  },
  {
   "cell_type": "code",
   "execution_count": null,
   "metadata": {},
   "outputs": [],
   "source": [
    "public String findBetterGuess(String guess1, String guess2 )\n",
    "{\n",
    "    int a = scoreGuess( guess1 );\n",
    "    int b = scoreGuess( guess2 );\n",
    "    if( a > b ) return guess1;\n",
    "    if( b > a ) return guess2;\n",
    "    if( guess1.compareTo( guess2 ) > 0 )\n",
    "    return guess1;\n",
    "    return guess2;\n",
    "}"
   ]
  }
 ],
 "metadata": {
  "kernelspec": {
   "display_name": "Java",
   "language": "java",
   "name": "java"
  },
  "language_info": {
   "name": "java"
  },
  "orig_nbformat": 4
 },
 "nbformat": 4,
 "nbformat_minor": 2
}
