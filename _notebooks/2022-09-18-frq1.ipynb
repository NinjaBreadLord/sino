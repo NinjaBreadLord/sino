{
 "cells": [
  {
   "cell_type": "markdown",
   "metadata": {},
   "source": [
    "# FRQ 1 Notebook\n",
    "\n",
    "- toc: false\n",
    "- badges: true\n",
    "- comments: true\n",
    "- author: Samuel\n",
    "- categories: [CB, jupyter]\n",
    "- image: images/collegeboard.png\n",
    "\n",
    "FRQ1"
   ]
  },
  {
   "cell_type": "markdown",
   "metadata": {},
   "source": [
    "### 2016 FRQ question #1"
   ]
  },
  {
   "cell_type": "markdown",
   "metadata": {},
   "source": [
    "a. Write the entire RandomStringChooser class. Your implementation must include an appropriate\n",
    "constructor and any necessary methods. Any instance variables must be private. The code segment in\n",
    "the example above should have the indicated behavior (that is, it must compile and produce a result like the\n",
    "possible output shown). Neither the constructor nor any of the methods should alter the parameter passed to\n",
    "the constructor, but your implementation may copy the contents of the array. "
   ]
  },
  {
   "cell_type": "code",
   "execution_count": 78,
   "metadata": {},
   "outputs": [
    {
     "name": "stdout",
     "output_type": "stream",
     "text": [
      "[chicken, cow, pig, None] [chicken, pig, cow, None] [cow, chicken, pig, None] "
     ]
    }
   ],
   "source": [
    "public class RandomStringChooser {   //makes class\n",
    "\n",
    "    public RandomStringChooser(String str) { //creates class constructor for RandomStringChooser class\n",
    "        ArrayList<String> stringArray = new ArrayList<String>(); \n",
    "        ArrayList<String> z = new ArrayList<String>(); \n",
    "    }\n",
    "\n",
    "    public static void getNext(String[] args) { //getNext method\n",
    "        for (int l = 0; l < 3; l++) { //running 3 times to show that it is random each time\n",
    "            z.clear();\n",
    "            stringArray.add(\"chicken\");  //adding a couple inputs to the initial list\n",
    "            stringArray.add(\"cow\");  \n",
    "            stringArray.add(\"pig\");  \n",
    "            int num = stringArray.size();\n",
    "            for (int i = 0; i < 4; i++) { //for loop that iterates 4 times, which is one more than the amount of elements in the initial array\n",
    "                int b = stringArray.size(); // sets b to the number of elements in the initial array\n",
    "                int random = (int)(Math.random() * stringArray.size()); //randomizes a number\n",
    "                if (b > 0) { //if the amount of elements in the initial array is greater than 0, first add the chosen element to a new array and then delete that element from the original array\n",
    "                    z.add(stringArray.get(random));\n",
    "                    stringArray.remove(random);\n",
    "                }\n",
    "                else { // if the amount of elements in the initial array is 0, then it adds none to the new array\n",
    "                    z.add(\"None\");\n",
    "            \n",
    "                }\n",
    "            }\n",
    "            System.out.print(z + \" \");  //prints final array  \n",
    "        }    \n",
    "    }   \n",
    "}   \n",
    "\n",
    "RandomStringChooser.getNext(null);"
   ]
  },
  {
   "cell_type": "markdown",
   "metadata": {},
   "source": [
    "b. Complete the RandomLetterChooser constructor below.\n",
    " /** Constructs a random letter chooser using the given string str.\n",
    " * Precondition: str contains only letters.\n",
    " */\n",
    " public RandomLetterChooser(String str)"
   ]
  },
  {
   "cell_type": "code",
   "execution_count": null,
   "metadata": {},
   "outputs": [],
   "source": [
    "public RandomLetterChooser(String str) //finish constructor and calls the superclass method getSingleLetters\n",
    "{\n",
    "    super(getSingleLetters(str));\n",
    "}"
   ]
  }
 ],
 "metadata": {
  "kernelspec": {
   "display_name": "Java",
   "language": "java",
   "name": "java"
  },
  "language_info": {
   "codemirror_mode": "java",
   "file_extension": ".jshell",
   "mimetype": "text/x-java-source",
   "name": "java",
   "pygments_lexer": "java",
   "version": "11.0.16+8-post-Ubuntu-0ubuntu120.04"
  },
  "orig_nbformat": 4,
  "vscode": {
   "interpreter": {
    "hash": "916dbcbb3f70747c44a77c7bcd40155683ae19c65e1c03b4aa3499c5328201f1"
   }
  }
 },
 "nbformat": 4,
 "nbformat_minor": 2
}
