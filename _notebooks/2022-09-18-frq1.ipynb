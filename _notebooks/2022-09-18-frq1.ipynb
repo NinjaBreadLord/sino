{
 "cells": [
  {
   "cell_type": "markdown",
   "metadata": {},
   "source": [
    "# FRQ 1 Notebook\n",
    "\n",
    "- toc: false\n",
    "- badges: true\n",
    "- comments: true\n",
    "- author: Samuel\n",
    "- categories: [cb, jupyter]\n",
    "- image: images/collegeboard.png\n",
    "\n",
    "FRQ1"
   ]
  },
  {
   "cell_type": "markdown",
   "metadata": {},
   "source": [
    "### 2016 FRQ question #1"
   ]
  },
  {
   "cell_type": "markdown",
   "metadata": {},
   "source": [
    "a. Write the entire RandomStringChooser class. Your implementation must include an appropriate\n",
    "constructor and any necessary methods. Any instance variables must be private. The code segment in\n",
    "the example above should have the indicated behavior (that is, it must compile and produce a result like the\n",
    "possible output shown). Neither the constructor nor any of the methods should alter the parameter passed to\n",
    "the constructor, but your implementation may copy the contents of the array. "
   ]
  },
  {
   "cell_type": "code",
   "execution_count": 51,
   "metadata": {
    "vscode": {
     "languageId": "java"
    }
   },
   "outputs": [
    {
     "name": "stdout",
     "output_type": "stream",
     "text": [
      "[cow, pig, chicken, None] "
     ]
    }
   ],
   "source": [
    "public class RandomStringChooser {   \n",
    "\n",
    "    public static String getNext(String[] stringArray) {\n",
    "\n",
    "        int num = stringArray.size();\n",
    "\n",
    "        for (int i = 0; i < 4; i++) {\n",
    "            int b = stringArray.size();\n",
    "            int random = (int)(Math.random() * stringArray.size());\n",
    "            if (b > 0) {\n",
    "                z.add(stringArray.get(random));\n",
    "                stringArray.remove(random);\n",
    "            }\n",
    "            else {\n",
    "                z.add(\"None\");\n",
    "\n",
    "            }\n",
    "        }    \n",
    "    } \n",
    "    public static void main() {\n",
    "        ArrayList<String> stringArray = new ArrayList<String>(); \n",
    "        ArrayList<String> z = new ArrayList<String>(); \n",
    "        stringArray.add(\"chicken\");  \n",
    "        stringArray.add(\"cow\");  \n",
    "        stringArray.add(\"pig\");  \n",
    "        System.out.print(z + \" \");\n",
    "        String final = stringArray.getNext; \n",
    "\n",
    "\n",
    "    }   \n",
    "}   \n",
    "\n",
    "RandomStringChooser.main();"
   ]
  },
  {
   "cell_type": "markdown",
   "metadata": {},
   "source": [
    "b. Complete the RandomLetterChooser constructor below.\n",
    " /** Constructs a random letter chooser using the given string str.\n",
    " * Precondition: str contains only letters.\n",
    " */\n",
    " public RandomLetterChooser(String str)"
   ]
  },
  {
   "cell_type": "code",
   "execution_count": null,
   "metadata": {
    "vscode": {
     "languageId": "java"
    }
   },
   "outputs": [],
   "source": [
    "public RandomLetterChooser(String str)\n",
    "{\n",
    "    super(getSingleLetters(str));\n",
    "}"
   ]
  }
 ],
 "metadata": {
  "kernelspec": {
   "display_name": "Java",
   "language": "java",
   "name": "java"
  },
  "language_info": {
   "codemirror_mode": "java",
   "file_extension": ".jshell",
   "mimetype": "text/x-java-source",
   "name": "Java",
   "pygments_lexer": "java",
   "version": "11.0.16+8-post-Ubuntu-0ubuntu120.04"
  },
  "orig_nbformat": 4,
  "vscode": {
   "interpreter": {
    "hash": "916dbcbb3f70747c44a77c7bcd40155683ae19c65e1c03b4aa3499c5328201f1"
   }
  }
 },
 "nbformat": 4,
 "nbformat_minor": 2
}
