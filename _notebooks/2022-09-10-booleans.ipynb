{
 "cells": [
  {
   "cell_type": "markdown",
   "metadata": {},
   "source": [
    "# Boolean Notebook\n",
    "\n",
    "- toc: false\n",
    "- badges: true\n",
    "- comments: true\n",
    "- author: Samuel\n",
    "- categories: [CB, jupyter]\n",
    "- image: images/boolean.png\n",
    "\n",
    "boolean notebook"
   ]
  },
  {
   "cell_type": "markdown",
   "metadata": {},
   "source": [
    "### ifs\n",
    "\n",
    "- if: If the condition in the if statement is true, then the code is executed under it is executed.\n",
    "- if-else: If the condition in the if statement is true, then that code under that is executed. Otherwise (if false), then the code under else is executed.\n",
    "- if-elseif-else: There are 2 conditions to be met in this, with the first if's code being executed if that is true. The elseif's code will be executed if the statement for that is true. If it's false for both if and ifelse statements, then the else's code will be executed. "
   ]
  },
  {
   "cell_type": "code",
   "execution_count": 90,
   "metadata": {},
   "outputs": [
    {
     "name": "stdout",
     "output_type": "stream",
     "text": [
      "What color are apples?: blue\n",
      "What kind of apples are have you been looking at? \n",
      "On a scale of 1-10, how do you rate apples?: 5.0\n",
      "That makes sense."
     ]
    }
   ],
   "source": [
    "import java.util.Scanner;\n",
    "\n",
    "Scanner input;\n",
    "System.out.print(\"What color are apples?: \");\n",
    "input = new Scanner(System.in);\n",
    "String answer = input.nextLine();\n",
    "answer = answer.toLowerCase();\n",
    "System.out.println(answer);\n",
    "if ((answer == \"yellow\") || (answer == \"red\") || (answer == \"green\")){ // will print correct if the user answers yellow, red, or green\n",
    "    System.out.print(\"You are correct\");\n",
    "}\n",
    "else {// if the user inputs anything other than yellow, red, green, then it outputs this\n",
    "    System.out.print(\"What kind of apples are have you been looking at?\");\n",
    "}\n",
    "System.out.println(\" \");\n",
    "\n",
    "System.out.print(\"On a scale of 1-10, how do you rate apples?: \");\n",
    "input = new Scanner(System.in);\n",
    "Double answer1 = input.nextDouble();\n",
    "System.out.println(answer1);\n",
    "if ((answer1 < 5) && (answer1 > 0)) { // if the user inputs a number between 1 and 4, then it prints this\n",
    "                System.out.print(\"What is wrong with you.\");    \n",
    "        }   \n",
    "        else if ((answer1 < 8) && (answer1 >= 5)) { //if the user inputs a number between 5 and 7 it inputs this   \n",
    "                System.out.print(\"That makes sense.\");    \n",
    "        }   \n",
    "        else if ((answer1 <= 10) && (answer1 >= 8)) { // if the user inputs a number between 8 and 10 it inputs this\n",
    "                System.out.print(\"Very correct!\");\n",
    "        }\n",
    "        else { // if the user doesn't input a number from 1 to 10 it inputs this\n",
    "                System.out.print(\"Your choice has to be a number between 1 and 10.\");\n",
    "        }      \n",
    "    \n",
    "\n"
   ]
  },
  {
   "cell_type": "code",
   "execution_count": 3,
   "metadata": {},
   "outputs": [
    {
     "name": "stdout",
     "output_type": "stream",
     "text": [
      "0.546"
     ]
    }
   ],
   "source": [
    "import java.util.Scanner;\n",
    "\n",
    "\n",
    "public class GradeCalculator {\n",
    "    public static void main(String args[]) {\n",
    "        \n",
    "        Scanner input = new Scanner(System.in);\n",
    "        System.out.println(\"Seperate category?: \")\n",
    "        boolean category = input.nextBoolean();\n",
    "        \n",
    "        if (category == true) {\n",
    "            System.out.println(\"current grade?: \")\n",
    "            double a = input.nextDouble();\n",
    "            System.out.println(\"% final: \")\n",
    "            double perc1 = input.nextDouble();\n",
    "            System.out.println(\"desired grade: \")\n",
    "            double b input.nextDouble();\n",
    "    \n",
    "\n",
    "            double cgrade = a/100 * (100-perc1)/100;\n",
    "            double bgrade = b/100-cgrade; \n",
    "            double perc2 = bgrade/perc1;\n",
    "\n",
    "            System.out.println(\"needed grade: \" + perc2);\n",
    "\n",
    "        }\n",
    "\n",
    "    }\n",
    "}\n"
   ]
  },
  {
   "cell_type": "markdown",
   "metadata": {},
   "source": [
    "### Switch case\n",
    "\n",
    "- switch is used to select one of the code blocks \n",
    "- switch makes it little easier to understand and a little less cluttered\n",
    "- the value inputted will be compared with the values of each case and if it matches, then that will executed"
   ]
  },
  {
   "cell_type": "code",
   "execution_count": 4,
   "metadata": {},
   "outputs": [
    {
     "name": "stdout",
     "output_type": "stream",
     "text": [
      "How old are you?: "
     ]
    },
    {
     "ename": "EvalException",
     "evalue": "For input string: \"\"",
     "output_type": "error",
     "traceback": [
      "\u001b[1m\u001b[31m---------------------------------------------------------------------------\u001b[0m",
      "\u001b[1m\u001b[31mjava.lang.NumberFormatException: For input string: \"\"\u001b[0m",
      "\u001b[1m\u001b[31m\tat java.base/java.lang.NumberFormatException.forInputString(NumberFormatException.java:65)\u001b[0m",
      "\u001b[1m\u001b[31m\tat java.base/java.lang.Integer.parseInt(Integer.java:662)\u001b[0m",
      "\u001b[1m\u001b[31m\tat java.base/java.lang.Integer.parseInt(Integer.java:770)\u001b[0m",
      "\u001b[1m\u001b[31m\tat .(#18:1)\u001b[0m"
     ]
    }
   ],
   "source": [
    "import java.util.Scanner;\n",
    "\n",
    "System.out.print(\"How old are you?: \");\n",
    "Scanner num = new Scanner(System.in);\n",
    "int answer = Integer.parseInt(num.nextLine());; // scanner input\n",
    "\n",
    "\n",
    "System.out.println(answer); // to do age ranges, each case number had to be defined by a range in switch\n",
    "switch ((0 <= answer && answer <=1) ? 0 : // \"?\" is if and \":\" is else, so in this case if the number inputted was between 0 and 1, then it would be set as case 0, if not then it would go on to the other cases\n",
    "        (2 <= answer && answer <=4) ? 1 :\n",
    "        (5 <= answer && answer <=12) ? 2 :\n",
    "        (13 <= answer && answer <=19) ? 3 :\n",
    "        (20 <= answer && answer <=39) ? 4 :\n",
    "        (40 <= answer && answer <=59) ? 5 :\n",
    "        (60 <= answer && answer <=130) ? 6 : 7) {\n",
    "        case 0:\n",
    "        System.out.println(\"You're a baby.\"); // if between age 0 and 1, then it prints you're a baby\n",
    "        break;\n",
    "        case 1:\n",
    "        System.out.println(\"You're a toddler.\");\n",
    "        break;\n",
    "        case 2:\n",
    "        System.out.println(\"You're a child.\");\n",
    "        break;\n",
    "        case 3:\n",
    "        System.out.println(\"You're a teen.\");\n",
    "        break;\n",
    "        case 4:\n",
    "        System.out.println(\"You're a adult.\");\n",
    "        break;\n",
    "        case 5:\n",
    "        System.out.println(\"You're a middle-aged adult.\");\n",
    "        break;\n",
    "        case 6:\n",
    "        System.out.println(\"You're old.\");\n",
    "        break;\n",
    "        case 7:\n",
    "        System.out.println(\"How? I think you made a mistake.\"); //if not in the range of any of the previous cases\n",
    "        break;\n",
    "        default: \n",
    "        System.out.println(\"Try again.\"); //if user input bypasses all cases\n",
    "        break;\n",
    "}        "
   ]
  },
  {
   "cell_type": "code",
   "execution_count": null,
   "metadata": {},
   "outputs": [],
   "source": [
    "import java.util.Scanner;\n",
    "\n",
    "\n",
    "public class GradeCalculator {\n",
    "    public static void main(String args[]) {\n",
    "        \n",
    "        Scanner input = new Scanner(System.in);\n",
    "        System.out.println(\"Seperate category?: \")\n",
    "        boolean category = input.nextBoolean();\n",
    "        \n",
    "        if (category == true) {\n",
    "            System.out.println(\"current grade?: \")\n",
    "            double a = input.nextDouble();\n",
    "            System.out.println(\"% final: \")\n",
    "            double perc1 = input.nextDouble();\n",
    "            System.out.println(\"desired grade: \")\n",
    "            double b input.nextDouble();\n",
    "    \n",
    "\n",
    "            double cgrade = a/100 * (100-perc1)/100;\n",
    "            double bgrade = b/100-cgrade; \n",
    "            double perc2 = bgrade/perc1;\n",
    "\n",
    "            System.out.println(\"needed grade: \" + perc2);\n",
    "\n",
    "        }\n",
    "\n",
    "    }\n",
    "}\n"
   ]
  },
  {
   "cell_type": "markdown",
   "metadata": {},
   "source": [
    "### De Morgan's Law\n",
    "\n",
    "- negate an and statement\n",
    "- negate an or statement\n",
    "- uses ! operator (not)\n"
   ]
  },
  {
   "cell_type": "code",
   "execution_count": 14,
   "metadata": {},
   "outputs": [
    {
     "name": "stdout",
     "output_type": "stream",
     "text": [
      "Seperate category?: \n",
      "current grade?: \n",
      "% final: \n",
      "desired grade: \n",
      "needed grade: 113.33333333333333%\n"
     ]
    }
   ],
   "source": [
    "import java.util.Scanner;\n",
    "\n",
    "\n",
    "public class GradeCalculator {\n",
    "    public static void main(String args[]) {\n",
    "        \n",
    "        Scanner input = new Scanner(System.in);\n",
    "        System.out.println(\"Seperate category?: \");\n",
    "        boolean category = input.nextBoolean();\n",
    "        \n",
    "        if (category == true) {\n",
    "            System.out.println(\"current grade?: \");\n",
    "            double a = input.nextDouble();\n",
    "            System.out.println(\"% final: \");\n",
    "            double perc1 = input.nextDouble();\n",
    "            System.out.println(\"desired grade: \");\n",
    "            double b = input.nextDouble();\n",
    "            double cgrade = a/100 * (100-perc1)/100;\n",
    "            double bgrade = b/100-cgrade; \n",
    "            double perc2 = bgrade/perc1;\n",
    "\n",
    "            System.out.println(\"needed grade: \" + perc2*10000 + \"%\");\n",
    "\n",
    "        }\n",
    "        else {\n",
    "            System.out.println(\"current grade?: \");\n",
    "            double a = input.nextDouble();\n",
    "            System.out.println(\"desired grade: \");\n",
    "            double b = input.nextDouble();\n",
    "            System.out.println(\"test category %: \");\n",
    "            double c = input.nextDouble();\n",
    "            System.out.println(\"points in test category: \");\n",
    "            double d = input.nextDouble();\n",
    "            System.out.println(\"points in the final: \");\n",
    "            double e = input.nextDouble();   \n",
    "            a = a/100;\n",
    "            b = b/100;\n",
    "            double total = (e/(d+e))*c; //final is this percent of the total grade\n",
    "            double needed = (e*(b-a))/total;\n",
    "            System.out.println(\"points needed: \" + needed * 10000);\n",
    "\n",
    "\n",
    "        }\n",
    "\n",
    "    }\n",
    "}\n",
    "GradeCalculator.main(null);"
   ]
  },
  {
   "cell_type": "code",
   "execution_count": 38,
   "metadata": {},
   "outputs": [
    {
     "name": "stdout",
     "output_type": "stream",
     "text": [
      "desired grade: \n",
      "test category %: \n",
      "current grade in test category: \n",
      "points in test category: \n",
      "points in the final: \n",
      "17.0\n",
      "73.0\n",
      "0.9125\n",
      "0.825"
     ]
    }
   ],
   "source": [
    "Scanner input = new Scanner(System.in);\n",
    "/*/\n",
    "System.out.println(\"current grade?: \");\n",
    "double a = input.nextDouble();\n",
    "System.out.println(\"desired grade: \");\n",
    "double b = input.nextDouble();\n",
    "System.out.println(\"test category %: \");\n",
    "double c = input.nextDouble();\n",
    "System.out.println(\"current grade in test category: \");\n",
    "double curr = input.nextDouble();\n",
    "System.out.println(\"points in test category: \");\n",
    "double d = input.nextDouble();\n",
    "System.out.println(\"points in the final: \");\n",
    "double e = input.nextDouble();\n",
    "/*/\n",
    "\n",
    "double a = 89;\n",
    "System.out.println(\"desired grade: \");\n",
    "double b = 90;\n",
    "System.out.println(\"test category %: \");\n",
    "double c = 80;\n",
    "System.out.println(\"current grade in test category: \");\n",
    "double curr = 90;\n",
    "System.out.println(\"points in test category: \");\n",
    "double d = 100;\n",
    "System.out.println(\"points in the final: \");\n",
    "double e = 100;\n",
    "\n",
    "double other = a - (c * curr/100); //other category percent\n",
    "System.out.println(other);\n",
    "double needed = b - other;\n",
    "System.out.println(needed);\n",
    "double rneeded = needed/c; //needed in test category\n",
    "System.out.println(rneeded);\n",
    "// double current = ((fin + d)/(d + e))*100 = rneeded\n",
    "double fin = ((rneeded)*(d+e))/100-d/100;\n",
    "System.out.print(fin);\n",
    "\n",
    "\n",
    "\n",
    "\n"
   ]
  }
 ],
 "metadata": {
  "kernelspec": {
   "display_name": "Java",
   "language": "java",
   "name": "java"
  },
  "language_info": {
   "codemirror_mode": "java",
   "file_extension": ".jshell",
   "mimetype": "text/x-java-source",
   "name": "java",
   "pygments_lexer": "java",
   "version": "11.0.16+8-post-Ubuntu-0ubuntu120.04"
  },
  "orig_nbformat": 4
 },
 "nbformat": 4,
 "nbformat_minor": 2
}
