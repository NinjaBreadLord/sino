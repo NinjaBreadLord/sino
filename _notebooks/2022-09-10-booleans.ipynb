{
 "cells": [
  {
   "cell_type": "markdown",
   "metadata": {},
   "source": [
    "# Boolean Notebook\n",
    "\n",
    "- toc: false\n",
    "- badges: true\n",
    "- comments: true\n",
    "- author: Samuel\n",
    "- categories: [cb, jupyter, PBL]\n",
    "- image: images/boolean.png\n",
    "\n",
    "boolean notebook"
   ]
  },
  {
   "cell_type": "markdown",
   "metadata": {},
   "source": [
    "### ifs\n",
    "\n",
    "- if: If the condition in the if statement is true, then the code is executed under it is executed.\n",
    "- if-else: If the condition in the if statement is true, then that code under that is executed. Otherwise (if false), then the code under else is executed.\n",
    "- if-elseif-else: There are 2 conditions to be met in this, with the first if's code being executed if that is true. The elseif's code will be executed if the statement for that is true. If it's false for both if and ifelse statements, then the else's code will be executed. "
   ]
  },
  {
   "cell_type": "code",
   "execution_count": 59,
   "metadata": {
    "vscode": {
     "languageId": "java"
    }
   },
   "outputs": [
    {
     "name": "stdout",
     "output_type": "stream",
     "text": [
      "What color are apples?: red\n",
      "What kind of apples are have you been looking at? \n",
      "On a scale of 1-10, how do you rate apples?: 10.0\n",
      "Very correct!"
     ]
    }
   ],
   "source": [
    "import java.util.Scanner;\n",
    "\n",
    "Scanner input;\n",
    "System.out.print(\"What color are apples?: \");\n",
    "input = new Scanner(System.in);\n",
    "String answer = input.nextLine();\n",
    "answer = answer.toLowerCase();\n",
    "System.out.println(answer);\n",
    "if ((answer == \"yellow\") || (answer == \"red\") || (answer == \"green\")){ // will print correct if the user answers yellow, red, or green\n",
    "    System.out.print(\"You are correct\");\n",
    "}\n",
    "else {// if the user inputs anything other than yellow, red, green, then it outputs this\n",
    "    System.out.print(\"What kind of apples are have you been looking at?\");\n",
    "}\n",
    "System.out.println(\" \");\n",
    "\n",
    "System.out.print(\"On a scale of 1-10, how do you rate apples?: \");\n",
    "input = new Scanner(System.in);\n",
    "Double answer1 = input.nextDouble();\n",
    "System.out.println(answer1);\n",
    "if ((answer1 < 5) && (answer1 > 0)) { // if the user inputs a number between 1 and 4, then it prints this\n",
    "                System.out.print(\"What is wrong with you.\");    \n",
    "        }   \n",
    "        else if ((answer1 < 8) && (answer1 >= 5)) { //if the user inputs a number between 5 and 7 it inputs this   \n",
    "                System.out.print(\"That makes sense.\");    \n",
    "        }   \n",
    "        else if ((answer1 <= 10) && (answer1 >= 8)) { // if the user inputs a number between 8 and 10 it inputs this\n",
    "                System.out.print(\"Very correct!\");\n",
    "        }\n",
    "        else { // if the user doesn't input a number from 1 to 10 it inputs this\n",
    "                System.out.print(\"Your choice has to be a number between 1 and 10.\");\n",
    "        }      \n",
    "    \n",
    "\n"
   ]
  },
  {
   "cell_type": "markdown",
   "metadata": {},
   "source": [
    "### Switch case\n",
    "\n",
    "- switch is used to select one of the code blocks \n",
    "- switch makes it little easier to understand and a little less cluttered\n",
    "- the value inputted will be compared with the values of each case and if it matches, then that will executed"
   ]
  },
  {
   "cell_type": "code",
   "execution_count": 73,
   "metadata": {
    "vscode": {
     "languageId": "java"
    }
   },
   "outputs": [
    {
     "name": "stdout",
     "output_type": "stream",
     "text": [
      "How old are you?: 5\n",
      "You're a child.\n"
     ]
    }
   ],
   "source": [
    "import java.util.Scanner;\n",
    "\n",
    "System.out.print(\"How old are you?: \");\n",
    "Scanner num = new Scanner(System.in);\n",
    "int answer = Integer.parseInt(num.nextLine());; // scanner input\n",
    "\n",
    "\n",
    "System.out.println(answer); // to do age ranges, each case number had to be defined by a range in switch\n",
    "switch ((0 <= answer && answer <=1) ? 0 : // \"?\" is if and \":\" is else, so in this case if the number inputted was between 0 and 1, then it would be set as case 0, if not then it would go on to the other cases\n",
    "        (2 <= answer && answer <=4) ? 1 :\n",
    "        (5 <= answer && answer <=12) ? 2 :\n",
    "        (13 <= answer && answer <=19) ? 3 :\n",
    "        (20 <= answer && answer <=39) ? 4 :\n",
    "        (40 <= answer && answer <=59) ? 5 :\n",
    "        (60 <= answer && answer <=130) ? 6 : 7) {\n",
    "        case 0:\n",
    "        System.out.println(\"You're a baby.\"); // if between age 0 and 1, then it prints you're a baby\n",
    "        break;\n",
    "        case 1:\n",
    "        System.out.println(\"You're a toddler.\");\n",
    "        break;\n",
    "        case 2:\n",
    "        System.out.println(\"You're a child.\");\n",
    "        break;\n",
    "        case 3:\n",
    "        System.out.println(\"You're a teen.\");\n",
    "        break;\n",
    "        case 4:\n",
    "        System.out.println(\"You're a adult.\");\n",
    "        break;\n",
    "        case 5:\n",
    "        System.out.println(\"You're a middle-aged adult.\");\n",
    "        break;\n",
    "        case 6:\n",
    "        System.out.println(\"You're old.\");\n",
    "        break;\n",
    "        case 7:\n",
    "        System.out.println(\"How? I think you made a mistake.\");\n",
    "        break;\n",
    "}        "
   ]
  },
  {
   "cell_type": "markdown",
   "metadata": {},
   "source": [
    "### De Morgan's Law\n",
    "\n",
    "- negate an and statement\n",
    "- negate an or statement\n",
    "- uses ! operator (not)\n"
   ]
  },
  {
   "cell_type": "code",
   "execution_count": 79,
   "metadata": {
    "vscode": {
     "languageId": "java"
    }
   },
   "outputs": [
    {
     "name": "stdout",
     "output_type": "stream",
     "text": [
      "not(true and true) is true\n",
      "not true and not true is false\n",
      "not(true or true) is false\n",
      "not true or not true is true\n"
     ]
    }
   ],
   "source": [
    "public class Main{\n",
    "    public static void main(String[] arg){\n",
    "        boolean x = true;\n",
    "        boolean y = false;\n",
    "\n",
    "        if (!(y && x)){\n",
    "            System.out.println(\"not(true and true) is true\");\n",
    "        }\n",
    "        else {\n",
    "            System.out.println(\"not(true and true) is false\");\n",
    "        }\n",
    "        if (!(y) && !(x)){\n",
    "            System.out.println(\"not true and not true is true\");\n",
    "        }\n",
    "        else {\n",
    "            System.out.println(\"not true and not true is false\");\n",
    "        }\n",
    "        if (!(y || x)){\n",
    "            System.out.println(\"not(true or true) is true\");\n",
    "        }\n",
    "        else {\n",
    "            System.out.println(\"not(true or true) is false\");\n",
    "        }\n",
    "        if (!(y) || !(x)) {\n",
    "            System.out.println(\"not true or not true is true\");\n",
    "        }\n",
    "        else {\n",
    "            System.out.println(\"not true or not true is false\");\n",
    "        \n",
    "        }\n",
    "\n",
    "    }\n",
    "}\n",
    "\n",
    "Main.main(null);"
   ]
  }
 ],
 "metadata": {
  "kernelspec": {
   "display_name": "Java",
   "language": "java",
   "name": "java"
  },
  "language_info": {
   "codemirror_mode": "java",
   "file_extension": ".jshell",
   "mimetype": "text/x-java-source",
   "name": "Java",
   "pygments_lexer": "java",
   "version": "11.0.16+8-post-Ubuntu-0ubuntu120.04"
  },
  "orig_nbformat": 4
 },
 "nbformat": 4,
 "nbformat_minor": 2
}
