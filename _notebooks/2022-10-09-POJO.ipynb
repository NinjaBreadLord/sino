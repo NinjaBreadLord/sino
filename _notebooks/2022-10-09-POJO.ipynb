{
 "cells": [
  {
   "cell_type": "markdown",
   "metadata": {},
   "source": [
    "# POJO Notebook\n",
    "\n",
    "- toc: false\n",
    "- badges: true\n",
    "- comments: true\n",
    "- author: Samuel\n",
    "- categories: [fastpages, PBL]\n",
    "- image: images/picture.jpg\n",
    "\n",
    "\n",
    "POJO Notebook"
   ]
  },
  {
   "cell_type": "code",
   "execution_count": null,
   "metadata": {},
   "outputs": [],
   "source": [
    "import java.util.Objects;\n",
    "\n",
    "import javax.persistence.*;\n",
    "\n",
    "\n",
    "@Entity //get object ready for storage\n",
    "class Student {\n",
    "\n",
    "  private @Id @GeneratedValue Long id; //making attributes\n",
    "  private String name;\n",
    "  private int period;\n",
    "\n",
    "  Student() {}\n",
    "\n",
    "  Student(String name, int period) {\n",
    "\n",
    "    this.name = name;\n",
    "    this.period = period;\n",
    "  }\n",
    "\n",
    "  public Long getId() {\n",
    "    return this.id;\n",
    "  }\n",
    "\n",
    "  public String getName() {\n",
    "    return this.name;\n",
    "  }\n",
    "\n",
    "  public String getRole() {\n",
    "    return this.period;\n",
    "  }\n",
    "\n",
    "  public void setId(Long id) {\n",
    "    this.id = id;\n",
    "  }\n",
    "\n",
    "  public void setName(String name) {\n",
    "    this.name = name;\n",
    "  }\n",
    "\n",
    "  public void setRole(String period) {\n",
    "    this.period = period;\n",
    "  }\n",
    "\n",
    "  @Override\n",
    "  public boolean equals(Object o) {\n",
    "\n",
    "    if (this == o)\n",
    "      return true;\n",
    "    if (!(o instanceof Student))\n",
    "      return false;\n",
    "    Student student = (Student) o;\n",
    "    return Objects.equals(this.id, student.id) && Objects.equals(this.name, student.name)\n",
    "        && Objects.equals(this.period, student.period);\n",
    "  }\n",
    "\n",
    "  @Override\n",
    "  public int hashCode() {\n",
    "    return Objects.hash(this.id, this.name, this.period);\n",
    "  }\n",
    "\n",
    "  @Override\n",
    "  public String toString() {\n",
    "    return \"Student{\" + \"id=\" + this.id + \", name='\" + this.name + '\\'' + \", period='\" + this.period + '\\'' + '}';\n",
    "  }\n",
    "}"
   ]
  }
 ],
 "metadata": {
  "kernelspec": {
   "display_name": "Java",
   "language": "java",
   "name": "java"
  },
  "language_info": {
   "codemirror_mode": "java",
   "file_extension": ".jshell",
   "mimetype": "text/x-java-source",
   "name": "java",
   "pygments_lexer": "java",
   "version": "11.0.16+8-post-Ubuntu-0ubuntu120.04"
  },
  "orig_nbformat": 4,
  "vscode": {
   "interpreter": {
    "hash": "916dbcbb3f70747c44a77c7bcd40155683ae19c65e1c03b4aa3499c5328201f1"
   }
  }
 },
 "nbformat": 4,
 "nbformat_minor": 2
}
