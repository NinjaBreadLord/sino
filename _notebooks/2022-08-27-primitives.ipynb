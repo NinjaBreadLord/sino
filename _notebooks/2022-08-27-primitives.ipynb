{
 "cells": [
  {
   "cell_type": "markdown",
   "metadata": {},
   "source": [
    "# Primitives Notebook\n",
    "\n",
    "- toc: false\n",
    "- badges: true\n",
    "- comments: true\n",
    "- author: Samuel\n",
    "- categories: [fastpages, CB, PBL]\n",
    "- image: images/datatypes.png\n",
    "\n",
    "primitives notebook"
   ]
  },
  {
   "cell_type": "markdown",
   "metadata": {},
   "source": [
    "### Use of primitives, wrapper class object\n",
    " "
   ]
  },
  {
   "cell_type": "code",
   "execution_count": 23,
   "metadata": {},
   "outputs": [
    {
     "name": "stdout",
     "output_type": "stream",
     "text": [
      "Enter an integer: 5\n",
      "Enter a double: 5.0\n",
      "Enter a boolean: true\n",
      "Enter 2nd boolean: true\n",
      "The Or gate is false, as the inputted booleans are the same.\n",
      "Enter a String: p\n"
     ]
    }
   ],
   "source": [
    "\n",
    "import java.util.Scanner;\n",
    "\n",
    "\n",
    "public class ScanPrimitives {\n",
    "    public static void main(String[] args) {    \n",
    "        Scanner input;\n",
    "\n",
    "        // enter number\n",
    "        input = new Scanner(System.in);\n",
    "        System.out.print(\"Enter an integer: \");\n",
    "        try {\n",
    "            int sampleInputInt = input.nextInt();\n",
    "            System.out.println(sampleInputInt);\n",
    "        } catch (Exception e) { \n",
    "            System.out.println(\"Not an integer (form like 159), \" + e);\n",
    "        }\n",
    "        input.close();\n",
    "\n",
    "        //enter a number that can contain decimals\n",
    "        input = new Scanner(System.in);\n",
    "        System.out.print(\"Enter a double: \");\n",
    "        try {\n",
    "            double sampleInputDouble = input.nextDouble();\n",
    "            System.out.println(sampleInputDouble);\n",
    "        } catch (Exception e) {\n",
    "            System.out.println(\"Not an double (form like 9.99), \" + e);\n",
    "        }\n",
    "        input.close();\n",
    "\n",
    "        \n",
    "        // enter a true or false\n",
    "        input =  new Scanner(System.in);\n",
    "        System.out.print(\"Enter a boolean: \");\n",
    "        boolean firstInputBoolean = input.nextBoolean();\n",
    "        System.out.println(firstInputBoolean);\n",
    "        System.out.print(\"Enter 2nd boolean: \");\n",
    "        boolean secondInputBoolean = input.nextBoolean();\n",
    "        System.out.println(secondInputBoolean);\n",
    "        try {\n",
    "            if (firstInputBoolean != secondInputBoolean) { // one input was true and one was false\n",
    "                System.out.print(\"The Or gate is true, as the inputted booleans are different.\");\n",
    "            }\n",
    "            else { // the inputs were the same\n",
    "                System.out.print(\"The Or gate is false, as the inputted booleans are the same.\");\n",
    "            }\n",
    "\n",
    "        } catch (Exception e) {\n",
    "            System.out.println(\"Not an boolean (needs to be true or false), \" + e);\n",
    "        }\n",
    "        input.close();\n",
    "\n",
    "        System.out.println(\"\");\n",
    "        \n",
    "        // enter a string (basically anything)\n",
    "        input =  new Scanner(System.in);\n",
    "        System.out.print(\"Enter a String: \");\n",
    "        try {\n",
    "            String sampleInputString = input.nextLine();\n",
    "            System.out.println(sampleInputString);\n",
    "        } catch (Exception e) {\n",
    "            System.out.println(\"Not an String, \" + e);\n",
    "        }\n",
    "        input.close();\n",
    "    }\n",
    "}\n",
    "ScanPrimitives.main(null);\n"
   ]
  },
  {
   "cell_type": "markdown",
   "metadata": {},
   "source": [
    "### code.org"
   ]
  },
  {
   "cell_type": "code",
   "execution_count": 27,
   "metadata": {},
   "outputs": [
    {
     "name": "stdout",
     "output_type": "stream",
     "text": [
      "When the integer was divided, instead of 2.5 like the double, the answer turns out to be 2, so it seems like the calculation was truncated.\n",
      "Integer 5 / 2 is 2\n",
      "Double 5 / 2 is 2.5\n"
     ]
    }
   ],
   "source": [
    "\n",
    "int divided = 5 / 2;\n",
    "double doubleDivided = 5.0 / 2;\n",
    "\n",
    "System.out.println(\"When the integer was divided, instead of 2.5 like the double, the answer turns out to be 2, so it seems like the calculation was truncated.\");\n",
    "System.out.println(\"Integer 5 / 2 is \" + divided);\n",
    "System.out.println(\"Double 5 / 2 is \" + doubleDivided);\n"
   ]
  },
  {
   "cell_type": "markdown",
   "metadata": {},
   "source": [
    "### compounds assignment"
   ]
  },
  {
   "cell_type": "code",
   "execution_count": 43,
   "metadata": {},
   "outputs": [
    {
     "name": "stdout",
     "output_type": "stream",
     "text": [
      "Enter 1st string: hi \n",
      "Enter 2nd string: bye\n",
      "The strings combined are: hi bye.\n"
     ]
    }
   ],
   "source": [
    "import java.util.Scanner;\n",
    "\n",
    "public class main {\n",
    "    public static void main(String[] args){\n",
    "    Scanner input;\n",
    "    input = new Scanner(System.in);\n",
    "    System.out.print(\"Enter 1st string: \");\n",
    "    String firstInputString = input.nextLine();\n",
    "    System.out.println(firstInputString);\n",
    "    System.out.print(\"Enter 2nd string: \");\n",
    "    String secondInputString = input.nextLine();\n",
    "    System.out.println(secondInputString);\n",
    "    try {\n",
    "        firstInputString += secondInputString;\n",
    "        System.out.println(\"The strings combined are: \" + firstInputString + \".\");\n",
    "    }\n",
    "    catch (Exception e) {\n",
    "        System.out.println(\"Enter a string\" + e);\n",
    "    }\n",
    "    }\n",
    "}\n",
    "main.main(null);"
   ]
  },
  {
   "cell_type": "markdown",
   "metadata": {},
   "source": [
    "### Pounds to Kilograms"
   ]
  },
  {
   "cell_type": "code",
   "execution_count": 36,
   "metadata": {},
   "outputs": [
    {
     "name": "stdout",
     "output_type": "stream",
     "text": [
      "Enter a number of pounds: \n",
      "5.0 pounds is 2.26796 kg.\n"
     ]
    }
   ],
   "source": [
    "import java.util.Scanner;\n",
    "\n",
    "public class main {\n",
    "    public static void main(String[] args){\n",
    "    Scanner input;\n",
    "    input = new Scanner(System.in);\n",
    "    System.out.println(\"Enter a number of pounds: \");\n",
    "    try {\n",
    "        double inputPounds  = input.nextDouble();\n",
    "        var outputPounds = inputPounds;\n",
    "        outputPounds = outputPounds * 0.453592;\n",
    "        System.out.println(inputPounds + \" pounds is \" + outputPounds + \" kg.\");\n",
    "    }\n",
    "    catch (Exception e) {\n",
    "        System.out.println(\"Enter a number\" + e);\n",
    "    }\n",
    "    }\n",
    "}\n",
    "main.main(null);"
   ]
  }
 ],
 "metadata": {
  "kernelspec": {
   "display_name": "Java",
   "language": "java",
   "name": "java"
  },
  "language_info": {
   "codemirror_mode": "java",
   "file_extension": ".jshell",
   "mimetype": "text/x-java-source",
   "name": "java",
   "pygments_lexer": "java",
   "version": "11.0.16+8-post-Ubuntu-0ubuntu120.04"
  },
  "orig_nbformat": 4
 },
 "nbformat": 4,
 "nbformat_minor": 2
}
