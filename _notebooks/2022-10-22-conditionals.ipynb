{
 "cells": [
  {
   "cell_type": "markdown",
   "metadata": {},
   "source": [
    "# boolean HW\n",
    "\n",
    "- toc: false\n",
    "- badges: true\n",
    "- comments: true\n",
    "- author: Samuel\n",
    "- categories: [fastpages, pbl]\n",
    "- image: images/picture.jpg\n",
    "\n",
    "\n",
    "boolean HW"
   ]
  },
  {
   "cell_type": "markdown",
   "metadata": {},
   "source": [
    "![quizziz](images/quizziz.PNG \"quizziz\")"
   ]
  },
  {
   "cell_type": "markdown",
   "metadata": {},
   "source": [
    "### FRQ"
   ]
  },
  {
   "cell_type": "markdown",
   "metadata": {},
   "source": [
    "a)"
   ]
  },
  {
   "cell_type": "code",
   "execution_count": null,
   "metadata": {},
   "outputs": [],
   "source": [
    "public static int numberOfLeapYears(int year1, int year2) {\n",
    "    int cnt = 0;\n",
    "    for (int y=year1; y<=year2; y++) {\n",
    "        if (isLeapYear(y)) {\n",
    "            cnt++;\n",
    "        }\n",
    "    }\n",
    "    return cnt; \n",
    "}"
   ]
  },
  {
   "cell_type": "markdown",
   "metadata": {},
   "source": [
    "b)"
   ]
  },
  {
   "cell_type": "code",
   "execution_count": null,
   "metadata": {},
   "outputs": [],
   "source": [
    "public static int dayOfWeek(int month, int day, int year) {\n",
    "    int firstDay = firstDayOfYear(year);\n",
    "    int doy = dayOfYear(month, day, year);\n",
    "    return (firstDay + doy - 1) % 7;\n",
    "}"
   ]
  },
  {
   "cell_type": "markdown",
   "metadata": {},
   "source": [
    "### Conditional Exercises"
   ]
  },
  {
   "cell_type": "markdown",
   "metadata": {},
   "source": [
    "2"
   ]
  },
  {
   "cell_type": "code",
   "execution_count": 2,
   "metadata": {},
   "outputs": [
    {
     "name": "stdout",
     "output_type": "stream",
     "text": [
      "The roots are -1.0 and -2.0\n"
     ]
    }
   ],
   "source": [
    "public class main {\n",
    "\n",
    "    \n",
    "  public static void main(String[] Strings) {\n",
    "\n",
    "            double a = 1;\n",
    "            double b = 3;\n",
    "            double c = 2;\n",
    "\n",
    "            double result = b * b - 4.0 * a * c;\n",
    "\n",
    "            if (result > 0.0) {\n",
    "                double r1 = (-b + Math.pow(result, 0.5)) / (2.0 * a);\n",
    "                double r2 = (-b - Math.pow(result, 0.5)) / (2.0 * a);\n",
    "                System.out.println(\"The roots are \" + r1 + \" and \" + r2);\n",
    "            } else if (result == 0.0) {\n",
    "                double r1 = -b / (2.0 * a);\n",
    "                System.out.println(\"The root is \" + r1);\n",
    "            } else {\n",
    "                System.out.println(\"The equation has no real roots.\");\n",
    "            }\n",
    "\n",
    "    }\n",
    "}\n",
    "main.main(null)"
   ]
  },
  {
   "cell_type": "markdown",
   "metadata": {},
   "source": [
    "4"
   ]
  },
  {
   "cell_type": "code",
   "execution_count": 3,
   "metadata": {},
   "outputs": [
    {
     "name": "stdout",
     "output_type": "stream",
     "text": [
      "positive number\n"
     ]
    }
   ],
   "source": [
    "public class main {\n",
    "\n",
    "    \n",
    "    public static void main(String[] Strings) {\n",
    "  \n",
    "              double a = 1;\n",
    "            \n",
    "  \n",
    "              if (a > 0.0) {\n",
    "                  System.out.println(\"positive number\");\n",
    "              } else {\n",
    "                  System.out.println(\"negative number\");\n",
    "              }\n",
    "  \n",
    "      }\n",
    "  }\n",
    "  main.main(null)"
   ]
  },
  {
   "cell_type": "markdown",
   "metadata": {},
   "source": [
    "6"
   ]
  },
  {
   "cell_type": "code",
   "execution_count": 7,
   "metadata": {},
   "outputs": [
    {
     "name": "stdout",
     "output_type": "stream",
     "text": [
      "same\n"
     ]
    }
   ],
   "source": [
    "public class main {\n",
    "\n",
    "    \n",
    "    public static void main(String[] Strings) {\n",
    "  \n",
    "              double a = 55.1321;\n",
    "              double b = 55.132;\n",
    "\n",
    "              a = Math.round(a * 1000);\n",
    "              b = Math.round(b * 1000);\n",
    "            \n",
    "  \n",
    "              if (a == b) {\n",
    "                  System.out.println(\"same\");\n",
    "              } else {\n",
    "                  System.out.println(\"different\");\n",
    "              }\n",
    "  \n",
    "      }\n",
    "  }\n",
    "  main.main(null)"
   ]
  },
  {
   "cell_type": "markdown",
   "metadata": {},
   "source": [
    "8"
   ]
  },
  {
   "cell_type": "code",
   "execution_count": 13,
   "metadata": {},
   "outputs": [
    {
     "name": "stdout",
     "output_type": "stream",
     "text": [
      "vowel\n"
     ]
    }
   ],
   "source": [
    "public class main {\n",
    "\n",
    "    \n",
    "    public static void main(String[] Strings) {\n",
    "  \n",
    "        String a = \"a\";\n",
    "            \n",
    "        boolean vowels = a.equals(\"a\") || a.equals(\"e\") || a.equals(\"i\") || a.equals(\"o\") || a.equals(\"u\");\n",
    "              \n",
    "\n",
    "        if (a.length() > 1)\n",
    "        {\n",
    "            System.out.println(\"not one letter\");\n",
    "        }\n",
    "        else if (vowels)\n",
    "        {\n",
    "            System.out.println(\"vowel\");\n",
    "        }\n",
    "        else\n",
    "        {\n",
    "            System.out.println(\"consonant\");\n",
    "        }\n",
    "    }\n",
    "}\n",
    "  main.main(null)"
   ]
  },
  {
   "cell_type": "markdown",
   "metadata": {},
   "source": [
    "10"
   ]
  },
  {
   "cell_type": "code",
   "execution_count": 21,
   "metadata": {},
   "outputs": [
    {
     "name": "stdout",
     "output_type": "stream",
     "text": [
      "1\n",
      "2\n",
      "3\n",
      "4\n",
      "5\n",
      "6\n",
      "7\n",
      "8\n",
      "9\n",
      "10\n"
     ]
    }
   ],
   "source": [
    "public class main {\n",
    "    \n",
    "    public static void main(String[] args) {\n",
    "           \n",
    "      int i;\n",
    "      for (i=1;i<=10;i++) {      \n",
    "          System.out.println (i);\n",
    "      }\n",
    "    }\n",
    "}\n",
    "main.main(null)"
   ]
  },
  {
   "cell_type": "markdown",
   "metadata": {},
   "source": [
    "12"
   ]
  },
  {
   "cell_type": "code",
   "execution_count": 27,
   "metadata": {},
   "outputs": [
    {
     "name": "stdout",
     "output_type": "stream",
     "text": [
      "18.0\n",
      "3.6\n"
     ]
    }
   ],
   "source": [
    "public class main {\n",
    "    \n",
    "    public static void main(String[] args) {\n",
    "        int a = 3;\n",
    "        int b = 4;\n",
    "        int c = 1;\n",
    "        int d = 7;\n",
    "        int e = 3;\n",
    "\n",
    "        double sum = a + b + c + d + e;\n",
    "        double avg = sum/5; \n",
    "        System.out.println(sum);\n",
    "        System.out.println(avg);\n",
    "    }\n",
    "}\n",
    "main.main(null)"
   ]
  },
  {
   "cell_type": "markdown",
   "metadata": {},
   "source": [
    "14"
   ]
  },
  {
   "cell_type": "code",
   "execution_count": 31,
   "metadata": {},
   "outputs": [
    {
     "name": "stdout",
     "output_type": "stream",
     "text": [
      "4 * 0 = 0\n",
      "4 * 1 = 4\n",
      "4 * 2 = 8\n",
      "4 * 3 = 12\n"
     ]
    }
   ],
   "source": [
    "public class main {\n",
    "    \n",
    "    public static void main(String[] args) {\n",
    "        int a = 4;\n",
    "        int b = 3;\n",
    "        int i;\n",
    "        for(i = 0; i <= b; i++) {\n",
    "            int c = a * i;\n",
    "            System.out.println(a + \" * \" + i + \" = \" + c);\n",
    "            c = 0;\n",
    "        }\n",
    "    }\n",
    "}\n",
    "main.main(null)"
   ]
  },
  {
   "cell_type": "markdown",
   "metadata": {},
   "source": [
    "16"
   ]
  },
  {
   "cell_type": "code",
   "execution_count": 34,
   "metadata": {},
   "outputs": [
    {
     "name": "stdout",
     "output_type": "stream",
     "text": [
      "1\n",
      "12\n",
      "123\n",
      "1234\n",
      "12345\n"
     ]
    }
   ],
   "source": [
    "public class main {\n",
    "\n",
    "    public static void main(String[] args) {\n",
    "    int a;\n",
    "    int b;\n",
    "    int r = 5;\n",
    " \n",
    "    for(a=1;a<=r;a++) {\n",
    "     for(b=1;b<=a;b++)\n",
    "       System.out.print(b);\n",
    " \n",
    "     System.out.println(\"\");\n",
    "     }\n",
    " }\n",
    "}\n",
    "main.main(null);\n",
    " "
   ]
  },
  {
   "cell_type": "markdown",
   "metadata": {},
   "source": [
    "18"
   ]
  },
  {
   "cell_type": "code",
   "execution_count": 49,
   "metadata": {},
   "outputs": [
    {
     "name": "stdout",
     "output_type": "stream",
     "text": [
      "1\n",
      "23\n",
      "456\n",
      "78910\n"
     ]
    }
   ],
   "source": [
    "public class main {\n",
    "\n",
    "    public static void main(String[] args) {\n",
    "        int a,b,c=1;\n",
    "        int n = 4;\n",
    "        for(a=1;a<=n;a++)\n",
    "        {\n",
    "        for(b=1;b<=a;b++)\n",
    "        System.out.print(c++);\n",
    "        System.out.println(\" \");\n",
    "        }\n",
    "    }\n",
    "}\n",
    "main.main(null);\n",
    " "
   ]
  },
  {
   "cell_type": "markdown",
   "metadata": {},
   "source": [
    "20"
   ]
  },
  {
   "cell_type": "code",
   "execution_count": 52,
   "metadata": {},
   "outputs": [
    {
     "name": "stdout",
     "output_type": "stream",
     "text": [
      " 1 \n",
      " 2 3 \n",
      " 4 5 6 \n",
      " 7 8 9 10 \n",
      " 11 12 13 14 15 \n"
     ]
    }
   ],
   "source": [
    "public class main {\n",
    "\n",
    "    public static void main(String[] args) {\n",
    "        int a,b,c=1;\n",
    "        int n = 5;\n",
    "        for(a=1;a<=n;a++)\n",
    "        {\n",
    "        for(b=1;b<=a;b++)\n",
    "        System.out.print(\" \" + c++);\n",
    "        System.out.println(\" \");\n",
    "        }\n",
    "    }\n",
    "}\n",
    "main.main(null);\n",
    " "
   ]
  },
  {
   "cell_type": "code",
   "execution_count": 63,
   "metadata": {},
   "outputs": [
    {
     "name": "stdout",
     "output_type": "stream",
     "text": [
      "samuel\n",
      "samuel\n",
      "kian\n",
      "samuel\n",
      "samuel\n",
      "bob\n"
     ]
    }
   ],
   "source": [
    "String[] names = new String[] {\"samuel\", \"kian\", \"samuel\", \"bob\"};\n",
    "\n",
    "for(int i = 0; i < names.length; i++ ) {\n",
    "    for(int j = 0; j < names.length; j++) {\n",
    "        if(names[i]==names[j]) {\n",
    "            System.out.println(names[j]);\n",
    "        }\n",
    "    } \n",
    "}\n",
    "\n"
   ]
  }
 ],
 "metadata": {
  "kernelspec": {
   "display_name": "Java",
   "language": "java",
   "name": "java"
  },
  "language_info": {
   "codemirror_mode": "java",
   "file_extension": ".jshell",
   "mimetype": "text/x-java-source",
   "name": "java",
   "pygments_lexer": "java",
   "version": "11.0.16+8-post-Ubuntu-0ubuntu120.04"
  },
  "orig_nbformat": 4,
  "vscode": {
   "interpreter": {
    "hash": "916dbcbb3f70747c44a77c7bcd40155683ae19c65e1c03b4aa3499c5328201f1"
   }
  }
 },
 "nbformat": 4,
 "nbformat_minor": 2
}
