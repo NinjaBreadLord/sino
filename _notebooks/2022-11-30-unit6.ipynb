{
 "cells": [
  {
   "cell_type": "markdown",
   "metadata": {},
   "source": [
    "# Unit 6 - Arrays\n",
    "\n",
    "- toc: false\n",
    "- badges: true\n",
    "- comments: true\n",
    "- author: Samuel\n",
    "- categories: [fastpages, CB]\n",
    "- image: images/picture.jpg\n",
    "\n",
    "\n"
   ]
  },
  {
   "cell_type": "markdown",
   "metadata": {},
   "source": [
    "## Arrays \n",
    "- store one data type\n",
    "- have fixed size\n",
    "- denoted with {}\n"
   ]
  },
  {
   "cell_type": "code",
   "execution_count": null,
   "metadata": {
    "vscode": {
     "languageId": "java"
    }
   },
   "outputs": [],
   "source": [
    "dataType[] arrayName = new dataType[numberOfItems];\n",
    "int[] arraySample = {1,3,5,7,9};"
   ]
  },
  {
   "cell_type": "markdown",
   "metadata": {},
   "source": [
    "## Hack 1\n",
    "How do we access the even numbers in arrayOne from above?"
   ]
  },
  {
   "cell_type": "code",
   "execution_count": 5,
   "metadata": {
    "vscode": {
     "languageId": "java"
    }
   },
   "outputs": [
    {
     "name": "stdout",
     "output_type": "stream",
     "text": [
      "1\n",
      "3\n",
      "5\n",
      "7\n",
      "9\n"
     ]
    }
   ],
   "source": [
    "int[] arrayOne = {1, 3, 5, 7, 9};\n",
    "for(int i = 0; i < arrayOne.length; i++) {\n",
    "    System.out.println(arrayOne[i]);\n",
    "}\n"
   ]
  },
  {
   "cell_type": "markdown",
   "metadata": {},
   "source": [
    "## Traversing arrays\n",
    "- done with using loops"
   ]
  },
  {
   "cell_type": "code",
   "execution_count": 6,
   "metadata": {
    "vscode": {
     "languageId": "java"
    }
   },
   "outputs": [
    {
     "name": "stdout",
     "output_type": "stream",
     "text": [
      "Fruit number 0 is Apple\n",
      "Fruit number 1 is Strawberry\n",
      "Fruit number 2 is Watermelon\n",
      "Fruit number 3 is Blueberry\n"
     ]
    }
   ],
   "source": [
    "String[] myFruits = new String[] {\"Apple\", \"Strawberry\", \"Watermelon\", \"Blueberry\"};\n",
    "\n",
    "for (int i = 0; i < myFruits.length; i++) {\n",
    "    System.out.println(\"Fruit number \" + i + \" is \" + myFruits[i]);\n",
    "}"
   ]
  },
  {
   "cell_type": "markdown",
   "metadata": {},
   "source": [
    "## Possible errors\n",
    "- a bound error where ArrayIndexOutOfBoundsException happens is when loops are being used\n",
    "- loops through more than there are elements in the array"
   ]
  },
  {
   "cell_type": "code",
   "execution_count": 9,
   "metadata": {
    "vscode": {
     "languageId": "java"
    }
   },
   "outputs": [
    {
     "name": "stdout",
     "output_type": "stream",
     "text": [
      "Fruit number 0 is Apple\n",
      "Fruit number 1 is Strawberry\n",
      "Fruit number 2 is Watermelon\n",
      "Fruit number 3 is Blueberry\n"
     ]
    },
    {
     "ename": "EvalException",
     "evalue": "Index 4 out of bounds for length 4",
     "output_type": "error",
     "traceback": [
      "\u001b[1m\u001b[31m---------------------------------------------------------------------------\u001b[0m",
      "\u001b[1m\u001b[31mjava.lang.ArrayIndexOutOfBoundsException: Index 4 out of bounds for length 4\u001b[0m",
      "\u001b[1m\u001b[31m\tat .(#22:1)\u001b[0m"
     ]
    }
   ],
   "source": [
    "String[] myFruits = new String[] {\"Apple\", \"Strawberry\", \"Watermelon\", \"Blueberry\"};\n",
    "\n",
    "for (int i = 0; i < myFruits.length+1; i++) {\n",
    "    System.out.println(\"Fruit number \" + i + \" is \" + myFruits[i]);\n",
    "}"
   ]
  },
  {
   "cell_type": "code",
   "execution_count": 13,
   "metadata": {
    "vscode": {
     "languageId": "java"
    }
   },
   "outputs": [
    {
     "name": "stdout",
     "output_type": "stream",
     "text": [
      "Elements of array sorted in ascending order: \n",
      "-9 -5 1 3 8 12 \n"
     ]
    }
   ],
   "source": [
    "class Main {\n",
    " \n",
    "    static int length;\n",
    " \n",
    "    public static void printArray(int[] array)\n",
    "    {\n",
    "      \n",
    "        for (int i = 0; i < length; i++) {\n",
    "            System.out.print(array[i] + \" \");\n",
    "        }\n",
    "        System.out.println();\n",
    "    }\n",
    "\n",
    "    public static void sortArray(int[] array)\n",
    "    {\n",
    "        int temporary = 0;\n",
    "\n",
    "        for (int i = 0; i < length; i++) {\n",
    "            for (int j = i + 1; j < length; j++) {\n",
    "                if (array[i] > array[j]) {\n",
    "                    temporary = array[i];\n",
    "                    array[i] = array[j];\n",
    "                    array[j] = temporary;\n",
    "                }\n",
    "            }\n",
    "        }\n",
    "\n",
    "        System.out.println(\n",
    "            \"Elements of array sorted in ascending order: \");\n",
    "        printArray(array);\n",
    "    }\n",
    "\n",
    "    public static void main(String[] args)\n",
    "    {\n",
    "\n",
    "        int[] array = new int[] { -5, -9, 8, 12, 1, 3 };\n",
    "\n",
    "        length = array.length;\n",
    "\n",
    "        sortArray(array);\n",
    "    }\n",
    "}\n",
    "Main.main(null);"
   ]
  },
  {
   "cell_type": "markdown",
   "metadata": {},
   "source": [
    "## Enhanced for loops for arrays\n",
    "- are for loops that can only go forward"
   ]
  },
  {
   "cell_type": "code",
   "execution_count": null,
   "metadata": {
    "vscode": {
     "languageId": "java"
    }
   },
   "outputs": [],
   "source": [
    "for (dataType i: arrayName) {\n",
    "  System.out.print(\"hi\");\n",
    "}"
   ]
  },
  {
   "cell_type": "markdown",
   "metadata": {},
   "source": [
    "## Making algorithms with arrays"
   ]
  },
  {
   "cell_type": "markdown",
   "metadata": {},
   "source": [
    "- use array.length to find number of elements in an array\n",
    "- to find a specific element, do arrayname[element number]\n"
   ]
  },
  {
   "cell_type": "markdown",
   "metadata": {},
   "source": [
    "ie: finding sum"
   ]
  },
  {
   "cell_type": "code",
   "execution_count": 15,
   "metadata": {
    "vscode": {
     "languageId": "java"
    }
   },
   "outputs": [
    {
     "name": "stdout",
     "output_type": "stream",
     "text": [
      "26\n"
     ]
    }
   ],
   "source": [
    "int[] array = {3, 2, 4, 17};\n",
    "\n",
    "int sum  = 0; \n",
    "\n",
    "for (int number: array) { \n",
    "    sum += number; \n",
    "}\n",
    "\n",
    "System.out.println(sum);"
   ]
  },
  {
   "cell_type": "markdown",
   "metadata": {},
   "source": [
    "### frq"
   ]
  },
  {
   "cell_type": "code",
   "execution_count": 16,
   "metadata": {
    "vscode": {
     "languageId": "java"
    }
   },
   "outputs": [],
   "source": [
    "public void addMembers(String[] names, int gradYear)\n",
    "{\n",
    "  for(String name : names)\n",
    "    memberList.add(new MemberInfo(name, gradYear, true));\n",
    "}"
   ]
  }
 ],
 "metadata": {
  "kernelspec": {
   "display_name": "Java",
   "language": "java",
   "name": "java"
  },
  "language_info": {
   "codemirror_mode": "java",
   "file_extension": ".jshell",
   "mimetype": "text/x-java-source",
   "name": "Java",
   "pygments_lexer": "java",
   "version": "17.0.5+8-Ubuntu-2ubuntu120.04"
  },
  "orig_nbformat": 4,
  "vscode": {
   "interpreter": {
    "hash": "916dbcbb3f70747c44a77c7bcd40155683ae19c65e1c03b4aa3499c5328201f1"
   }
  }
 },
 "nbformat": 4,
 "nbformat_minor": 2
}
