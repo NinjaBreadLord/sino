{
 "cells": [
  {
   "cell_type": "markdown",
   "metadata": {},
   "source": [
    "# Unit 8 - 2D Arrays\n",
    "> Notes, Hacks, and HW for 2D Arrays.\n",
    "\n",
    "- toc: true \n",
    "- badges: true\n",
    "- comments: true\n",
    "- categories: [jupyter]\n",
    "- title: Unit 8 - 2D Arrays"
   ]
  },
  {
   "cell_type": "markdown",
   "metadata": {},
   "source": [
    "## Some Vocab:\n",
    "- Array = a data structure used to implement a collection (list) of primitive or object reference data\n",
    "- Element = a single value in the array\n",
    "- Index = the position of the element in the array (starts from 0)\n",
    "- Array Length = the number of elements in the array\n",
    "    - Is public, so can be accessed in any class\n",
    "    - Is also final, so can’t change it after array has been created"
   ]
  },
  {
   "cell_type": "markdown",
   "metadata": {},
   "source": [
    "- ## Declaring a 2D array:\n",
    "    - `DataType[][] nameOf2DArray`\n",
    "- ## Initializing a 2D array\n",
    "    - `DataType[][] nameOf2DArray = new DataType[r][c];`\n",
    "         - r = # of rows \n",
    "            - The # of arrays in the array\n",
    "            - `r = list.length`\n",
    "        - c = # of columns\n",
    "            - The # of elements in the inner arrays\n",
    "            - `c = list[0].length`"
   ]
  },
  {
   "cell_type": "markdown",
   "metadata": {},
   "source": [
    "## Accessing and Updating Elements of a 2D Array:\n",
    "- `nameOf2DArray[r][c]`\n",
    "\n",
    "### Hack 1: Access the last element of the 2D Array list:"
   ]
  },
  {
   "cell_type": "code",
   "execution_count": 2,
   "metadata": {
    "vscode": {
     "languageId": "java"
    }
   },
   "outputs": [
    {
     "name": "stdout",
     "output_type": "stream",
     "text": [
      "i"
     ]
    }
   ],
   "source": [
    "public class Test {\n",
    "\n",
    "    public static void main(String[] args) {\n",
    " \n",
    "      String[][] arr = {\n",
    "         { \"a\", \"f\", \"g\" },\n",
    "         { \"b\", \"e\", \"h\" },\n",
    "         { \"c\", \"d\", \"i\" }\n",
    "      };\n",
    "\n",
    "      System.out.print(arr[2][2]);\n",
    " \n",
    "      // Print the last element in the array!\n",
    "       \n",
    "    }\n",
    " \n",
    " }\n",
    " Test.main(null);"
   ]
  },
  {
   "cell_type": "markdown",
   "metadata": {},
   "source": [
    "### Hack 2: Changing a Value:"
   ]
  },
  {
   "cell_type": "code",
   "execution_count": 1,
   "metadata": {
    "vscode": {
     "languageId": "java"
    }
   },
   "outputs": [
    {
     "name": "stdout",
     "output_type": "stream",
     "text": [
      "Change Austin to Athens and print!\n",
      "Athens\n"
     ]
    }
   ],
   "source": [
    "public class Test {\n",
    "\n",
    "    public static void main(String[] args) {\n",
    " \n",
    "      String[][] arr = {\n",
    "         { \"Atlanta\", \"Baltimore\", \"Chicago\" },\n",
    "         { \"Australia\", \"Boston\", \"Cincinnati\" },\n",
    "         { \"Austin\", \"Beaumont\", \"Columbus\" }\n",
    "      };\n",
    " \n",
    "       // Change Austin to Athens and print!\n",
    "       System.out.println(\"Change Austin to Athens and print!\");\n",
    "      \n",
    "       if(arr[2][0] == \"Austin\") {\n",
    "         arr[2][0] = \"Athens\";\n",
    "       }\n",
    "\n",
    "       System.out.println(arr[2][0]);\n",
    "    }\n",
    " \n",
    " }\n",
    " Test.main(null);"
   ]
  },
  {
   "cell_type": "markdown",
   "metadata": {},
   "source": [
    "## Nested Loops:\n",
    "- to print out an array, use nested loop which is a for loop within another"
   ]
  },
  {
   "cell_type": "code",
   "execution_count": 36,
   "metadata": {
    "vscode": {
     "languageId": "java"
    }
   },
   "outputs": [
    {
     "name": "stdout",
     "output_type": "stream",
     "text": [
      "a f g l  \n",
      "b e h k  \n",
      "c d i j  \n"
     ]
    }
   ],
   "source": [
    "public class Test {\n",
    "\n",
    "    public static void main(String[] args) {\n",
    " \n",
    "      String[][] arr = { //making a 2d array\n",
    "         { \"a\", \"f\", \"g\", \"l\" },\n",
    "         { \"b\", \"e\", \"h\", \"k\" },\n",
    "         { \"c\", \"d\", \"i\", \"j\" }\n",
    "      };\n",
    " \n",
    "      for (int row = 0; row < 3; row++) { //nested for loop here, where the columns are printed by rows\n",
    "         for (int col = 0; col < 4; col++) {\n",
    "            System.out.print(arr[row][col] + \" \");\n",
    "         }\n",
    "        System.out.println(\" \");\n",
    "      }\n",
    "       \n",
    "    }\n",
    " \n",
    " }\n",
    " Test.main(null);"
   ]
  },
  {
   "cell_type": "markdown",
   "metadata": {},
   "source": [
    "\n",
    "### Hack 3: Unknown Dimensions:"
   ]
  },
  {
   "cell_type": "code",
   "execution_count": 2,
   "metadata": {
    "vscode": {
     "languageId": "java"
    }
   },
   "outputs": [
    {
     "name": "stdout",
     "output_type": "stream",
     "text": [
      "Atlanta Baltimore Chicago  \n",
      "Australia Boston Cincinnati  \n",
      "Austin Beaumont Columbus  \n"
     ]
    }
   ],
   "source": [
    "public class Test {\n",
    "\n",
    "   public static void main(String[] args) {\n",
    "\n",
    "      String[][] arr = {\n",
    "         { \"Atlanta\", \"Baltimore\", \"Chicago\" },\n",
    "         { \"Australia\", \"Boston\", \"Cincinnati\" },\n",
    "         { \"Austin\", \"Beaumont\", \"Columbus\" }\n",
    "      };\n",
    "\n",
    "      for(int i = 0; i < arr.length; i++) {\n",
    "         for(int j = 0; j < arr.length; j++) {\n",
    "            System.out.print(arr[i][j] + \" \");\n",
    "         }\n",
    "         System.out.println(\" \");\n",
    "      }\n",
    "      \n",
    "      \n",
    "   }\n",
    "\n",
    "}\n",
    "Test.main(null);"
   ]
  },
  {
   "cell_type": "markdown",
   "metadata": {},
   "source": [
    "## Searching for a Value in a 2D Array:\n",
    "### enhanced for loop\n",
    "- used to traverse through 2d arrays or collections, can only go up by 1 and only forward\n",
    "### .equals method\n",
    "- checks if something is equal to another"
   ]
  },
  {
   "cell_type": "code",
   "execution_count": 5,
   "metadata": {
    "vscode": {
     "languageId": "java"
    }
   },
   "outputs": [
    {
     "name": "stdout",
     "output_type": "stream",
     "text": [
      "Boston\n"
     ]
    }
   ],
   "source": [
    "public class Test {\n",
    "\n",
    "    public static void main(String[] args) {\n",
    "  \n",
    "        String[][] arr = {\n",
    "            { \"Atlanta\", \"Baltimore\", \"Chicago\" },\n",
    "            { \"Australia\", \"Boston\", \"Cincinnati\" },\n",
    "            { \"Austin\", \"Beaumont\", \"Columbus\" }\n",
    "        };\n",
    "\n",
    "        String match = \"\";\n",
    "        String name = \"Boston\";\n",
    "        for (String[] row : arr) { //for each or enhanced loop used\n",
    "            for (String item : row) {\n",
    "                if (item.equals(name)) { //.equals method to check if item is equal to name\n",
    "                    match = name;\n",
    "                }\n",
    "            }\n",
    "        }\n",
    "\n",
    "        if (match.length() == 0) {\n",
    "            System.out.println(\"No Match!\");\n",
    "        } else {\n",
    "            System.out.println(name);\n",
    "        }\n",
    "        \n",
    "    }\n",
    " \n",
    " }\n",
    "Test.main(null);"
   ]
  },
  {
   "cell_type": "markdown",
   "metadata": {},
   "source": [
    "### Hack 4"
   ]
  },
  {
   "cell_type": "code",
   "execution_count": 6,
   "metadata": {
    "vscode": {
     "languageId": "java"
    }
   },
   "outputs": [
    {
     "name": "stdout",
     "output_type": "stream",
     "text": [
      "Longest string: Cincinnati\n"
     ]
    }
   ],
   "source": [
    "public class Test {\n",
    "\n",
    "  public static void main(String[] args) {\n",
    "\n",
    "      String[][] arr = {\n",
    "          { \"Atlanta\", \"Baltimore\", \"Chicago\" },\n",
    "          { \"Australia\", \"Boston\", \"Cincinnati\" },\n",
    "          { \"Austin\", \"Beaumont\", \"Columbus\" }\n",
    "      };\n",
    "\n",
    "      String longest = arr[0][0];\n",
    "\n",
    "      for(int i = 0; i < arr.length; i++) {\n",
    "          for(int j = 0; j < arr[i].length; j++) { //loops through with nested for loop\n",
    "              if (arr[i][j].length() > longest.length()) { //checks length if word, if longer then it replaces \n",
    "                  longest = arr[i][j];\n",
    "              }\n",
    "          }\n",
    "       }\n",
    "\n",
    "      \n",
    "\n",
    "      System.out.println(\"Longest string: \" + longest);\n",
    "\n",
    "  }\n",
    "\n",
    "}\n",
    "Test.main(null);"
   ]
  },
  {
   "cell_type": "markdown",
   "metadata": {},
   "source": [
    "## HW FRQ\n"
   ]
  },
  {
   "cell_type": "markdown",
   "metadata": {},
   "source": [
    "### 4a\n"
   ]
  },
  {
   "cell_type": "code",
   "execution_count": null,
   "metadata": {
    "vscode": {
     "languageId": "java"
    }
   },
   "outputs": [],
   "source": [
    "public static Position findPosition(int num, int[][] intArr)\n",
    "{\n",
    "  for(int r = 0; r < intArr.length; r++)\n",
    "    for(int c = 0; c < intArr[0].length; c++)\n",
    "      if(intArr[r][c] == num)\n",
    "        return new Position(r, c);\n",
    "\n",
    "  return null;\n",
    "}\n"
   ]
  },
  {
   "cell_type": "markdown",
   "metadata": {},
   "source": [
    "### 4b"
   ]
  },
  {
   "cell_type": "code",
   "execution_count": null,
   "metadata": {
    "vscode": {
     "languageId": "java"
    }
   },
   "outputs": [],
   "source": [
    "public static Position[][] getSuccessorArray(int[][] intArr)\n",
    "{\n",
    "  Position[][] successors = new Position[intArr.length][intArr[0].length];\n",
    "\n",
    "  for(int r = 0; r < successors.length; r++)\n",
    "    for(int c = 0; c < successors[0].length; c++)\n",
    "      successors[r][c] = findPosition(intArr[r][c] + 1, intArr);\n",
    "\n",
    "  return successors;\n",
    "}"
   ]
  }
 ],
 "metadata": {
  "kernelspec": {
   "display_name": "Java",
   "language": "java",
   "name": "java"
  },
  "language_info": {
   "codemirror_mode": "java",
   "file_extension": ".jshell",
   "mimetype": "text/x-java-source",
   "name": "Java",
   "pygments_lexer": "java",
   "version": "17.0.5+8-Ubuntu-2ubuntu120.04"
  },
  "orig_nbformat": 4,
  "vscode": {
   "interpreter": {
    "hash": "fb105577493444c5032679e33bb5d5b8088492bef3ae548646e733454240bf9c"
   }
  }
 },
 "nbformat": 4,
 "nbformat_minor": 2
}
