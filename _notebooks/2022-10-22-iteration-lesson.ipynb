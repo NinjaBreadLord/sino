{
 "cells": [
  {
   "cell_type": "markdown",
   "metadata": {},
   "source": [
    "# Iteration HW\n",
    "\n",
    "- toc: false\n",
    "- badges: true\n",
    "- comments: true\n",
    "- author: Samuel\n",
    "- categories: [fastpages, pbl]\n",
    "- image: images/picture.jpg\n",
    "\n",
    "\n",
    "Iteration HW"
   ]
  },
  {
   "cell_type": "code",
   "execution_count": 2,
   "metadata": {},
   "outputs": [
    {
     "name": "stdout",
     "output_type": "stream",
     "text": [
      "[d, e, f, g, h, i, j, k, l, m, n, o, p, q, r, s, t, u, v, w, x, y, z, a, b, c]\n",
      " NiceWjobX\n",
      " codeWcodeWcode\n",
      " supercalifragilisticexpialidocious\n"
     ]
    }
   ],
   "source": [
    "public class CaesarCipher {\n",
    "\n",
    "\n",
    "    public static void main(String[] args) {\n",
    "\n",
    "        String[] letters = {\"a\", \"b\", \"c\", \"d\", \"e\", \"f\", \"g\", \"h\", \"i\", \"j\", \"k\", \"l\", \"m\", \"n\", \"o\", \"p\", \"q\", \"r\", \"s\", \"t\", \"u\", \"v\", \"w\", \"x\", \"y\", \"z\"};\n",
    "        String message1 = \"Kfzb gly!\";\n",
    "        String message2 = \"zlab zlab zlab\";\n",
    "        String message3 = \"prmbozxifcoxdfifpqfzbumfxifalzflrp\";\n",
    "        ArrayList<String> caesar = new ArrayList<String>();\n",
    "        for (int i = 0; i < letters.length; i++) {\n",
    "            int d = 0;\n",
    "            if (i < 23) { \n",
    "                caesar.add(letters[i+3]);\n",
    "            }\n",
    "            else {\n",
    "                caesar.add(letters[i+3-26]);\n",
    "            }\n",
    "\n",
    "        }\n",
    "        String message11 = \" \";\n",
    "        for (char c : message1.toCharArray()) {\n",
    "                message11 += Character.toString((char) (((c - 'a' + 3) % 26) + 'a'));\n",
    "        }\n",
    "        String message22 = \" \";\n",
    "        for (char c : message2.toCharArray()) {\n",
    "                message22 += Character.toString((char) (((c - 'a' + 3) % 26) + 'a'));\n",
    "        }\n",
    "        String message33 = \" \";\n",
    "        for (char c : message3.toCharArray()) {\n",
    "                message33 += Character.toString((char) (((c - 'a' + 3) % 26) + 'a'));\n",
    "        }\n",
    "        System.out.println(caesar);\n",
    "        System.out.println(message11);\n",
    "        System.out.println(message22);\n",
    "        System.out.println(message33);\n",
    "        \n",
    "        \n",
    "\n",
    "\n",
    "    }\n",
    "}\n",
    "CaesarCipher.main(null);"
   ]
  }
 ],
 "metadata": {
  "kernelspec": {
   "display_name": "Java",
   "language": "java",
   "name": "java"
  },
  "language_info": {
   "codemirror_mode": "java",
   "file_extension": ".jshell",
   "mimetype": "text/x-java-source",
   "name": "java",
   "pygments_lexer": "java",
   "version": "11.0.16+8-post-Ubuntu-0ubuntu120.04"
  },
  "orig_nbformat": 4
 },
 "nbformat": 4,
 "nbformat_minor": 2
}
