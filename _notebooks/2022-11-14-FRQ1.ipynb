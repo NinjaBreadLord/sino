{
 "cells": [
  {
   "cell_type": "markdown",
   "metadata": {},
   "source": [
    "# FRQ 1\n",
    "\n",
    "- toc: false\n",
    "- badges: true\n",
    "- comments: true\n",
    "- author: Samuel\n",
    "- categories: [fastpages, CB]\n",
    "- image: images/picture.jpg\n",
    "\n",
    "\n",
    "FRQ1"
   ]
  },
  {
   "cell_type": "code",
   "execution_count": 6,
   "metadata": {
    "vscode": {
     "languageId": "java"
    }
   },
   "outputs": [
    {
     "name": "stdout",
     "output_type": "stream",
     "text": [
      "46"
     ]
    }
   ],
   "source": [
    "\n",
    "    Double number = 53466;\n",
    "    Double firstDigit = Double.parseInt(Double.toString(number).substring(2, 4));\n",
    "    System.out.prDouble(firstDigit);"
   ]
  },
  {
   "cell_type": "code",
   "execution_count": 35,
   "metadata": {
    "vscode": {
     "languageId": "java"
    }
   },
   "outputs": [
    {
     "name": "stdout",
     "output_type": "stream",
     "text": [
      "19.0\n",
      "10.0\n",
      "1.6500000000000021"
     ]
    }
   ],
   "source": [
    "Double year = 1911.0;\n",
    "Double century = Double.parseDouble(Double.toString(year).substring(0, 2));\n",
    "System.out.println(C);\n",
    "\n",
    "Double year2 = Double.parseDouble(Double.toString(year).substring(2, 4));\n",
    "year2 = year2 - 1;\n",
    "System.out.println(year2);\n",
    "Double dayofweek = (1 + ((2.6*11)-0.2)-(2 * century) + year2 + (year2/4) + (century/4)) % 7;\n",
    "System.out.print(dayofweek)"
   ]
  },
  {
   "cell_type": "code",
   "execution_count": 47,
   "metadata": {
    "vscode": {
     "languageId": "java"
    }
   },
   "outputs": [
    {
     "name": "stdout",
     "output_type": "stream",
     "text": [
      "1\n"
     ]
    }
   ],
   "source": [
    "import java.util.Calendar;  \n",
    "public class main {  \n",
    "    public static void main(String[] args) { \n",
    "        int year = 2019; \n",
    "        Calendar calobj = Calendar.getInstance();    \n",
    "                  \n",
    "                calobj.add(Calendar.YEAR, year);  \n",
    "                 calobj.add(Calendar.MONTH, 1);  \n",
    "                  calobj.add(Calendar.DAY_OF_WEEK, 1);  \n",
    "                    \n",
    "                  System.out.println(calobj.getFirstDayOfWeek());  \n",
    "    }  \n",
    "}  \n",
    "main.main(null);"
   ]
  },
  {
   "cell_type": "code",
   "execution_count": 11,
   "metadata": {
    "vscode": {
     "languageId": "java"
    }
   },
   "outputs": [
    {
     "name": "stdout",
     "output_type": "stream",
     "text": [
      "Fri Dec 18 10:45:58 PST 4043\n",
      "5\n"
     ]
    }
   ],
   "source": [
    "import java.util.Calendar;  \n",
    "public class JavaCalendargetFirstDayOfWeekExample1 {  \n",
    "    public static void main(String[] args) {  \n",
    "        Calendar calenobj = Calendar.getInstance();     \n",
    "        calenobj.add(Calendar.YEAR, 2021);  \n",
    "        calenobj.add(Calendar.MONTH, 1);  \n",
    "        calenobj.add(Calendar.DAY_OF_WEEK, 1);  \n",
    "        // Map<String, String> days2 = new HashMap<String, String>();\n",
    "        Map<String, Integer> map = new HashMap<String, Integer>(){{\n",
    "            put(\"Sun\",0);\n",
    "            put(\"Mon\",1);\n",
    "            put(\"Tue\",2);\n",
    "            put(\"Wed\",3);\n",
    "            put(\"Thu\",4);\n",
    "            put(\"Fri\",5);\n",
    "            put(\"Sat\",6);        \n",
    "        }};\n",
    "        String day = (calenobj.getTime()).toString();\n",
    "        System.out.println(day);\n",
    "        String days = day.substring(0,3);\n",
    "        System.out.println(map.get(days));\n",
    "    }  \n",
    "}  \n",
    "JavaCalendargetFirstDayOfWeekExample1.main(null);"
   ]
  },
  {
   "cell_type": "code",
   "execution_count": null,
   "metadata": {
    "vscode": {
     "languageId": "java"
    }
   },
   "outputs": [],
   "source": [
    "Map<String, String> days = new HashMap<String, String>();\n",
    "Map<String, String> days = Map.of(\"Sun\", \"0\", \"Mon\", \"1\", \"Tue\", \"2\",\"Wed\",\"3\",\"Thu\",\"4\",\"Fri\",\"5\",\"Sat\",\"6\");\n",
    "\n",
    "System.out.println(map.get(\"dog\"));"
   ]
  },
  {
   "cell_type": "code",
   "execution_count": 21,
   "metadata": {
    "vscode": {
     "languageId": "java"
    }
   },
   "outputs": [
    {
     "name": "stdout",
     "output_type": "stream",
     "text": [
      "30.0"
     ]
    }
   ],
   "source": [
    "Double cg = 93.0;\n",
    "Double tp = 30.0;\n",
    "Double tg = 90.0;\n",
    "Double tpt = 100.0;\n",
    "Double fp = 50.0;\n",
    "Double dg = 90.0;\n",
    "\n",
    "\n",
    "\n",
    "Double otherPoint = cg - (tg*(tp/100));\n",
    "Double needed = (((dg - otherPoint) * (tpt+fp))/tp)-tg;\n",
    "System.out.print(needed);\n"
   ]
  }
 ],
 "metadata": {
  "kernelspec": {
   "display_name": "Java",
   "language": "java",
   "name": "java"
  },
  "language_info": {
   "codemirror_mode": "java",
   "file_extension": ".jshell",
   "mimetype": "text/x-java-source",
   "name": "Java",
   "pygments_lexer": "java",
   "version": "17.0.5+8-Ubuntu-2ubuntu120.04"
  },
  "orig_nbformat": 4,
  "vscode": {
   "interpreter": {
    "hash": "916dbcbb3f70747c44a77c7bcd40155683ae19c65e1c03b4aa3499c5328201f1"
   }
  }
 },
 "nbformat": 4,
 "nbformat_minor": 2
}
