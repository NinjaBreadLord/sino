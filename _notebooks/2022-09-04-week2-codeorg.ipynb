{
 "cells": [
  {
   "cell_type": "markdown",
   "metadata": {},
   "source": [
    "# Code.org Notebook\n",
    "\n",
    "- toc: false\n",
    "- badges: true\n",
    "- comments: true\n",
    "- author: Samuel\n",
    "- categories: [CB, jupyter]\n",
    "- image: images/codeorg.png\n",
    "\n",
    "code.org notebook"
   ]
  },
  {
   "cell_type": "markdown",
   "metadata": {},
   "source": [
    "![](https://github.com/Samuelwaang/samuel/blob/master/images/6-15.png?raw=true)"
   ]
  },
  {
   "cell_type": "markdown",
   "metadata": {},
   "source": [
    "### Code.org notes"
   ]
  },
  {
   "cell_type": "markdown",
   "metadata": {},
   "source": [
    "class, instantiate object, while loop"
   ]
  },
  {
   "cell_type": "code",
   "execution_count": null,
   "metadata": {},
   "outputs": [],
   "source": [
    "public class MyNeighborhood { //makes a class that is public, allows it to be accessed by any class\n",
    "    public static void main(String[] args) { //starts the running of a java program \n",
    "\n",
    "      \n",
    "      Painter PainterPlus = new Painter(); // Instantiates an object (Painter) for class PainterPlus.\n",
    "\n",
    "      while (myPainterPlus.isOnBucket()) { //while loop that takes paint from a bucket over and over again, as long as the painter is on the bucket\n",
    "        myPainterPlus.takePaint();\n",
    "      }\n",
    "    }\n",
    "}            \n",
    "\n"
   ]
  },
  {
   "cell_type": "markdown",
   "metadata": {},
   "source": [
    "extends, super(), make method"
   ]
  },
  {
   "cell_type": "code",
   "execution_count": null,
   "metadata": {},
   "outputs": [],
   "source": [
    "public class PainterPlus extends Painter { //\"extends\" extends a class, so in this case it extends Painter \n",
    "\n",
    "    public PainterPlus() {\n",
    "      super(); // super is reference variable to parent class, used to access variable, method, constructor, in base class from derived class\n",
    "    }\n",
    "  \n",
    "    public void turnRight() { //making method turnRight\n",
    "      turnLeft();\n",
    "      turnLeft();\n",
    "      turnLeft();\n",
    "    }\n",
    "\n",
    "    public void moveOrTakePaint() { // if else method\n",
    "      if (canMove()) {\n",
    "        move();\n",
    "      }\n",
    "      else { \n",
    "        while (isOnBucket()) {\n",
    "          takePaint();\n",
    "        }\n",
    "      }  \n",
    "      \n",
    "    }\n",
    "  }\n",
    "\n",
    "    "
   ]
  },
  {
   "cell_type": "markdown",
   "metadata": {},
   "source": [
    "some notes"
   ]
  },
  {
   "cell_type": "markdown",
   "metadata": {},
   "source": [
    "- algorithm: instructions to complete task\n",
    "- method signature: has name and parameter list\n",
    "- ! operator: returns opposite of what is inputted(ie: input of true would output false)\n",
    "- concatenation: join 2 strings together\n",
    "- edge case: bug at highest/lowest end of a range of values "
   ]
  }
 ],
 "metadata": {
  "kernelspec": {
   "display_name": "Java",
   "language": "java",
   "name": "java"
  },
  "language_info": {
   "name": "java"
  },
  "orig_nbformat": 4
 },
 "nbformat": 4,
 "nbformat_minor": 2
}
