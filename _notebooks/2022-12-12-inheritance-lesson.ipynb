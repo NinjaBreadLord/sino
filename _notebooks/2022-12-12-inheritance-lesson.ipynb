{
 "cells": [
  {
   "cell_type": "markdown",
   "metadata": {},
   "source": [
    "# Unit 9 - Inheritance\n",
    "> Unit 9 Lesson\n",
    "\n",
    "- toc: true \n",
    "- comments: true\n",
    "- categories: [cb]\n",
    "- title: Unit 9 - Inheritance"
   ]
  },
  {
   "cell_type": "markdown",
   "metadata": {},
   "source": [
    "# Vocab"
   ]
  },
  {
   "cell_type": "markdown",
   "metadata": {},
   "source": [
    "- constructor: Where the attributes of a class are defined\n",
    "- Overriding: allows a subclass or child class to provide a specific implementation of a method that has already been provided by a super-classes or   parent classes. When a method in a subclass has the same name, same parameters or signature, and same return type (or sub-type) as a method in its  super-class, then the method in the subclass will override the method in the super-class.\n",
    "- Polymorphism: running mutliple things at once with the same name, can be done with different amounts of parameters in method\n",
    "- toString method defines and JSONify's data\n",
    "- protected is an access modifier so that the attribute isn't affected by outside modifiers.\n",
    "- to use constructor of superclass in subclass, need to use super keyword, allowing use of constructors that were made in the superclass"
   ]
  },
  {
   "cell_type": "markdown",
   "metadata": {},
   "source": [
    "# Hack 1"
   ]
  },
  {
   "cell_type": "markdown",
   "metadata": {},
   "source": [
    "In your own notebook, make any class with 2 attributes and 0 methods. Create a 2 argument constructor for that class. This will be your **superclass**. Now, create a **subclass** that extends from the superclass you made. Create 1 additional attribute in your subclass that was not present in the superclass. "
   ]
  },
  {
   "cell_type": "markdown",
   "metadata": {},
   "source": [
    "Then, create a constructor for the subclass that uses the superclass constructor with the **super** keyword, and then adds an additional assignment for the third attribute."
   ]
  },
  {
   "cell_type": "code",
   "execution_count": 3,
   "metadata": {
    "vscode": {
     "languageId": "java"
    }
   },
   "outputs": [],
   "source": [
    "public class Animal {\n",
    "    protected double mass; //protected so the attribute isn't modified outside by outside modifiers\n",
    "    protected double lifespan;\n",
    "    public Animal(double mass, double lifespan) { //constructor with parameters of mass and lifespan\n",
    "        this.mass = mass;\n",
    "        this.lifespan = lifespan;\n",
    "    }\n",
    "\n",
    "    public class Dog extends Animal { //extends superclass into dog subclass\n",
    "    \n",
    "        protected String color; \n",
    "        \n",
    "        public Dog(double mass, double lifespan, String color) { //another constructor\n",
    "            super(mass, lifespan);\n",
    "            this.color = color;\n",
    "        }\n",
    "    }\n",
    "}"
   ]
  },
  {
   "cell_type": "markdown",
   "metadata": {},
   "source": [
    "# Hack 2"
   ]
  },
  {
   "cell_type": "markdown",
   "metadata": {},
   "source": [
    "Add a method to the superclass you created before. This method should be very general; it should only have functionality that you know for sure will be needed in almost every single subclass. In your subclass, **override** this method. Remember that overriding the method will give your subclass the specific functionality it needs from that method."
   ]
  },
  {
   "cell_type": "code",
   "execution_count": 1,
   "metadata": {
    "vscode": {
     "languageId": "java"
    }
   },
   "outputs": [],
   "source": [
    "public class Animal {\n",
    "    protected double mass;\n",
    "    protected double lifespan;\n",
    "    public Animal(double mass, double lifespan) {\n",
    "        this.mass = mass;\n",
    "        this.lifespan = lifespan;\n",
    "    }\n",
    "    public void sound() {\n",
    "        System.out.println(\"sound\");\n",
    "    }\n",
    "\n",
    "    public class Dog extends Animal {\n",
    "    \n",
    "        protected String color; \n",
    "        \n",
    "        public Dog(double mass, double lifespan, String color) {\n",
    "            super(mass, lifespan);\n",
    "            this.color = color;\n",
    "        }\n",
    "        @Override\n",
    "        public void sound() { //overrides the sound method, by printing woof instead of sound\n",
    "            System.out.println(\"woof\");\n",
    "        }\n",
    "    }\n",
    "}"
   ]
  },
  {
   "cell_type": "markdown",
   "metadata": {},
   "source": [
    "- polymorphism allows doing a bunch of this in a bunch of ways with inheritance\n",
    "- runtime polymorphism is method overriding\n",
    "- having two methods with same name but different args and functionalities is method overloading, called static polymorphism\n",
    "- early binding is when compiler decides method to be called"
   ]
  },
  {
   "cell_type": "markdown",
   "metadata": {},
   "source": [
    "# Hack 3"
   ]
  },
  {
   "cell_type": "markdown",
   "metadata": {},
   "source": [
    "Create another subclass from your original superclass. Now, implement **method overloading** in this subclass. Remember that this means having two methods with the same name, but with different arguments. The method you are using for method overloading doesn't have to exist in the superclass. This will implement **Static Polymorphism**. "
   ]
  },
  {
   "cell_type": "markdown",
   "metadata": {},
   "source": [
    "Next, override the method in your superclass in your new subclass. Make sure it has different functionality than your method in the other subclass. This will implement **Runtime Polymorphism**."
   ]
  },
  {
   "cell_type": "code",
   "execution_count": 9,
   "metadata": {
    "vscode": {
     "languageId": "java"
    }
   },
   "outputs": [],
   "source": [
    "public class Animal {\n",
    "    protected double mass;\n",
    "    protected double lifespan;\n",
    "    public Animal(double mass, double lifespan) {\n",
    "        this.mass = mass;\n",
    "        this.lifespan = lifespan;\n",
    "    }\n",
    "    public void sound() {\n",
    "        System.out.println(\"sound\");\n",
    "    }\n",
    "\n",
    "    public void die(boolean a) {\n",
    "        System.out.println(\"the cat is dead: \" + a); //method to be overloaded\n",
    "    }\n",
    "    public class Dog extends Animal {\n",
    "    \n",
    "        protected String color; \n",
    "        \n",
    "        public Dog(double mass, double lifespan, String color) {\n",
    "            super(mass, lifespan);\n",
    "            this.color = color;\n",
    "        }\n",
    "        @Override\n",
    "        public void sound() {\n",
    "            System.out.println(\"woof\");\n",
    "        }\n",
    "    }\n",
    "    public class Cat extends Animal { //make  another subclass for Cat that extends off of Animal \n",
    "    \n",
    "        protected String breed; \n",
    "        \n",
    "        public Cat(double mass, double lifespan, String breed) {\n",
    "            super(mass, lifespan);\n",
    "            this.breed = breed;\n",
    "        }\n",
    "        @Override\n",
    "        public void sound() { //overrides the sound\n",
    "            System.out.println(\"meow\");\n",
    "        }\n",
    "\n",
    "        public void die(boolean a, boolean b) { //method overloading\n",
    "            System.out.println(\"the cat is dead: \" + a + b);\n",
    "        }\n",
    "    }\n",
    "}\n"
   ]
  },
  {
   "cell_type": "markdown",
   "metadata": {},
   "source": [
    "equals Method\n",
    "\n",
    "- Compares two strings\n",
    "- Returns a boolean value of true if equal, otherwise returns false\n"
   ]
  },
  {
   "cell_type": "markdown",
   "metadata": {},
   "source": [
    "toString method example, which prints out the attributes of object\n"
   ]
  },
  {
   "cell_type": "code",
   "execution_count": null,
   "metadata": {
    "vscode": {
     "languageId": "java"
    }
   },
   "outputs": [],
   "source": [
    "\n",
    "public String dayOfWeekToString() {\n",
    "    return (\"{ \\\"month\\\": \" + this.month + \", \" + \"\\\"day\\\": \" + this.day + \", \" + \"\\\"year\\\": \" + this.year + \", \"\n",
    "          + \"\\\"dayOfWeek\\\": \" + this.dayOfWeek + \" }\");\n",
    " }\n",
    "\n",
    "\n",
    "public String toString() {\n",
    "    return dayOfWeekToString();\n",
    " }"
   ]
  }
 ],
 "metadata": {
  "kernelspec": {
   "display_name": "Java",
   "language": "java",
   "name": "java"
  },
  "language_info": {
   "codemirror_mode": "java",
   "file_extension": ".jshell",
   "mimetype": "text/x-java-source",
   "name": "Java",
   "pygments_lexer": "java",
   "version": "17.0.5+8-Ubuntu-2ubuntu120.04"
  },
  "vscode": {
   "interpreter": {
    "hash": "aee8b7b246df8f9039afb4144a1f6fd8d2ca17a180786b69acc140d282b71a49"
   }
  }
 },
 "nbformat": 4,
 "nbformat_minor": 2
}
